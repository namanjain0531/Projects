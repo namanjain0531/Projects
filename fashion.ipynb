{
  "nbformat": 4,
  "nbformat_minor": 0,
  "metadata": {
    "colab": {
      "name": "fashion.ipynb",
      "provenance": []
    },
    "kernelspec": {
      "name": "python3",
      "display_name": "Python 3"
    },
    "accelerator": "GPU"
  },
  "cells": [
    {
      "cell_type": "code",
      "metadata": {
        "id": "3KOKYNHASiAH",
        "colab_type": "code",
        "colab": {
          "base_uri": "https://localhost:8080/",
          "height": 122
        },
        "outputId": "14f46d78-5bf9-4ccc-d07e-060a7232c530"
      },
      "source": [
        "from google.colab import drive\n",
        "drive.mount('/content/drive/')"
      ],
      "execution_count": 1,
      "outputs": [
        {
          "output_type": "stream",
          "text": [
            "Go to this URL in a browser: https://accounts.google.com/o/oauth2/auth?client_id=947318989803-6bn6qk8qdgf4n4g3pfee6491hc0brc4i.apps.googleusercontent.com&redirect_uri=urn%3aietf%3awg%3aoauth%3a2.0%3aoob&response_type=code&scope=email%20https%3a%2f%2fwww.googleapis.com%2fauth%2fdocs.test%20https%3a%2f%2fwww.googleapis.com%2fauth%2fdrive%20https%3a%2f%2fwww.googleapis.com%2fauth%2fdrive.photos.readonly%20https%3a%2f%2fwww.googleapis.com%2fauth%2fpeopleapi.readonly\n",
            "\n",
            "Enter your authorization code:\n",
            "··········\n",
            "Mounted at /content/drive/\n"
          ],
          "name": "stdout"
        }
      ]
    },
    {
      "cell_type": "code",
      "metadata": {
        "id": "zFybP0wISpeK",
        "colab_type": "code",
        "colab": {
          "base_uri": "https://localhost:8080/",
          "height": 34
        },
        "outputId": "e9a0016a-280b-4cb7-c06d-8ab1ca9db1e5"
      },
      "source": [
        "from keras.preprocessing.image import ImageDataGenerator\n",
        "from keras.models import Sequential\n",
        "from keras.layers import Conv2D, MaxPooling2D\n",
        "from keras.layers import Activation, Dropout, Flatten, Dense\n",
        "from keras import backend as K\n"
      ],
      "execution_count": 2,
      "outputs": [
        {
          "output_type": "stream",
          "text": [
            "Using TensorFlow backend.\n"
          ],
          "name": "stderr"
        }
      ]
    },
    {
      "cell_type": "code",
      "metadata": {
        "id": "rGV_9EhDTDCx",
        "colab_type": "code",
        "colab": {}
      },
      "source": [
        "# dimensions of our images.\n",
        "input_shape=(150,150,3)\n",
        "img_width, img_height = 150, 150\n",
        "\n",
        "train_data_dir = '/content/drive/My Drive/train'\n",
        "validation_data_dir = '/content/drive/My Drive/test'\n",
        "nb_train_samples = 319\n",
        "nb_validation_samples = 24\n",
        "epochs = 10\n",
        "batch_size = 16"
      ],
      "execution_count": 6,
      "outputs": []
    },
    {
      "cell_type": "code",
      "metadata": {
        "id": "rDi8toA3UK1q",
        "colab_type": "code",
        "colab": {
          "base_uri": "https://localhost:8080/",
          "height": 51
        },
        "outputId": "d2c1c835-bf11-4e37-d031-0ff0348a47c6"
      },
      "source": [
        "#rescaling data\n",
        "datagen=ImageDataGenerator(rescale=1./255)\n",
        "\n",
        "train_generator=datagen.flow_from_directory(\n",
        "         train_data_dir,\n",
        "         target_size=(img_width,img_height),\n",
        "         batch_size=8,\n",
        "         class_mode='categorical')\n",
        "\n",
        "validation_generator=datagen.flow_from_directory(\n",
        "         validation_data_dir,\n",
        "         target_size=(img_width,img_height),\n",
        "         batch_size=16,\n",
        "         class_mode='categorical')\n"
      ],
      "execution_count": 7,
      "outputs": [
        {
          "output_type": "stream",
          "text": [
            "Found 319 images belonging to 3 classes.\n",
            "Found 24 images belonging to 3 classes.\n"
          ],
          "name": "stdout"
        }
      ]
    },
    {
      "cell_type": "code",
      "metadata": {
        "id": "TKJZLvhXUV32",
        "colab_type": "code",
        "colab": {}
      },
      "source": [
        "model = Sequential()\n",
        "model.add(Conv2D(32, (3, 3), input_shape=input_shape))\n",
        "model.add(Activation('relu'))\n",
        "model.add(MaxPooling2D(pool_size=(2, 2)))\n",
        "\n",
        "model.add(Conv2D(32, (3, 3)))\n",
        "model.add(Activation('relu'))\n",
        "model.add(MaxPooling2D(pool_size=(2, 2)))\n",
        "\n",
        "model.add(Conv2D(64, (3, 3)))\n",
        "model.add(Activation('relu'))\n",
        "model.add(MaxPooling2D(pool_size=(2, 2)))\n",
        "\n",
        "model.add(Flatten())\n",
        "model.add(Dense(64))\n",
        "model.add(Activation('relu'))\n",
        "model.add(Dropout(0.5))\n",
        "model.add(Dense(1))\n",
        "model.add(Activation('sigmoid'))\n"
      ],
      "execution_count": 8,
      "outputs": []
    },
    {
      "cell_type": "code",
      "metadata": {
        "id": "HCUvsPcTUsMw",
        "colab_type": "code",
        "colab": {
          "base_uri": "https://localhost:8080/",
          "height": 663
        },
        "outputId": "cb0f7589-12d6-4445-a168-6df991ff8db3"
      },
      "source": [
        "model.summary()"
      ],
      "execution_count": 9,
      "outputs": [
        {
          "output_type": "stream",
          "text": [
            "Model: \"sequential_2\"\n",
            "_________________________________________________________________\n",
            "Layer (type)                 Output Shape              Param #   \n",
            "=================================================================\n",
            "conv2d_1 (Conv2D)            (None, 148, 148, 32)      896       \n",
            "_________________________________________________________________\n",
            "activation_1 (Activation)    (None, 148, 148, 32)      0         \n",
            "_________________________________________________________________\n",
            "max_pooling2d_1 (MaxPooling2 (None, 74, 74, 32)        0         \n",
            "_________________________________________________________________\n",
            "conv2d_2 (Conv2D)            (None, 72, 72, 32)        9248      \n",
            "_________________________________________________________________\n",
            "activation_2 (Activation)    (None, 72, 72, 32)        0         \n",
            "_________________________________________________________________\n",
            "max_pooling2d_2 (MaxPooling2 (None, 36, 36, 32)        0         \n",
            "_________________________________________________________________\n",
            "conv2d_3 (Conv2D)            (None, 34, 34, 64)        18496     \n",
            "_________________________________________________________________\n",
            "activation_3 (Activation)    (None, 34, 34, 64)        0         \n",
            "_________________________________________________________________\n",
            "max_pooling2d_3 (MaxPooling2 (None, 17, 17, 64)        0         \n",
            "_________________________________________________________________\n",
            "flatten_1 (Flatten)          (None, 18496)             0         \n",
            "_________________________________________________________________\n",
            "dense_1 (Dense)              (None, 64)                1183808   \n",
            "_________________________________________________________________\n",
            "activation_4 (Activation)    (None, 64)                0         \n",
            "_________________________________________________________________\n",
            "dropout_1 (Dropout)          (None, 64)                0         \n",
            "_________________________________________________________________\n",
            "dense_2 (Dense)              (None, 1)                 65        \n",
            "_________________________________________________________________\n",
            "activation_5 (Activation)    (None, 1)                 0         \n",
            "=================================================================\n",
            "Total params: 1,212,513\n",
            "Trainable params: 1,212,513\n",
            "Non-trainable params: 0\n",
            "_________________________________________________________________\n"
          ],
          "name": "stdout"
        }
      ]
    },
    {
      "cell_type": "code",
      "metadata": {
        "id": "arLXTydvVBkX",
        "colab_type": "code",
        "colab": {}
      },
      "source": [
        "model.compile(loss='binary_crossentropy', # or categorical_crossentropy\n",
        "              optimizer='adam',# or adagrad\n",
        "              metrics=['accuracy'])\n"
      ],
      "execution_count": 15,
      "outputs": []
    },
    {
      "cell_type": "code",
      "metadata": {
        "id": "2Aei7hYfVG5r",
        "colab_type": "code",
        "colab": {}
      },
      "source": [
        "# this is the augmentation configuration we will use for training\n",
        "train_datagen = ImageDataGenerator(\n",
        "    rescale=1. / 255,\n",
        "    shear_range=0.2,\n",
        "    zoom_range=0.2,\n",
        "    horizontal_flip=True)"
      ],
      "execution_count": 16,
      "outputs": []
    },
    {
      "cell_type": "code",
      "metadata": {
        "id": "JWtgvQDtVSb4",
        "colab_type": "code",
        "colab": {
          "base_uri": "https://localhost:8080/",
          "height": 51
        },
        "outputId": "62fcd176-684e-49b4-f5ad-976677750413"
      },
      "source": [
        "# this is the augmentation configuration we will use for testing:\n",
        "# only rescaling\n",
        "test_datagen = ImageDataGenerator(rescale=1. / 255)\n",
        "\n",
        "train_generator = train_datagen.flow_from_directory(\n",
        "    train_data_dir,\n",
        "    target_size=(img_width, img_height),\n",
        "    batch_size=batch_size,\n",
        "    class_mode='binary')\n",
        "\n",
        "print(train_generator.class_indices)"
      ],
      "execution_count": 17,
      "outputs": [
        {
          "output_type": "stream",
          "text": [
            "Found 319 images belonging to 3 classes.\n",
            "{'jeans': 0, 'sarees': 1, 'trousers': 2}\n"
          ],
          "name": "stdout"
        }
      ]
    },
    {
      "cell_type": "code",
      "metadata": {
        "id": "xLEjQxKfVZpp",
        "colab_type": "code",
        "colab": {
          "base_uri": "https://localhost:8080/",
          "height": 34
        },
        "outputId": "910942bc-441a-4fde-91d2-44a953dc9828"
      },
      "source": [
        "validation_generator = test_datagen.flow_from_directory(\n",
        "    validation_data_dir,\n",
        "    target_size=(img_width, img_height),\n",
        "    batch_size=batch_size,\n",
        "    class_mode='binary')"
      ],
      "execution_count": 18,
      "outputs": [
        {
          "output_type": "stream",
          "text": [
            "Found 24 images belonging to 3 classes.\n"
          ],
          "name": "stdout"
        }
      ]
    },
    {
      "cell_type": "code",
      "metadata": {
        "id": "LUQAuEosVe02",
        "colab_type": "code",
        "colab": {
          "base_uri": "https://localhost:8080/",
          "height": 884
        },
        "outputId": "2855d5e3-85f9-4f86-86d7-6b9e1ae9b84b"
      },
      "source": [
        "model.fit_generator(\n",
        "    train_generator,\n",
        "    steps_per_epoch=nb_train_samples // batch_size,\n",
        "    epochs=epochs,\n",
        "    validation_data=validation_generator,\n",
        "    validation_steps=nb_validation_samples // batch_size)\n"
      ],
      "execution_count": 19,
      "outputs": [
        {
          "output_type": "stream",
          "text": [
            "Epoch 1/25\n",
            "19/19 [==============================] - 3s 156ms/step - loss: -424089.7271 - accuracy: 0.3564 - val_loss: -685744.1250 - val_accuracy: 0.4375\n",
            "Epoch 2/25\n",
            "19/19 [==============================] - 3s 142ms/step - loss: -430611.7835 - accuracy: 0.4572 - val_loss: -1524594.2500 - val_accuracy: 0.3750\n",
            "Epoch 3/25\n",
            "19/19 [==============================] - 3s 145ms/step - loss: -577221.8367 - accuracy: 0.3808 - val_loss: -996224.3750 - val_accuracy: 0.4375\n",
            "Epoch 4/25\n",
            "19/19 [==============================] - 3s 146ms/step - loss: -594266.1521 - accuracy: 0.4013 - val_loss: -1961302.0000 - val_accuracy: 0.3750\n",
            "Epoch 5/25\n",
            "19/19 [==============================] - 3s 149ms/step - loss: -989147.0950 - accuracy: 0.3642 - val_loss: -3511791.2500 - val_accuracy: 0.2500\n",
            "Epoch 6/25\n",
            "19/19 [==============================] - 3s 146ms/step - loss: -1018741.3758 - accuracy: 0.4178 - val_loss: 356809.2188 - val_accuracy: 0.6250\n",
            "Epoch 7/25\n",
            "19/19 [==============================] - 3s 144ms/step - loss: -933380.9852 - accuracy: 0.4158 - val_loss: -1279910.5000 - val_accuracy: 0.4375\n",
            "Epoch 8/25\n",
            "19/19 [==============================] - 3s 144ms/step - loss: -1260613.3778 - accuracy: 0.4205 - val_loss: -4551362.5000 - val_accuracy: 0.5000\n",
            "Epoch 9/25\n",
            "19/19 [==============================] - 3s 146ms/step - loss: -1842596.0905 - accuracy: 0.3454 - val_loss: -3837357.7500 - val_accuracy: 0.3125\n",
            "Epoch 10/25\n",
            "19/19 [==============================] - 3s 145ms/step - loss: -2076395.4860 - accuracy: 0.4026 - val_loss: -4200824.0000 - val_accuracy: 0.3750\n",
            "Epoch 11/25\n",
            "19/19 [==============================] - 3s 145ms/step - loss: -2042040.2419 - accuracy: 0.3841 - val_loss: -5696162.0000 - val_accuracy: 0.3750\n",
            "Epoch 12/25\n",
            "19/19 [==============================] - 3s 145ms/step - loss: -2777268.3487 - accuracy: 0.3947 - val_loss: -4907948.0000 - val_accuracy: 0.3750\n",
            "Epoch 13/25\n",
            "19/19 [==============================] - 3s 147ms/step - loss: -4169514.1029 - accuracy: 0.3960 - val_loss: -12421003.0000 - val_accuracy: 0.3125\n",
            "Epoch 14/25\n",
            "19/19 [==============================] - 3s 145ms/step - loss: -2631555.9524 - accuracy: 0.4389 - val_loss: -2965193.0000 - val_accuracy: 0.3750\n",
            "Epoch 15/25\n",
            "19/19 [==============================] - 3s 148ms/step - loss: -2705011.2699 - accuracy: 0.3795 - val_loss: -4804931.5000 - val_accuracy: 0.5000\n",
            "Epoch 16/25\n",
            "19/19 [==============================] - 3s 145ms/step - loss: -4618446.5624 - accuracy: 0.4272 - val_loss: -9888378.0000 - val_accuracy: 0.5000\n",
            "Epoch 17/25\n",
            "19/19 [==============================] - 3s 149ms/step - loss: -5351511.1519 - accuracy: 0.4158 - val_loss: -7488667.0000 - val_accuracy: 0.5000\n",
            "Epoch 18/25\n",
            "19/19 [==============================] - 3s 146ms/step - loss: -6895962.9868 - accuracy: 0.4079 - val_loss: -26002172.0000 - val_accuracy: 0.2500\n",
            "Epoch 19/25\n",
            "19/19 [==============================] - 3s 148ms/step - loss: -10340387.2699 - accuracy: 0.3663 - val_loss: -12559464.0000 - val_accuracy: 0.3750\n",
            "Epoch 20/25\n",
            "19/19 [==============================] - 3s 142ms/step - loss: -9265429.4820 - accuracy: 0.4026 - val_loss: -38146832.0000 - val_accuracy: 0.2500\n",
            "Epoch 21/25\n",
            "19/19 [==============================] - 3s 145ms/step - loss: -12587701.5413 - accuracy: 0.4026 - val_loss: -23804100.0000 - val_accuracy: 0.4375\n",
            "Epoch 22/25\n",
            "19/19 [==============================] - 3s 154ms/step - loss: -14376695.2830 - accuracy: 0.4455 - val_loss: -45368688.0000 - val_accuracy: 0.2500\n",
            "Epoch 23/25\n",
            "19/19 [==============================] - 3s 157ms/step - loss: -17679271.4333 - accuracy: 0.3960 - val_loss: -37265696.0000 - val_accuracy: 0.5000\n",
            "Epoch 24/25\n",
            "19/19 [==============================] - 3s 158ms/step - loss: -22622816.5763 - accuracy: 0.4092 - val_loss: -38243328.0000 - val_accuracy: 0.3750\n",
            "Epoch 25/25\n",
            "19/19 [==============================] - 3s 158ms/step - loss: -29160164.7304 - accuracy: 0.3861 - val_loss: -24681280.0000 - val_accuracy: 0.3750\n"
          ],
          "name": "stdout"
        },
        {
          "output_type": "execute_result",
          "data": {
            "text/plain": [
              "<keras.callbacks.callbacks.History at 0x7f8171166a20>"
            ]
          },
          "metadata": {
            "tags": []
          },
          "execution_count": 19
        }
      ]
    },
    {
      "cell_type": "code",
      "metadata": {
        "id": "jDorBZOYVjP8",
        "colab_type": "code",
        "colab": {}
      },
      "source": [
        "model.save('model1.h5')"
      ],
      "execution_count": 20,
      "outputs": []
    },
    {
      "cell_type": "markdown",
      "metadata": {
        "id": "BFU4zlCyXta8",
        "colab_type": "text"
      },
      "source": [
        "#Prediction "
      ]
    },
    {
      "cell_type": "code",
      "metadata": {
        "id": "qN29EnwaXgmt",
        "colab_type": "code",
        "colab": {}
      },
      "source": [
        "from keras.models import load_model\n",
        "from keras.preprocessing import image\n",
        "import numpy as np\n",
        "from os import listdir\n",
        "from os.path import isfile, join\n"
      ],
      "execution_count": 21,
      "outputs": []
    },
    {
      "cell_type": "code",
      "metadata": {
        "id": "cBk9lkNcX0OK",
        "colab_type": "code",
        "colab": {}
      },
      "source": [
        "# dimensions of our images\n",
        "img_width, img_height = 150, 150"
      ],
      "execution_count": 22,
      "outputs": []
    },
    {
      "cell_type": "code",
      "metadata": {
        "id": "DAQu-1iKX3A6",
        "colab_type": "code",
        "colab": {}
      },
      "source": [
        "# load the model we saved\n",
        "model = load_model('model1.h5')\n",
        "model.compile(loss='binary_crossentropy',\n",
        "              optimizer='rmsprop',\n",
        "              metrics=['accuracy'])"
      ],
      "execution_count": 24,
      "outputs": []
    },
    {
      "cell_type": "code",
      "metadata": {
        "id": "yre2_XeoX5pi",
        "colab_type": "code",
        "colab": {
          "base_uri": "https://localhost:8080/",
          "height": 496
        },
        "outputId": "efdcd806-c095-4180-e307-83fb0cca6edc"
      },
      "source": [
        "mypath = \"/content/drive/My Drive/Predict/\"\n",
        "onlyfiles = [f for f in listdir(mypath) if isfile(join(mypath, f))]\n",
        "print(onlyfiles)\n",
        "# predicting images\n",
        "jeans_counter = 0 \n",
        "trousers_counter  = 0\n",
        "sarees_counter = 0\n",
        "for file in onlyfiles:\n",
        "    img = image.load_img(mypath+file, target_size=(img_width, img_height))\n",
        "    x = image.img_to_array(img)\n",
        "    x = np.expand_dims(x, axis=0)\n",
        "    \n",
        "    images = np.vstack([x])\n",
        "    classes = model.predict_classes(images, batch_size=10)\n",
        "    classes = classes[0][0]\n",
        "    \n",
        "    if classes == 0:\n",
        "        print(file + \": \" + 'jeans')\n",
        "        jeans_counter += 1\n",
        "\n",
        "\n",
        "    if classes == 1:\n",
        "        print(file + \": \" + 'sarees')\n",
        "        sarees_counter += 1\n",
        "\n",
        "    else:\n",
        "        print(file + \": \" + 'trousers')\n",
        "        sarees_counter += 1\n",
        "print(\"Total jeans :\",jeans_counter)\n",
        "print(\"Total sarees :\",sarees_counter)\n",
        "print(\"Total trousers :\",trousers_counter)"
      ],
      "execution_count": 28,
      "outputs": [
        {
          "output_type": "stream",
          "text": [
            "['83.jpg', '226.jpg', '213.jpg', '221.jpg', '47.jpg', '35.jpg', '69.jpg', '54.jpg', '38.jpg', '78.jpg', '105.jpg', '108.jpg', '7.jpg', '485.jpg', '382.jpg', '432.jpg', '433.jpg', '396.jpg', '430.jpg', '473.jpg', '487.jpg', '386.jpg', '371.jpg']\n",
            "83.jpg: sarees\n",
            "226.jpg: sarees\n",
            "213.jpg: sarees\n",
            "221.jpg: sarees\n",
            "47.jpg: sarees\n",
            "35.jpg: sarees\n",
            "69.jpg: sarees\n",
            "54.jpg: sarees\n",
            "38.jpg: sarees\n",
            "78.jpg: sarees\n",
            "105.jpg: sarees\n",
            "108.jpg: sarees\n",
            "7.jpg: sarees\n",
            "485.jpg: sarees\n",
            "382.jpg: sarees\n",
            "432.jpg: sarees\n",
            "433.jpg: sarees\n",
            "396.jpg: sarees\n",
            "430.jpg: sarees\n",
            "473.jpg: sarees\n",
            "487.jpg: sarees\n",
            "386.jpg: sarees\n",
            "371.jpg: sarees\n",
            "Total jeans : 0\n",
            "Total sarees : 23\n",
            "Total trousers : 0\n"
          ],
          "name": "stdout"
        }
      ]
    },
    {
      "cell_type": "code",
      "metadata": {
        "id": "Txt-8BK-ZVjO",
        "colab_type": "code",
        "colab": {}
      },
      "source": [
        ""
      ],
      "execution_count": null,
      "outputs": []
    }
  ]
}