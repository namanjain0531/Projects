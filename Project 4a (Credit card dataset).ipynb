{
 "cells": [
  {
   "cell_type": "code",
   "execution_count": 1,
   "metadata": {},
   "outputs": [],
   "source": [
    "import pandas as pd\n",
    "import numpy as np\n",
    "import matplotlib.pyplot as plt\n",
    "import seaborn as sns\n",
    "import sklearn \n",
    "from sklearn.model_selection import cross_val_score\n",
    "from sklearn.metrics import (accuracy_score, confusion_matrix,classification_report)\n",
    "from sklearn.model_selection import train_test_split\n",
    "from sklearn.linear_model import LogisticRegression\n",
    "from sklearn.model_selection import cross_val_score\n",
    "from sklearn.model_selection import cross_val_predict\n",
    "import warnings\n",
    "warnings.filterwarnings(\"ignore\")"
   ]
  },
  {
   "cell_type": "markdown",
   "metadata": {},
   "source": [
    "# IMPORT DATASET"
   ]
  },
  {
   "cell_type": "code",
   "execution_count": 2,
   "metadata": {},
   "outputs": [
    {
     "data": {
      "text/html": [
       "<div>\n",
       "<style scoped>\n",
       "    .dataframe tbody tr th:only-of-type {\n",
       "        vertical-align: middle;\n",
       "    }\n",
       "\n",
       "    .dataframe tbody tr th {\n",
       "        vertical-align: top;\n",
       "    }\n",
       "\n",
       "    .dataframe thead th {\n",
       "        text-align: right;\n",
       "    }\n",
       "</style>\n",
       "<table border=\"1\" class=\"dataframe\">\n",
       "  <thead>\n",
       "    <tr style=\"text-align: right;\">\n",
       "      <th></th>\n",
       "      <th>Time</th>\n",
       "      <th>V1</th>\n",
       "      <th>V2</th>\n",
       "      <th>V3</th>\n",
       "      <th>V4</th>\n",
       "      <th>V5</th>\n",
       "      <th>V6</th>\n",
       "      <th>V7</th>\n",
       "      <th>V8</th>\n",
       "      <th>V9</th>\n",
       "      <th>...</th>\n",
       "      <th>V21</th>\n",
       "      <th>V22</th>\n",
       "      <th>V23</th>\n",
       "      <th>V24</th>\n",
       "      <th>V25</th>\n",
       "      <th>V26</th>\n",
       "      <th>V27</th>\n",
       "      <th>V28</th>\n",
       "      <th>Amount</th>\n",
       "      <th>Class</th>\n",
       "    </tr>\n",
       "  </thead>\n",
       "  <tbody>\n",
       "    <tr>\n",
       "      <td>0</td>\n",
       "      <td>0</td>\n",
       "      <td>-1.359807</td>\n",
       "      <td>-0.072781</td>\n",
       "      <td>2.536347</td>\n",
       "      <td>1.378155</td>\n",
       "      <td>-0.338321</td>\n",
       "      <td>0.462388</td>\n",
       "      <td>0.239599</td>\n",
       "      <td>0.098698</td>\n",
       "      <td>0.363787</td>\n",
       "      <td>...</td>\n",
       "      <td>-0.018307</td>\n",
       "      <td>0.277838</td>\n",
       "      <td>-0.110474</td>\n",
       "      <td>0.066928</td>\n",
       "      <td>0.128539</td>\n",
       "      <td>-0.189115</td>\n",
       "      <td>0.133558</td>\n",
       "      <td>-0.021053</td>\n",
       "      <td>149.62</td>\n",
       "      <td>0</td>\n",
       "    </tr>\n",
       "    <tr>\n",
       "      <td>1</td>\n",
       "      <td>0</td>\n",
       "      <td>1.191857</td>\n",
       "      <td>0.266151</td>\n",
       "      <td>0.166480</td>\n",
       "      <td>0.448154</td>\n",
       "      <td>0.060018</td>\n",
       "      <td>-0.082361</td>\n",
       "      <td>-0.078803</td>\n",
       "      <td>0.085102</td>\n",
       "      <td>-0.255425</td>\n",
       "      <td>...</td>\n",
       "      <td>-0.225775</td>\n",
       "      <td>-0.638672</td>\n",
       "      <td>0.101288</td>\n",
       "      <td>-0.339846</td>\n",
       "      <td>0.167170</td>\n",
       "      <td>0.125895</td>\n",
       "      <td>-0.008983</td>\n",
       "      <td>0.014724</td>\n",
       "      <td>2.69</td>\n",
       "      <td>0</td>\n",
       "    </tr>\n",
       "    <tr>\n",
       "      <td>2</td>\n",
       "      <td>1</td>\n",
       "      <td>-1.358354</td>\n",
       "      <td>-1.340163</td>\n",
       "      <td>1.773209</td>\n",
       "      <td>0.379780</td>\n",
       "      <td>-0.503198</td>\n",
       "      <td>1.800499</td>\n",
       "      <td>0.791461</td>\n",
       "      <td>0.247676</td>\n",
       "      <td>-1.514654</td>\n",
       "      <td>...</td>\n",
       "      <td>0.247998</td>\n",
       "      <td>0.771679</td>\n",
       "      <td>0.909412</td>\n",
       "      <td>-0.689281</td>\n",
       "      <td>-0.327642</td>\n",
       "      <td>-0.139097</td>\n",
       "      <td>-0.055353</td>\n",
       "      <td>-0.059752</td>\n",
       "      <td>378.66</td>\n",
       "      <td>0</td>\n",
       "    </tr>\n",
       "    <tr>\n",
       "      <td>3</td>\n",
       "      <td>1</td>\n",
       "      <td>-0.966272</td>\n",
       "      <td>-0.185226</td>\n",
       "      <td>1.792993</td>\n",
       "      <td>-0.863291</td>\n",
       "      <td>-0.010309</td>\n",
       "      <td>1.247203</td>\n",
       "      <td>0.237609</td>\n",
       "      <td>0.377436</td>\n",
       "      <td>-1.387024</td>\n",
       "      <td>...</td>\n",
       "      <td>-0.108300</td>\n",
       "      <td>0.005274</td>\n",
       "      <td>-0.190321</td>\n",
       "      <td>-1.175575</td>\n",
       "      <td>0.647376</td>\n",
       "      <td>-0.221929</td>\n",
       "      <td>0.062723</td>\n",
       "      <td>0.061458</td>\n",
       "      <td>123.50</td>\n",
       "      <td>0</td>\n",
       "    </tr>\n",
       "    <tr>\n",
       "      <td>4</td>\n",
       "      <td>2</td>\n",
       "      <td>-1.158233</td>\n",
       "      <td>0.877737</td>\n",
       "      <td>1.548718</td>\n",
       "      <td>0.403034</td>\n",
       "      <td>-0.407193</td>\n",
       "      <td>0.095921</td>\n",
       "      <td>0.592941</td>\n",
       "      <td>-0.270533</td>\n",
       "      <td>0.817739</td>\n",
       "      <td>...</td>\n",
       "      <td>-0.009431</td>\n",
       "      <td>0.798278</td>\n",
       "      <td>-0.137458</td>\n",
       "      <td>0.141267</td>\n",
       "      <td>-0.206010</td>\n",
       "      <td>0.502292</td>\n",
       "      <td>0.219422</td>\n",
       "      <td>0.215153</td>\n",
       "      <td>69.99</td>\n",
       "      <td>0</td>\n",
       "    </tr>\n",
       "    <tr>\n",
       "      <td>...</td>\n",
       "      <td>...</td>\n",
       "      <td>...</td>\n",
       "      <td>...</td>\n",
       "      <td>...</td>\n",
       "      <td>...</td>\n",
       "      <td>...</td>\n",
       "      <td>...</td>\n",
       "      <td>...</td>\n",
       "      <td>...</td>\n",
       "      <td>...</td>\n",
       "      <td>...</td>\n",
       "      <td>...</td>\n",
       "      <td>...</td>\n",
       "      <td>...</td>\n",
       "      <td>...</td>\n",
       "      <td>...</td>\n",
       "      <td>...</td>\n",
       "      <td>...</td>\n",
       "      <td>...</td>\n",
       "      <td>...</td>\n",
       "      <td>...</td>\n",
       "    </tr>\n",
       "    <tr>\n",
       "      <td>658</td>\n",
       "      <td>497</td>\n",
       "      <td>-0.417836</td>\n",
       "      <td>0.981103</td>\n",
       "      <td>1.135820</td>\n",
       "      <td>-0.172593</td>\n",
       "      <td>0.396675</td>\n",
       "      <td>-0.002842</td>\n",
       "      <td>0.519780</td>\n",
       "      <td>0.248763</td>\n",
       "      <td>-0.593497</td>\n",
       "      <td>...</td>\n",
       "      <td>-0.205580</td>\n",
       "      <td>-0.547474</td>\n",
       "      <td>-0.020486</td>\n",
       "      <td>-0.368187</td>\n",
       "      <td>-0.227053</td>\n",
       "      <td>0.105281</td>\n",
       "      <td>0.253800</td>\n",
       "      <td>0.081276</td>\n",
       "      <td>8.83</td>\n",
       "      <td>0</td>\n",
       "    </tr>\n",
       "    <tr>\n",
       "      <td>659</td>\n",
       "      <td>498</td>\n",
       "      <td>-0.753769</td>\n",
       "      <td>1.098287</td>\n",
       "      <td>1.835453</td>\n",
       "      <td>0.614571</td>\n",
       "      <td>-0.317859</td>\n",
       "      <td>-0.101055</td>\n",
       "      <td>0.039454</td>\n",
       "      <td>-0.656824</td>\n",
       "      <td>-0.048761</td>\n",
       "      <td>...</td>\n",
       "      <td>1.101142</td>\n",
       "      <td>0.686059</td>\n",
       "      <td>0.005954</td>\n",
       "      <td>0.361744</td>\n",
       "      <td>-0.457852</td>\n",
       "      <td>-0.352576</td>\n",
       "      <td>0.094602</td>\n",
       "      <td>0.170480</td>\n",
       "      <td>5.00</td>\n",
       "      <td>0</td>\n",
       "    </tr>\n",
       "    <tr>\n",
       "      <td>660</td>\n",
       "      <td>499</td>\n",
       "      <td>1.255439</td>\n",
       "      <td>0.307729</td>\n",
       "      <td>0.292700</td>\n",
       "      <td>0.699873</td>\n",
       "      <td>-0.428876</td>\n",
       "      <td>-1.088456</td>\n",
       "      <td>0.043840</td>\n",
       "      <td>-0.167739</td>\n",
       "      <td>0.128854</td>\n",
       "      <td>...</td>\n",
       "      <td>-0.294795</td>\n",
       "      <td>-0.882126</td>\n",
       "      <td>0.136846</td>\n",
       "      <td>0.327949</td>\n",
       "      <td>0.194459</td>\n",
       "      <td>0.096516</td>\n",
       "      <td>-0.027271</td>\n",
       "      <td>0.029491</td>\n",
       "      <td>1.98</td>\n",
       "      <td>0</td>\n",
       "    </tr>\n",
       "    <tr>\n",
       "      <td>661</td>\n",
       "      <td>499</td>\n",
       "      <td>1.355790</td>\n",
       "      <td>-1.122921</td>\n",
       "      <td>1.191187</td>\n",
       "      <td>-0.576548</td>\n",
       "      <td>-1.708750</td>\n",
       "      <td>0.274721</td>\n",
       "      <td>-1.640785</td>\n",
       "      <td>0.295838</td>\n",
       "      <td>0.618649</td>\n",
       "      <td>...</td>\n",
       "      <td>0.302035</td>\n",
       "      <td>0.920013</td>\n",
       "      <td>-0.210219</td>\n",
       "      <td>-0.435499</td>\n",
       "      <td>0.450803</td>\n",
       "      <td>0.068454</td>\n",
       "      <td>0.062214</td>\n",
       "      <td>0.022191</td>\n",
       "      <td>22.83</td>\n",
       "      <td>0</td>\n",
       "    </tr>\n",
       "    <tr>\n",
       "      <td>662</td>\n",
       "      <td>499</td>\n",
       "      <td>-0.860626</td>\n",
       "      <td>-0.109137</td>\n",
       "      <td>2.112474</td>\n",
       "      <td>-1.400567</td>\n",
       "      <td>0.180269</td>\n",
       "      <td>1.329656</td>\n",
       "      <td>0.431001</td>\n",
       "      <td>0.317761</td>\n",
       "      <td>0.593762</td>\n",
       "      <td>...</td>\n",
       "      <td>-0.197635</td>\n",
       "      <td>-0.436535</td>\n",
       "      <td>-0.194840</td>\n",
       "      <td>-1.236873</td>\n",
       "      <td>0.218668</td>\n",
       "      <td>0.902383</td>\n",
       "      <td>-0.210195</td>\n",
       "      <td>-0.190458</td>\n",
       "      <td>92.82</td>\n",
       "      <td>0</td>\n",
       "    </tr>\n",
       "  </tbody>\n",
       "</table>\n",
       "<p>663 rows × 31 columns</p>\n",
       "</div>"
      ],
      "text/plain": [
       "     Time        V1        V2        V3        V4        V5        V6  \\\n",
       "0       0 -1.359807 -0.072781  2.536347  1.378155 -0.338321  0.462388   \n",
       "1       0  1.191857  0.266151  0.166480  0.448154  0.060018 -0.082361   \n",
       "2       1 -1.358354 -1.340163  1.773209  0.379780 -0.503198  1.800499   \n",
       "3       1 -0.966272 -0.185226  1.792993 -0.863291 -0.010309  1.247203   \n",
       "4       2 -1.158233  0.877737  1.548718  0.403034 -0.407193  0.095921   \n",
       "..    ...       ...       ...       ...       ...       ...       ...   \n",
       "658   497 -0.417836  0.981103  1.135820 -0.172593  0.396675 -0.002842   \n",
       "659   498 -0.753769  1.098287  1.835453  0.614571 -0.317859 -0.101055   \n",
       "660   499  1.255439  0.307729  0.292700  0.699873 -0.428876 -1.088456   \n",
       "661   499  1.355790 -1.122921  1.191187 -0.576548 -1.708750  0.274721   \n",
       "662   499 -0.860626 -0.109137  2.112474 -1.400567  0.180269  1.329656   \n",
       "\n",
       "           V7        V8        V9  ...       V21       V22       V23  \\\n",
       "0    0.239599  0.098698  0.363787  ... -0.018307  0.277838 -0.110474   \n",
       "1   -0.078803  0.085102 -0.255425  ... -0.225775 -0.638672  0.101288   \n",
       "2    0.791461  0.247676 -1.514654  ...  0.247998  0.771679  0.909412   \n",
       "3    0.237609  0.377436 -1.387024  ... -0.108300  0.005274 -0.190321   \n",
       "4    0.592941 -0.270533  0.817739  ... -0.009431  0.798278 -0.137458   \n",
       "..        ...       ...       ...  ...       ...       ...       ...   \n",
       "658  0.519780  0.248763 -0.593497  ... -0.205580 -0.547474 -0.020486   \n",
       "659  0.039454 -0.656824 -0.048761  ...  1.101142  0.686059  0.005954   \n",
       "660  0.043840 -0.167739  0.128854  ... -0.294795 -0.882126  0.136846   \n",
       "661 -1.640785  0.295838  0.618649  ...  0.302035  0.920013 -0.210219   \n",
       "662  0.431001  0.317761  0.593762  ... -0.197635 -0.436535 -0.194840   \n",
       "\n",
       "          V24       V25       V26       V27       V28  Amount  Class  \n",
       "0    0.066928  0.128539 -0.189115  0.133558 -0.021053  149.62      0  \n",
       "1   -0.339846  0.167170  0.125895 -0.008983  0.014724    2.69      0  \n",
       "2   -0.689281 -0.327642 -0.139097 -0.055353 -0.059752  378.66      0  \n",
       "3   -1.175575  0.647376 -0.221929  0.062723  0.061458  123.50      0  \n",
       "4    0.141267 -0.206010  0.502292  0.219422  0.215153   69.99      0  \n",
       "..        ...       ...       ...       ...       ...     ...    ...  \n",
       "658 -0.368187 -0.227053  0.105281  0.253800  0.081276    8.83      0  \n",
       "659  0.361744 -0.457852 -0.352576  0.094602  0.170480    5.00      0  \n",
       "660  0.327949  0.194459  0.096516 -0.027271  0.029491    1.98      0  \n",
       "661 -0.435499  0.450803  0.068454  0.062214  0.022191   22.83      0  \n",
       "662 -1.236873  0.218668  0.902383 -0.210195 -0.190458   92.82      0  \n",
       "\n",
       "[663 rows x 31 columns]"
      ]
     },
     "execution_count": 2,
     "metadata": {},
     "output_type": "execute_result"
    }
   ],
   "source": [
    "credit=pd.read_csv(\"credit.csv\")\n",
    "credit"
   ]
  },
  {
   "cell_type": "markdown",
   "metadata": {},
   "source": [
    "# DATA ANALYSIS"
   ]
  },
  {
   "cell_type": "code",
   "execution_count": 3,
   "metadata": {},
   "outputs": [
    {
     "data": {
      "text/plain": [
       "(663, 31)"
      ]
     },
     "execution_count": 3,
     "metadata": {},
     "output_type": "execute_result"
    }
   ],
   "source": [
    "credit.shape"
   ]
  },
  {
   "cell_type": "code",
   "execution_count": 4,
   "metadata": {},
   "outputs": [
    {
     "data": {
      "text/plain": [
       "Time        int64\n",
       "V1        float64\n",
       "V2        float64\n",
       "V3        float64\n",
       "V4        float64\n",
       "V5        float64\n",
       "V6        float64\n",
       "V7        float64\n",
       "V8        float64\n",
       "V9        float64\n",
       "V10       float64\n",
       "V11       float64\n",
       "V12       float64\n",
       "V13       float64\n",
       "V14       float64\n",
       "V15       float64\n",
       "V16       float64\n",
       "V17       float64\n",
       "V18       float64\n",
       "V19       float64\n",
       "V20       float64\n",
       "V21       float64\n",
       "V22       float64\n",
       "V23       float64\n",
       "V24       float64\n",
       "V25       float64\n",
       "V26       float64\n",
       "V27       float64\n",
       "V28       float64\n",
       "Amount    float64\n",
       "Class       int64\n",
       "dtype: object"
      ]
     },
     "execution_count": 4,
     "metadata": {},
     "output_type": "execute_result"
    }
   ],
   "source": [
    "credit.dtypes"
   ]
  },
  {
   "cell_type": "code",
   "execution_count": 5,
   "metadata": {},
   "outputs": [
    {
     "name": "stdout",
     "output_type": "stream",
     "text": [
      "<class 'pandas.core.frame.DataFrame'>\n",
      "RangeIndex: 663 entries, 0 to 662\n",
      "Data columns (total 31 columns):\n",
      "Time      663 non-null int64\n",
      "V1        663 non-null float64\n",
      "V2        663 non-null float64\n",
      "V3        663 non-null float64\n",
      "V4        663 non-null float64\n",
      "V5        663 non-null float64\n",
      "V6        663 non-null float64\n",
      "V7        663 non-null float64\n",
      "V8        663 non-null float64\n",
      "V9        663 non-null float64\n",
      "V10       663 non-null float64\n",
      "V11       663 non-null float64\n",
      "V12       663 non-null float64\n",
      "V13       663 non-null float64\n",
      "V14       663 non-null float64\n",
      "V15       663 non-null float64\n",
      "V16       663 non-null float64\n",
      "V17       663 non-null float64\n",
      "V18       663 non-null float64\n",
      "V19       663 non-null float64\n",
      "V20       663 non-null float64\n",
      "V21       663 non-null float64\n",
      "V22       663 non-null float64\n",
      "V23       663 non-null float64\n",
      "V24       663 non-null float64\n",
      "V25       663 non-null float64\n",
      "V26       663 non-null float64\n",
      "V27       663 non-null float64\n",
      "V28       663 non-null float64\n",
      "Amount    663 non-null float64\n",
      "Class     663 non-null int64\n",
      "dtypes: float64(29), int64(2)\n",
      "memory usage: 160.7 KB\n"
     ]
    }
   ],
   "source": [
    "credit.info()"
   ]
  },
  {
   "cell_type": "code",
   "execution_count": 6,
   "metadata": {},
   "outputs": [
    {
     "data": {
      "text/html": [
       "<div>\n",
       "<style scoped>\n",
       "    .dataframe tbody tr th:only-of-type {\n",
       "        vertical-align: middle;\n",
       "    }\n",
       "\n",
       "    .dataframe tbody tr th {\n",
       "        vertical-align: top;\n",
       "    }\n",
       "\n",
       "    .dataframe thead th {\n",
       "        text-align: right;\n",
       "    }\n",
       "</style>\n",
       "<table border=\"1\" class=\"dataframe\">\n",
       "  <thead>\n",
       "    <tr style=\"text-align: right;\">\n",
       "      <th></th>\n",
       "      <th>Time</th>\n",
       "      <th>V1</th>\n",
       "      <th>V2</th>\n",
       "      <th>V3</th>\n",
       "      <th>V4</th>\n",
       "      <th>V5</th>\n",
       "      <th>V6</th>\n",
       "      <th>V7</th>\n",
       "      <th>V8</th>\n",
       "      <th>V9</th>\n",
       "      <th>...</th>\n",
       "      <th>V21</th>\n",
       "      <th>V22</th>\n",
       "      <th>V23</th>\n",
       "      <th>V24</th>\n",
       "      <th>V25</th>\n",
       "      <th>V26</th>\n",
       "      <th>V27</th>\n",
       "      <th>V28</th>\n",
       "      <th>Amount</th>\n",
       "      <th>Class</th>\n",
       "    </tr>\n",
       "  </thead>\n",
       "  <tbody>\n",
       "    <tr>\n",
       "      <td>count</td>\n",
       "      <td>663.000000</td>\n",
       "      <td>663.000000</td>\n",
       "      <td>663.000000</td>\n",
       "      <td>663.000000</td>\n",
       "      <td>663.000000</td>\n",
       "      <td>663.000000</td>\n",
       "      <td>663.000000</td>\n",
       "      <td>663.000000</td>\n",
       "      <td>663.000000</td>\n",
       "      <td>663.000000</td>\n",
       "      <td>...</td>\n",
       "      <td>663.000000</td>\n",
       "      <td>663.000000</td>\n",
       "      <td>663.000000</td>\n",
       "      <td>663.000000</td>\n",
       "      <td>663.000000</td>\n",
       "      <td>663.000000</td>\n",
       "      <td>663.000000</td>\n",
       "      <td>663.000000</td>\n",
       "      <td>663.000000</td>\n",
       "      <td>663.000000</td>\n",
       "    </tr>\n",
       "    <tr>\n",
       "      <td>mean</td>\n",
       "      <td>240.723982</td>\n",
       "      <td>-0.173477</td>\n",
       "      <td>0.202923</td>\n",
       "      <td>0.868027</td>\n",
       "      <td>0.313785</td>\n",
       "      <td>0.004962</td>\n",
       "      <td>0.191067</td>\n",
       "      <td>0.120179</td>\n",
       "      <td>-0.057877</td>\n",
       "      <td>-0.021444</td>\n",
       "      <td>...</td>\n",
       "      <td>0.011559</td>\n",
       "      <td>-0.101324</td>\n",
       "      <td>-0.039138</td>\n",
       "      <td>-0.001128</td>\n",
       "      <td>0.118359</td>\n",
       "      <td>0.023800</td>\n",
       "      <td>0.026277</td>\n",
       "      <td>-0.015521</td>\n",
       "      <td>70.339698</td>\n",
       "      <td>0.039216</td>\n",
       "    </tr>\n",
       "    <tr>\n",
       "      <td>std</td>\n",
       "      <td>147.066052</td>\n",
       "      <td>1.318746</td>\n",
       "      <td>1.195083</td>\n",
       "      <td>1.017452</td>\n",
       "      <td>1.268028</td>\n",
       "      <td>1.131101</td>\n",
       "      <td>1.248768</td>\n",
       "      <td>0.860575</td>\n",
       "      <td>0.828433</td>\n",
       "      <td>0.897497</td>\n",
       "      <td>...</td>\n",
       "      <td>0.611034</td>\n",
       "      <td>0.609244</td>\n",
       "      <td>0.369201</td>\n",
       "      <td>0.628296</td>\n",
       "      <td>0.426569</td>\n",
       "      <td>0.468524</td>\n",
       "      <td>0.308202</td>\n",
       "      <td>0.291046</td>\n",
       "      <td>206.447777</td>\n",
       "      <td>0.194254</td>\n",
       "    </tr>\n",
       "    <tr>\n",
       "      <td>min</td>\n",
       "      <td>0.000000</td>\n",
       "      <td>-6.093248</td>\n",
       "      <td>-12.114213</td>\n",
       "      <td>-5.694973</td>\n",
       "      <td>-4.657545</td>\n",
       "      <td>-6.631951</td>\n",
       "      <td>-3.498447</td>\n",
       "      <td>-4.925568</td>\n",
       "      <td>-7.494658</td>\n",
       "      <td>-2.770089</td>\n",
       "      <td>...</td>\n",
       "      <td>-4.134608</td>\n",
       "      <td>-2.776923</td>\n",
       "      <td>-3.553381</td>\n",
       "      <td>-1.867208</td>\n",
       "      <td>-1.389079</td>\n",
       "      <td>-1.243924</td>\n",
       "      <td>-2.377933</td>\n",
       "      <td>-2.735623</td>\n",
       "      <td>0.000000</td>\n",
       "      <td>0.000000</td>\n",
       "    </tr>\n",
       "    <tr>\n",
       "      <td>25%</td>\n",
       "      <td>105.000000</td>\n",
       "      <td>-0.901810</td>\n",
       "      <td>-0.174201</td>\n",
       "      <td>0.312139</td>\n",
       "      <td>-0.436332</td>\n",
       "      <td>-0.552683</td>\n",
       "      <td>-0.613937</td>\n",
       "      <td>-0.324460</td>\n",
       "      <td>-0.157950</td>\n",
       "      <td>-0.517152</td>\n",
       "      <td>...</td>\n",
       "      <td>-0.219877</td>\n",
       "      <td>-0.528465</td>\n",
       "      <td>-0.172574</td>\n",
       "      <td>-0.384946</td>\n",
       "      <td>-0.160158</td>\n",
       "      <td>-0.313228</td>\n",
       "      <td>-0.045075</td>\n",
       "      <td>-0.015932</td>\n",
       "      <td>5.980000</td>\n",
       "      <td>0.000000</td>\n",
       "    </tr>\n",
       "    <tr>\n",
       "      <td>50%</td>\n",
       "      <td>241.000000</td>\n",
       "      <td>-0.376162</td>\n",
       "      <td>0.277666</td>\n",
       "      <td>0.897601</td>\n",
       "      <td>0.448154</td>\n",
       "      <td>-0.107492</td>\n",
       "      <td>-0.068701</td>\n",
       "      <td>0.117003</td>\n",
       "      <td>0.044961</td>\n",
       "      <td>-0.074016</td>\n",
       "      <td>...</td>\n",
       "      <td>-0.070069</td>\n",
       "      <td>-0.069830</td>\n",
       "      <td>-0.045366</td>\n",
       "      <td>0.091900</td>\n",
       "      <td>0.145526</td>\n",
       "      <td>-0.015710</td>\n",
       "      <td>0.023011</td>\n",
       "      <td>0.022966</td>\n",
       "      <td>17.240000</td>\n",
       "      <td>0.000000</td>\n",
       "    </tr>\n",
       "    <tr>\n",
       "      <td>75%</td>\n",
       "      <td>366.000000</td>\n",
       "      <td>1.108861</td>\n",
       "      <td>0.877669</td>\n",
       "      <td>1.509547</td>\n",
       "      <td>1.140908</td>\n",
       "      <td>0.466815</td>\n",
       "      <td>0.490715</td>\n",
       "      <td>0.567376</td>\n",
       "      <td>0.262158</td>\n",
       "      <td>0.415102</td>\n",
       "      <td>...</td>\n",
       "      <td>0.102520</td>\n",
       "      <td>0.311334</td>\n",
       "      <td>0.073547</td>\n",
       "      <td>0.429625</td>\n",
       "      <td>0.439774</td>\n",
       "      <td>0.263885</td>\n",
       "      <td>0.115571</td>\n",
       "      <td>0.087914</td>\n",
       "      <td>57.750000</td>\n",
       "      <td>0.000000</td>\n",
       "    </tr>\n",
       "    <tr>\n",
       "      <td>max</td>\n",
       "      <td>499.000000</td>\n",
       "      <td>1.586093</td>\n",
       "      <td>5.267376</td>\n",
       "      <td>3.772857</td>\n",
       "      <td>4.075817</td>\n",
       "      <td>7.672544</td>\n",
       "      <td>5.122103</td>\n",
       "      <td>4.808426</td>\n",
       "      <td>1.726413</td>\n",
       "      <td>5.459274</td>\n",
       "      <td>...</td>\n",
       "      <td>5.273420</td>\n",
       "      <td>1.461535</td>\n",
       "      <td>3.150413</td>\n",
       "      <td>1.215279</td>\n",
       "      <td>1.136720</td>\n",
       "      <td>3.065576</td>\n",
       "      <td>2.490503</td>\n",
       "      <td>1.575380</td>\n",
       "      <td>3828.040000</td>\n",
       "      <td>1.000000</td>\n",
       "    </tr>\n",
       "  </tbody>\n",
       "</table>\n",
       "<p>8 rows × 31 columns</p>\n",
       "</div>"
      ],
      "text/plain": [
       "             Time          V1          V2          V3          V4          V5  \\\n",
       "count  663.000000  663.000000  663.000000  663.000000  663.000000  663.000000   \n",
       "mean   240.723982   -0.173477    0.202923    0.868027    0.313785    0.004962   \n",
       "std    147.066052    1.318746    1.195083    1.017452    1.268028    1.131101   \n",
       "min      0.000000   -6.093248  -12.114213   -5.694973   -4.657545   -6.631951   \n",
       "25%    105.000000   -0.901810   -0.174201    0.312139   -0.436332   -0.552683   \n",
       "50%    241.000000   -0.376162    0.277666    0.897601    0.448154   -0.107492   \n",
       "75%    366.000000    1.108861    0.877669    1.509547    1.140908    0.466815   \n",
       "max    499.000000    1.586093    5.267376    3.772857    4.075817    7.672544   \n",
       "\n",
       "               V6          V7          V8          V9  ...         V21  \\\n",
       "count  663.000000  663.000000  663.000000  663.000000  ...  663.000000   \n",
       "mean     0.191067    0.120179   -0.057877   -0.021444  ...    0.011559   \n",
       "std      1.248768    0.860575    0.828433    0.897497  ...    0.611034   \n",
       "min     -3.498447   -4.925568   -7.494658   -2.770089  ...   -4.134608   \n",
       "25%     -0.613937   -0.324460   -0.157950   -0.517152  ...   -0.219877   \n",
       "50%     -0.068701    0.117003    0.044961   -0.074016  ...   -0.070069   \n",
       "75%      0.490715    0.567376    0.262158    0.415102  ...    0.102520   \n",
       "max      5.122103    4.808426    1.726413    5.459274  ...    5.273420   \n",
       "\n",
       "              V22         V23         V24         V25         V26         V27  \\\n",
       "count  663.000000  663.000000  663.000000  663.000000  663.000000  663.000000   \n",
       "mean    -0.101324   -0.039138   -0.001128    0.118359    0.023800    0.026277   \n",
       "std      0.609244    0.369201    0.628296    0.426569    0.468524    0.308202   \n",
       "min     -2.776923   -3.553381   -1.867208   -1.389079   -1.243924   -2.377933   \n",
       "25%     -0.528465   -0.172574   -0.384946   -0.160158   -0.313228   -0.045075   \n",
       "50%     -0.069830   -0.045366    0.091900    0.145526   -0.015710    0.023011   \n",
       "75%      0.311334    0.073547    0.429625    0.439774    0.263885    0.115571   \n",
       "max      1.461535    3.150413    1.215279    1.136720    3.065576    2.490503   \n",
       "\n",
       "              V28       Amount       Class  \n",
       "count  663.000000   663.000000  663.000000  \n",
       "mean    -0.015521    70.339698    0.039216  \n",
       "std      0.291046   206.447777    0.194254  \n",
       "min     -2.735623     0.000000    0.000000  \n",
       "25%     -0.015932     5.980000    0.000000  \n",
       "50%      0.022966    17.240000    0.000000  \n",
       "75%      0.087914    57.750000    0.000000  \n",
       "max      1.575380  3828.040000    1.000000  \n",
       "\n",
       "[8 rows x 31 columns]"
      ]
     },
     "execution_count": 6,
     "metadata": {},
     "output_type": "execute_result"
    }
   ],
   "source": [
    "credit.describe()"
   ]
  },
  {
   "cell_type": "markdown",
   "metadata": {},
   "source": [
    "# DATA CLEANING"
   ]
  },
  {
   "cell_type": "code",
   "execution_count": 7,
   "metadata": {},
   "outputs": [
    {
     "data": {
      "text/plain": [
       "Time      0\n",
       "V1        0\n",
       "V2        0\n",
       "V3        0\n",
       "V4        0\n",
       "V5        0\n",
       "V6        0\n",
       "V7        0\n",
       "V8        0\n",
       "V9        0\n",
       "V10       0\n",
       "V11       0\n",
       "V12       0\n",
       "V13       0\n",
       "V14       0\n",
       "V15       0\n",
       "V16       0\n",
       "V17       0\n",
       "V18       0\n",
       "V19       0\n",
       "V20       0\n",
       "V21       0\n",
       "V22       0\n",
       "V23       0\n",
       "V24       0\n",
       "V25       0\n",
       "V26       0\n",
       "V27       0\n",
       "V28       0\n",
       "Amount    0\n",
       "Class     0\n",
       "dtype: int64"
      ]
     },
     "execution_count": 7,
     "metadata": {},
     "output_type": "execute_result"
    }
   ],
   "source": [
    "credit.isnull().sum()"
   ]
  },
  {
   "cell_type": "code",
   "execution_count": 68,
   "metadata": {},
   "outputs": [
    {
     "data": {
      "text/plain": [
       "<matplotlib.axes._subplots.AxesSubplot at 0x19350c6b5c8>"
      ]
     },
     "execution_count": 68,
     "metadata": {},
     "output_type": "execute_result"
    },
    {
     "data": {
      "image/png": "[encoded data removed]",
      "text/plain": [
       "<Figure size 432x288 with 1 Axes>"
      ]
     },
     "metadata": {
      "needs_background": "light"
     },
     "output_type": "display_data"
    }
   ],
   "source": [
    "credit[\"Time\"].plot.box()"
   ]
  },
  {
   "cell_type": "code",
   "execution_count": 69,
   "metadata": {},
   "outputs": [
    {
     "data": {
      "text/plain": [
       "<matplotlib.axes._subplots.AxesSubplot at 0x19350c18048>"
      ]
     },
     "execution_count": 69,
     "metadata": {},
     "output_type": "execute_result"
    },
    {
     "data": {
      "image/png": "[encoded data removed]",
      "text/plain": [
       "<Figure size 432x288 with 1 Axes>"
      ]
     },
     "metadata": {
      "needs_background": "light"
     },
     "output_type": "display_data"
    }
   ],
   "source": [
    "credit[\"V1\"].plot.box()"
   ]
  },
  {
   "cell_type": "code",
   "execution_count": 8,
   "metadata": {},
   "outputs": [
    {
     "data": {
      "text/plain": [
       "<matplotlib.axes._subplots.AxesSubplot at 0x1934e4117c8>"
      ]
     },
     "execution_count": 8,
     "metadata": {},
     "output_type": "execute_result"
    },
    {
     "data": {
      "image/png": "[encoded data removed]",
      "text/plain": [
       "<Figure size 432x288 with 2 Axes>"
      ]
     },
     "metadata": {
      "needs_background": "light"
     },
     "output_type": "display_data"
    }
   ],
   "source": [
    "sns.heatmap(credit.isnull())"
   ]
  },
  {
   "cell_type": "markdown",
   "metadata": {},
   "source": [
    "# SPLIT DATASET INTO X AND Y FOR TRANING AND TESTING"
   ]
  },
  {
   "cell_type": "code",
   "execution_count": 9,
   "metadata": {},
   "outputs": [],
   "source": [
    "x=credit.drop(\"Class\",axis=1)"
   ]
  },
  {
   "cell_type": "code",
   "execution_count": 10,
   "metadata": {},
   "outputs": [],
   "source": [
    "y=credit[\"Class\"]"
   ]
  },
  {
   "cell_type": "code",
   "execution_count": 11,
   "metadata": {},
   "outputs": [
    {
     "data": {
      "text/plain": [
       "<matplotlib.axes._subplots.AxesSubplot at 0x1935059a3c8>"
      ]
     },
     "execution_count": 11,
     "metadata": {},
     "output_type": "execute_result"
    },
    {
     "data": {
      "image/png": "[encoded data removed]",
      "text/plain": [
       "<Figure size 432x288 with 1 Axes>"
      ]
     },
     "metadata": {
      "needs_background": "light"
     },
     "output_type": "display_data"
    }
   ],
   "source": [
    "sns.countplot(x=\"Class\",data=credit)"
   ]
  },
  {
   "cell_type": "code",
   "execution_count": 12,
   "metadata": {},
   "outputs": [
    {
     "data": {
      "text/plain": [
       "0    637\n",
       "1     26\n",
       "Name: Class, dtype: int64"
      ]
     },
     "execution_count": 12,
     "metadata": {},
     "output_type": "execute_result"
    }
   ],
   "source": [
    "# Here 0 for otherwise condition and 1 for fraud\n",
    "count=credit['Class'].value_counts()\n",
    "count"
   ]
  },
  {
   "cell_type": "code",
   "execution_count": 13,
   "metadata": {},
   "outputs": [
    {
     "data": {
      "text/html": [
       "<div>\n",
       "<style scoped>\n",
       "    .dataframe tbody tr th:only-of-type {\n",
       "        vertical-align: middle;\n",
       "    }\n",
       "\n",
       "    .dataframe tbody tr th {\n",
       "        vertical-align: top;\n",
       "    }\n",
       "\n",
       "    .dataframe thead th {\n",
       "        text-align: right;\n",
       "    }\n",
       "</style>\n",
       "<table border=\"1\" class=\"dataframe\">\n",
       "  <thead>\n",
       "    <tr style=\"text-align: right;\">\n",
       "      <th></th>\n",
       "      <th>Time</th>\n",
       "      <th>V1</th>\n",
       "      <th>V2</th>\n",
       "      <th>V3</th>\n",
       "      <th>V4</th>\n",
       "      <th>V5</th>\n",
       "      <th>V6</th>\n",
       "      <th>V7</th>\n",
       "      <th>V8</th>\n",
       "      <th>V9</th>\n",
       "      <th>...</th>\n",
       "      <th>V20</th>\n",
       "      <th>V21</th>\n",
       "      <th>V22</th>\n",
       "      <th>V23</th>\n",
       "      <th>V24</th>\n",
       "      <th>V25</th>\n",
       "      <th>V26</th>\n",
       "      <th>V27</th>\n",
       "      <th>V28</th>\n",
       "      <th>Amount</th>\n",
       "    </tr>\n",
       "  </thead>\n",
       "  <tbody>\n",
       "    <tr>\n",
       "      <td>0</td>\n",
       "      <td>0</td>\n",
       "      <td>-1.359807</td>\n",
       "      <td>-0.072781</td>\n",
       "      <td>2.536347</td>\n",
       "      <td>1.378155</td>\n",
       "      <td>-0.338321</td>\n",
       "      <td>0.462388</td>\n",
       "      <td>0.239599</td>\n",
       "      <td>0.098698</td>\n",
       "      <td>0.363787</td>\n",
       "      <td>...</td>\n",
       "      <td>0.251412</td>\n",
       "      <td>-0.018307</td>\n",
       "      <td>0.277838</td>\n",
       "      <td>-0.110474</td>\n",
       "      <td>0.066928</td>\n",
       "      <td>0.128539</td>\n",
       "      <td>-0.189115</td>\n",
       "      <td>0.133558</td>\n",
       "      <td>-0.021053</td>\n",
       "      <td>149.62</td>\n",
       "    </tr>\n",
       "    <tr>\n",
       "      <td>1</td>\n",
       "      <td>0</td>\n",
       "      <td>1.191857</td>\n",
       "      <td>0.266151</td>\n",
       "      <td>0.166480</td>\n",
       "      <td>0.448154</td>\n",
       "      <td>0.060018</td>\n",
       "      <td>-0.082361</td>\n",
       "      <td>-0.078803</td>\n",
       "      <td>0.085102</td>\n",
       "      <td>-0.255425</td>\n",
       "      <td>...</td>\n",
       "      <td>-0.069083</td>\n",
       "      <td>-0.225775</td>\n",
       "      <td>-0.638672</td>\n",
       "      <td>0.101288</td>\n",
       "      <td>-0.339846</td>\n",
       "      <td>0.167170</td>\n",
       "      <td>0.125895</td>\n",
       "      <td>-0.008983</td>\n",
       "      <td>0.014724</td>\n",
       "      <td>2.69</td>\n",
       "    </tr>\n",
       "    <tr>\n",
       "      <td>2</td>\n",
       "      <td>1</td>\n",
       "      <td>-1.358354</td>\n",
       "      <td>-1.340163</td>\n",
       "      <td>1.773209</td>\n",
       "      <td>0.379780</td>\n",
       "      <td>-0.503198</td>\n",
       "      <td>1.800499</td>\n",
       "      <td>0.791461</td>\n",
       "      <td>0.247676</td>\n",
       "      <td>-1.514654</td>\n",
       "      <td>...</td>\n",
       "      <td>0.524980</td>\n",
       "      <td>0.247998</td>\n",
       "      <td>0.771679</td>\n",
       "      <td>0.909412</td>\n",
       "      <td>-0.689281</td>\n",
       "      <td>-0.327642</td>\n",
       "      <td>-0.139097</td>\n",
       "      <td>-0.055353</td>\n",
       "      <td>-0.059752</td>\n",
       "      <td>378.66</td>\n",
       "    </tr>\n",
       "    <tr>\n",
       "      <td>3</td>\n",
       "      <td>1</td>\n",
       "      <td>-0.966272</td>\n",
       "      <td>-0.185226</td>\n",
       "      <td>1.792993</td>\n",
       "      <td>-0.863291</td>\n",
       "      <td>-0.010309</td>\n",
       "      <td>1.247203</td>\n",
       "      <td>0.237609</td>\n",
       "      <td>0.377436</td>\n",
       "      <td>-1.387024</td>\n",
       "      <td>...</td>\n",
       "      <td>-0.208038</td>\n",
       "      <td>-0.108300</td>\n",
       "      <td>0.005274</td>\n",
       "      <td>-0.190321</td>\n",
       "      <td>-1.175575</td>\n",
       "      <td>0.647376</td>\n",
       "      <td>-0.221929</td>\n",
       "      <td>0.062723</td>\n",
       "      <td>0.061458</td>\n",
       "      <td>123.50</td>\n",
       "    </tr>\n",
       "    <tr>\n",
       "      <td>4</td>\n",
       "      <td>2</td>\n",
       "      <td>-1.158233</td>\n",
       "      <td>0.877737</td>\n",
       "      <td>1.548718</td>\n",
       "      <td>0.403034</td>\n",
       "      <td>-0.407193</td>\n",
       "      <td>0.095921</td>\n",
       "      <td>0.592941</td>\n",
       "      <td>-0.270533</td>\n",
       "      <td>0.817739</td>\n",
       "      <td>...</td>\n",
       "      <td>0.408542</td>\n",
       "      <td>-0.009431</td>\n",
       "      <td>0.798278</td>\n",
       "      <td>-0.137458</td>\n",
       "      <td>0.141267</td>\n",
       "      <td>-0.206010</td>\n",
       "      <td>0.502292</td>\n",
       "      <td>0.219422</td>\n",
       "      <td>0.215153</td>\n",
       "      <td>69.99</td>\n",
       "    </tr>\n",
       "    <tr>\n",
       "      <td>...</td>\n",
       "      <td>...</td>\n",
       "      <td>...</td>\n",
       "      <td>...</td>\n",
       "      <td>...</td>\n",
       "      <td>...</td>\n",
       "      <td>...</td>\n",
       "      <td>...</td>\n",
       "      <td>...</td>\n",
       "      <td>...</td>\n",
       "      <td>...</td>\n",
       "      <td>...</td>\n",
       "      <td>...</td>\n",
       "      <td>...</td>\n",
       "      <td>...</td>\n",
       "      <td>...</td>\n",
       "      <td>...</td>\n",
       "      <td>...</td>\n",
       "      <td>...</td>\n",
       "      <td>...</td>\n",
       "      <td>...</td>\n",
       "      <td>...</td>\n",
       "    </tr>\n",
       "    <tr>\n",
       "      <td>658</td>\n",
       "      <td>497</td>\n",
       "      <td>-0.417836</td>\n",
       "      <td>0.981103</td>\n",
       "      <td>1.135820</td>\n",
       "      <td>-0.172593</td>\n",
       "      <td>0.396675</td>\n",
       "      <td>-0.002842</td>\n",
       "      <td>0.519780</td>\n",
       "      <td>0.248763</td>\n",
       "      <td>-0.593497</td>\n",
       "      <td>...</td>\n",
       "      <td>0.098874</td>\n",
       "      <td>-0.205580</td>\n",
       "      <td>-0.547474</td>\n",
       "      <td>-0.020486</td>\n",
       "      <td>-0.368187</td>\n",
       "      <td>-0.227053</td>\n",
       "      <td>0.105281</td>\n",
       "      <td>0.253800</td>\n",
       "      <td>0.081276</td>\n",
       "      <td>8.83</td>\n",
       "    </tr>\n",
       "    <tr>\n",
       "      <td>659</td>\n",
       "      <td>498</td>\n",
       "      <td>-0.753769</td>\n",
       "      <td>1.098287</td>\n",
       "      <td>1.835453</td>\n",
       "      <td>0.614571</td>\n",
       "      <td>-0.317859</td>\n",
       "      <td>-0.101055</td>\n",
       "      <td>0.039454</td>\n",
       "      <td>-0.656824</td>\n",
       "      <td>-0.048761</td>\n",
       "      <td>...</td>\n",
       "      <td>-0.369512</td>\n",
       "      <td>1.101142</td>\n",
       "      <td>0.686059</td>\n",
       "      <td>0.005954</td>\n",
       "      <td>0.361744</td>\n",
       "      <td>-0.457852</td>\n",
       "      <td>-0.352576</td>\n",
       "      <td>0.094602</td>\n",
       "      <td>0.170480</td>\n",
       "      <td>5.00</td>\n",
       "    </tr>\n",
       "    <tr>\n",
       "      <td>660</td>\n",
       "      <td>499</td>\n",
       "      <td>1.255439</td>\n",
       "      <td>0.307729</td>\n",
       "      <td>0.292700</td>\n",
       "      <td>0.699873</td>\n",
       "      <td>-0.428876</td>\n",
       "      <td>-1.088456</td>\n",
       "      <td>0.043840</td>\n",
       "      <td>-0.167739</td>\n",
       "      <td>0.128854</td>\n",
       "      <td>...</td>\n",
       "      <td>-0.121156</td>\n",
       "      <td>-0.294795</td>\n",
       "      <td>-0.882126</td>\n",
       "      <td>0.136846</td>\n",
       "      <td>0.327949</td>\n",
       "      <td>0.194459</td>\n",
       "      <td>0.096516</td>\n",
       "      <td>-0.027271</td>\n",
       "      <td>0.029491</td>\n",
       "      <td>1.98</td>\n",
       "    </tr>\n",
       "    <tr>\n",
       "      <td>661</td>\n",
       "      <td>499</td>\n",
       "      <td>1.355790</td>\n",
       "      <td>-1.122921</td>\n",
       "      <td>1.191187</td>\n",
       "      <td>-0.576548</td>\n",
       "      <td>-1.708750</td>\n",
       "      <td>0.274721</td>\n",
       "      <td>-1.640785</td>\n",
       "      <td>0.295838</td>\n",
       "      <td>0.618649</td>\n",
       "      <td>...</td>\n",
       "      <td>0.020548</td>\n",
       "      <td>0.302035</td>\n",
       "      <td>0.920013</td>\n",
       "      <td>-0.210219</td>\n",
       "      <td>-0.435499</td>\n",
       "      <td>0.450803</td>\n",
       "      <td>0.068454</td>\n",
       "      <td>0.062214</td>\n",
       "      <td>0.022191</td>\n",
       "      <td>22.83</td>\n",
       "    </tr>\n",
       "    <tr>\n",
       "      <td>662</td>\n",
       "      <td>499</td>\n",
       "      <td>-0.860626</td>\n",
       "      <td>-0.109137</td>\n",
       "      <td>2.112474</td>\n",
       "      <td>-1.400567</td>\n",
       "      <td>0.180269</td>\n",
       "      <td>1.329656</td>\n",
       "      <td>0.431001</td>\n",
       "      <td>0.317761</td>\n",
       "      <td>0.593762</td>\n",
       "      <td>...</td>\n",
       "      <td>0.157201</td>\n",
       "      <td>-0.197635</td>\n",
       "      <td>-0.436535</td>\n",
       "      <td>-0.194840</td>\n",
       "      <td>-1.236873</td>\n",
       "      <td>0.218668</td>\n",
       "      <td>0.902383</td>\n",
       "      <td>-0.210195</td>\n",
       "      <td>-0.190458</td>\n",
       "      <td>92.82</td>\n",
       "    </tr>\n",
       "  </tbody>\n",
       "</table>\n",
       "<p>663 rows × 30 columns</p>\n",
       "</div>"
      ],
      "text/plain": [
       "     Time        V1        V2        V3        V4        V5        V6  \\\n",
       "0       0 -1.359807 -0.072781  2.536347  1.378155 -0.338321  0.462388   \n",
       "1       0  1.191857  0.266151  0.166480  0.448154  0.060018 -0.082361   \n",
       "2       1 -1.358354 -1.340163  1.773209  0.379780 -0.503198  1.800499   \n",
       "3       1 -0.966272 -0.185226  1.792993 -0.863291 -0.010309  1.247203   \n",
       "4       2 -1.158233  0.877737  1.548718  0.403034 -0.407193  0.095921   \n",
       "..    ...       ...       ...       ...       ...       ...       ...   \n",
       "658   497 -0.417836  0.981103  1.135820 -0.172593  0.396675 -0.002842   \n",
       "659   498 -0.753769  1.098287  1.835453  0.614571 -0.317859 -0.101055   \n",
       "660   499  1.255439  0.307729  0.292700  0.699873 -0.428876 -1.088456   \n",
       "661   499  1.355790 -1.122921  1.191187 -0.576548 -1.708750  0.274721   \n",
       "662   499 -0.860626 -0.109137  2.112474 -1.400567  0.180269  1.329656   \n",
       "\n",
       "           V7        V8        V9  ...       V20       V21       V22  \\\n",
       "0    0.239599  0.098698  0.363787  ...  0.251412 -0.018307  0.277838   \n",
       "1   -0.078803  0.085102 -0.255425  ... -0.069083 -0.225775 -0.638672   \n",
       "2    0.791461  0.247676 -1.514654  ...  0.524980  0.247998  0.771679   \n",
       "3    0.237609  0.377436 -1.387024  ... -0.208038 -0.108300  0.005274   \n",
       "4    0.592941 -0.270533  0.817739  ...  0.408542 -0.009431  0.798278   \n",
       "..        ...       ...       ...  ...       ...       ...       ...   \n",
       "658  0.519780  0.248763 -0.593497  ...  0.098874 -0.205580 -0.547474   \n",
       "659  0.039454 -0.656824 -0.048761  ... -0.369512  1.101142  0.686059   \n",
       "660  0.043840 -0.167739  0.128854  ... -0.121156 -0.294795 -0.882126   \n",
       "661 -1.640785  0.295838  0.618649  ...  0.020548  0.302035  0.920013   \n",
       "662  0.431001  0.317761  0.593762  ...  0.157201 -0.197635 -0.436535   \n",
       "\n",
       "          V23       V24       V25       V26       V27       V28  Amount  \n",
       "0   -0.110474  0.066928  0.128539 -0.189115  0.133558 -0.021053  149.62  \n",
       "1    0.101288 -0.339846  0.167170  0.125895 -0.008983  0.014724    2.69  \n",
       "2    0.909412 -0.689281 -0.327642 -0.139097 -0.055353 -0.059752  378.66  \n",
       "3   -0.190321 -1.175575  0.647376 -0.221929  0.062723  0.061458  123.50  \n",
       "4   -0.137458  0.141267 -0.206010  0.502292  0.219422  0.215153   69.99  \n",
       "..        ...       ...       ...       ...       ...       ...     ...  \n",
       "658 -0.020486 -0.368187 -0.227053  0.105281  0.253800  0.081276    8.83  \n",
       "659  0.005954  0.361744 -0.457852 -0.352576  0.094602  0.170480    5.00  \n",
       "660  0.136846  0.327949  0.194459  0.096516 -0.027271  0.029491    1.98  \n",
       "661 -0.210219 -0.435499  0.450803  0.068454  0.062214  0.022191   22.83  \n",
       "662 -0.194840 -1.236873  0.218668  0.902383 -0.210195 -0.190458   92.82  \n",
       "\n",
       "[663 rows x 30 columns]"
      ]
     },
     "execution_count": 13,
     "metadata": {},
     "output_type": "execute_result"
    }
   ],
   "source": [
    "x"
   ]
  },
  {
   "cell_type": "code",
   "execution_count": 14,
   "metadata": {},
   "outputs": [
    {
     "data": {
      "text/plain": [
       "0      0\n",
       "1      0\n",
       "2      0\n",
       "3      0\n",
       "4      0\n",
       "      ..\n",
       "658    0\n",
       "659    0\n",
       "660    0\n",
       "661    0\n",
       "662    0\n",
       "Name: Class, Length: 663, dtype: int64"
      ]
     },
     "execution_count": 14,
     "metadata": {},
     "output_type": "execute_result"
    }
   ],
   "source": [
    "y"
   ]
  },
  {
   "cell_type": "code",
   "execution_count": 15,
   "metadata": {},
   "outputs": [],
   "source": [
    "x_train,x_test,y_train,y_test=train_test_split(x,y,test_size=.21,random_state=42)"
   ]
  },
  {
   "cell_type": "code",
   "execution_count": 16,
   "metadata": {},
   "outputs": [
    {
     "data": {
      "text/plain": [
       "(523, 30)"
      ]
     },
     "execution_count": 16,
     "metadata": {},
     "output_type": "execute_result"
    }
   ],
   "source": [
    "x_train.shape"
   ]
  },
  {
   "cell_type": "code",
   "execution_count": 17,
   "metadata": {},
   "outputs": [
    {
     "data": {
      "text/plain": [
       "(523,)"
      ]
     },
     "execution_count": 17,
     "metadata": {},
     "output_type": "execute_result"
    }
   ],
   "source": [
    "y_train.shape"
   ]
  },
  {
   "cell_type": "code",
   "execution_count": 18,
   "metadata": {},
   "outputs": [
    {
     "data": {
      "text/plain": [
       "(140, 30)"
      ]
     },
     "execution_count": 18,
     "metadata": {},
     "output_type": "execute_result"
    }
   ],
   "source": [
    "x_test.shape"
   ]
  },
  {
   "cell_type": "code",
   "execution_count": 19,
   "metadata": {},
   "outputs": [
    {
     "data": {
      "text/plain": [
       "(140,)"
      ]
     },
     "execution_count": 19,
     "metadata": {},
     "output_type": "execute_result"
    }
   ],
   "source": [
    "y_test.shape"
   ]
  },
  {
   "cell_type": "markdown",
   "metadata": {},
   "source": [
    "# APPLYING MODEL"
   ]
  },
  {
   "cell_type": "code",
   "execution_count": 20,
   "metadata": {},
   "outputs": [],
   "source": [
    "lg=LogisticRegression()"
   ]
  },
  {
   "cell_type": "code",
   "execution_count": 59,
   "metadata": {},
   "outputs": [
    {
     "name": "stdout",
     "output_type": "stream",
     "text": [
      "accuracy Score= [0.95522388 0.91729323 0.95454545 0.96212121 0.85606061]\n",
      "Mean Scores 0.9290488772813988\n",
      "Standard Deviation 0.03973529536529823\n",
      "Y Prediction values\n",
      "[0 0 0 0 0 0 0 0 0 0 0 0 0 0 0 0 0 0 0 0 0 0 0 0 0 0 0 0 0 0 0 0 0 0 0 0 0\n",
      " 0 0 0 0 0 0 0 0 0 0 0 0 0 0 0 0 0 0 0 0 0 0 0 0 0 0 0 0 0 0 0 0 0 0 0 0 0\n",
      " 0 0 0 0 0 0 0 0 0 0 0 0 0 0 0 0 0 0 0 0 0 0 0 0 0 0 0 0 0 0 0 0 0 0 0 0 0\n",
      " 0 0 0 0 0 0 0 0 0 0 0 0 0 0 0 0 0 0 0 1 0 0 0 0 0 0 0 0 1 1 0 0 0 0 0 0 0\n",
      " 0 0 0 0 0 0 0 0 0 0 0 0 0 0 0 0 1 0 0 0 0 0 0 0 0 0 0 0 0 0 0 0 0 0 0 0 0\n",
      " 0 0 0 0 0 0 0 0 0 0 0 0 0 0 0 0 0 0 0 0 0 0 0 0 0 1 0 0 0 0 0 0 0 0 0 0 0\n",
      " 0 0 0 0 0 0 0 0 0 0 0 0 0 0 0 0 0 0 0 0 0 0 0 0 0 0 0 1 0 0 0 0 0 0 0 0 0\n",
      " 0 0 0 0 0 0 0 0 0 0 0 0 0 0 0 0 0 0 0 0 0 0 0 0 0 0 0 0 0 0 0 0 0 0 0 0 0\n",
      " 0 0 0 0 0 0 0 0 0 0 0 0 0 0 0 0 0 0 0 0 0 0 0 0 0 0 0 0 0 0 0 0 0 0 0 0 0\n",
      " 0 0 0 0 0 0 0 0 0 0 0 0 0 0 0 0 0 0 0 0 0 0 0 0 0 0 0 0 0 0 0 0 0 0 0 0 0\n",
      " 0 0 0 0 0 0 0 0 0 0 0 0 0 0 1 0 0 0 0 0 0 0 0 0 0 0 0 0 0 0 0 0 0 0 0 0 0\n",
      " 0 0 0 0 0 0 0 0 0 0 0 0 0 0 0 0 0 0 0 0 0 0 0 0 0 0 0 0 0 0 0 0 0 0 0 0 0\n",
      " 0 0 0 0 0 0 0 0 0 0 0 0 0 0 0 0 0 0 0 0 0 0 0 0 0 0 0 0 0 0 0 0 0 0 0 0 0\n",
      " 0 0 0 0 0 0 0 0 0 0 0 0 0 0 0 0 0 0 0 0 0 0 0 0 0 0 0 0 0 0 0 0 0 0 0 0 0\n",
      " 0 0 0 0 0 0 0 0 0 0 0 1 0 0 0 0 0 0 0 0 0 0 0 0 0 0 0 0 0 0 0 0 0 0 0 0 0\n",
      " 0 0 0 0 0 0 0 0 0 0 0 0 0 1 0 0 0 0 0 0 0 0 0 0 0 0 0 0 0 0 1 0 0 0 0 0 0\n",
      " 0 0 0 0 0 0 0 1 0 0 0 0 0 0 1 0 0 0 0 0 0 1 0 0 0 0 0 1 1 0 0 0 0 0 0 0 0\n",
      " 1 1 0 0 0 0 0 0 0 0 0 0 0 1 0 0 0 0 0 0 0 0 0 1 0 0 0 0 0 0 1 0 1 0]\n"
     ]
    },
    {
     "data": {
      "text/plain": [
       "0.9291101055806938"
      ]
     },
     "execution_count": 59,
     "metadata": {},
     "output_type": "execute_result"
    }
   ],
   "source": [
    "lg.fit(x_train,y_train)\n",
    "predlg=lg.predict(x_test)\n",
    "score=cross_val_score(lg,x,y,cv=5,scoring='accuracy')\n",
    "\n",
    "print('accuracy Score=',score)\n",
    "print('Mean Scores',score.mean())\n",
    "print('Standard Deviation',score.std())\n",
    "\n",
    "pred=cross_val_predict(lg,x,y,cv=5)\n",
    "print('Y Prediction values')\n",
    "print(pred)\n",
    "conf_mat=confusion_matrix(y,pred)\n",
    "conf_mat\n",
    "\n",
    "from sklearn.metrics import accuracy_score\n",
    "accuracy_score(y,pred)"
   ]
  },
  {
   "cell_type": "code",
   "execution_count": null,
   "metadata": {},
   "outputs": [],
   "source": []
  },
  {
   "cell_type": "code",
   "execution_count": 22,
   "metadata": {},
   "outputs": [
    {
     "name": "stdout",
     "output_type": "stream",
     "text": [
      "0.9571428571428572\n",
      "[[134   3]\n",
      " [  3   0]]\n",
      "              precision    recall  f1-score   support\n",
      "\n",
      "           0       0.98      0.98      0.98       137\n",
      "           1       0.00      0.00      0.00         3\n",
      "\n",
      "    accuracy                           0.96       140\n",
      "   macro avg       0.49      0.49      0.49       140\n",
      "weighted avg       0.96      0.96      0.96       140\n",
      "\n",
      "[0 0 0 0 0 0 1 0 0 0 0 0 0 0 0 0 0 0 1 0 0 0 0 0 0 0 0 0 0 0 0 0 0 0 0 0 0\n",
      " 0 0 0 0 0 0 0 0 0 0 0 0 0 0 0 0 0 0 0 0 0 0 0 0 0 0 0 0 0 0 0 0 0 0 0 0 0\n",
      " 0 0 0 0 0 0 0 0 0 0 0 0 0 0 0 0 0 0 0 0 0 0 0 0 0 0 0 0 0 0 0 0 0 0 0 0 0\n",
      " 0 0 0 0 0 0 0 0 0 0 0 0 0 0 0 0 0 0 0 0 0 0 0 1 0 0 0 0 0]\n"
     ]
    }
   ],
   "source": [
    "predlg=lg.predict(x_test)\n",
    "print(accuracy_score(y_test,predlg))\n",
    "print(confusion_matrix(y_test,predlg))\n",
    "print(classification_report(y_test,predlg))\n",
    "print(predlg)"
   ]
  },
  {
   "cell_type": "code",
   "execution_count": 23,
   "metadata": {},
   "outputs": [],
   "source": [
    "con=confusion_matrix(y_test,predlg)"
   ]
  },
  {
   "cell_type": "code",
   "execution_count": 24,
   "metadata": {},
   "outputs": [
    {
     "data": {
      "text/plain": [
       "array([[134,   3],\n",
       "       [  3,   0]], dtype=int64)"
      ]
     },
     "execution_count": 24,
     "metadata": {},
     "output_type": "execute_result"
    }
   ],
   "source": [
    "con"
   ]
  },
  {
   "cell_type": "code",
   "execution_count": 25,
   "metadata": {},
   "outputs": [
    {
     "data": {
      "text/plain": [
       "<matplotlib.axes._subplots.AxesSubplot at 0x193506364c8>"
      ]
     },
     "execution_count": 25,
     "metadata": {},
     "output_type": "execute_result"
    },
    {
     "data": {
      "image/png": "[encoded data removed]",
      "text/plain": [
       "<Figure size 432x288 with 2 Axes>"
      ]
     },
     "metadata": {
      "needs_background": "light"
     },
     "output_type": "display_data"
    }
   ],
   "source": [
    "sns.heatmap(con)"
   ]
  },
  {
   "cell_type": "code",
   "execution_count": 26,
   "metadata": {},
   "outputs": [],
   "source": [
    "data=pd.DataFrame(y_test,predlg)"
   ]
  },
  {
   "cell_type": "code",
   "execution_count": 27,
   "metadata": {},
   "outputs": [
    {
     "data": {
      "text/html": [
       "<div>\n",
       "<style scoped>\n",
       "    .dataframe tbody tr th:only-of-type {\n",
       "        vertical-align: middle;\n",
       "    }\n",
       "\n",
       "    .dataframe tbody tr th {\n",
       "        vertical-align: top;\n",
       "    }\n",
       "\n",
       "    .dataframe thead th {\n",
       "        text-align: right;\n",
       "    }\n",
       "</style>\n",
       "<table border=\"1\" class=\"dataframe\">\n",
       "  <thead>\n",
       "    <tr style=\"text-align: right;\">\n",
       "      <th></th>\n",
       "      <th>Class</th>\n",
       "    </tr>\n",
       "  </thead>\n",
       "  <tbody>\n",
       "    <tr>\n",
       "      <td>0</td>\n",
       "      <td>NaN</td>\n",
       "    </tr>\n",
       "    <tr>\n",
       "      <td>0</td>\n",
       "      <td>NaN</td>\n",
       "    </tr>\n",
       "    <tr>\n",
       "      <td>0</td>\n",
       "      <td>NaN</td>\n",
       "    </tr>\n",
       "    <tr>\n",
       "      <td>0</td>\n",
       "      <td>NaN</td>\n",
       "    </tr>\n",
       "    <tr>\n",
       "      <td>0</td>\n",
       "      <td>NaN</td>\n",
       "    </tr>\n",
       "    <tr>\n",
       "      <td>...</td>\n",
       "      <td>...</td>\n",
       "    </tr>\n",
       "    <tr>\n",
       "      <td>0</td>\n",
       "      <td>NaN</td>\n",
       "    </tr>\n",
       "    <tr>\n",
       "      <td>0</td>\n",
       "      <td>NaN</td>\n",
       "    </tr>\n",
       "    <tr>\n",
       "      <td>0</td>\n",
       "      <td>NaN</td>\n",
       "    </tr>\n",
       "    <tr>\n",
       "      <td>0</td>\n",
       "      <td>NaN</td>\n",
       "    </tr>\n",
       "    <tr>\n",
       "      <td>0</td>\n",
       "      <td>NaN</td>\n",
       "    </tr>\n",
       "  </tbody>\n",
       "</table>\n",
       "<p>140 rows × 1 columns</p>\n",
       "</div>"
      ],
      "text/plain": [
       "    Class\n",
       "0     NaN\n",
       "0     NaN\n",
       "0     NaN\n",
       "0     NaN\n",
       "0     NaN\n",
       "..    ...\n",
       "0     NaN\n",
       "0     NaN\n",
       "0     NaN\n",
       "0     NaN\n",
       "0     NaN\n",
       "\n",
       "[140 rows x 1 columns]"
      ]
     },
     "execution_count": 27,
     "metadata": {},
     "output_type": "execute_result"
    }
   ],
   "source": [
    "data"
   ]
  },
  {
   "cell_type": "code",
   "execution_count": 28,
   "metadata": {},
   "outputs": [],
   "source": [
    "from sklearn import metrics"
   ]
  },
  {
   "cell_type": "code",
   "execution_count": 29,
   "metadata": {},
   "outputs": [
    {
     "name": "stdout",
     "output_type": "stream",
     "text": [
      "ROC curve evaluation\n"
     ]
    }
   ],
   "source": [
    "#Print ROC curve \n",
    "print(\"ROC curve evaluation\")\n",
    "fpr,tpr,threshold=metrics.roc_curve(y_test,predlg)"
   ]
  },
  {
   "cell_type": "code",
   "execution_count": 30,
   "metadata": {},
   "outputs": [
    {
     "data": {
      "image/png": "[encoded data removed]",
      "text/plain": [
       "<Figure size 432x288 with 1 Axes>"
      ]
     },
     "metadata": {
      "needs_background": "light"
     },
     "output_type": "display_data"
    }
   ],
   "source": [
    "auc=metrics.roc_auc_score(y_test,predlg)\n",
    "plt.plot(fpr,tpr,label=\"credit,auc=\"+str(auc))\n",
    "plt.show()"
   ]
  },
  {
   "cell_type": "code",
   "execution_count": 31,
   "metadata": {},
   "outputs": [],
   "source": [
    "from sklearn.metrics import precision_recall_curve"
   ]
  },
  {
   "cell_type": "code",
   "execution_count": 32,
   "metadata": {},
   "outputs": [
    {
     "name": "stdout",
     "output_type": "stream",
     "text": [
      "AUPRC curve evaluation\n"
     ]
    }
   ],
   "source": [
    "# Print AUPRC(Area under Precision recall curve)\n",
    "print(\"AUPRC curve evaluation\")\n"
   ]
  },
  {
   "cell_type": "code",
   "execution_count": 33,
   "metadata": {},
   "outputs": [],
   "source": [
    "from sklearn.metrics import f1_score\n",
    "from sklearn.metrics import auc"
   ]
  },
  {
   "cell_type": "code",
   "execution_count": 34,
   "metadata": {},
   "outputs": [],
   "source": [
    "f1=f1_score(y_test,predlg)"
   ]
  },
  {
   "cell_type": "code",
   "execution_count": 35,
   "metadata": {},
   "outputs": [
    {
     "data": {
      "text/plain": [
       "0.0"
      ]
     },
     "execution_count": 35,
     "metadata": {},
     "output_type": "execute_result"
    }
   ],
   "source": [
    "f1"
   ]
  },
  {
   "cell_type": "code",
   "execution_count": 36,
   "metadata": {},
   "outputs": [],
   "source": [
    "prob=lg.predict_proba(x_test)"
   ]
  },
  {
   "cell_type": "code",
   "execution_count": 37,
   "metadata": {},
   "outputs": [
    {
     "data": {
      "text/plain": [
       "array([[0.98401824, 0.01598176],\n",
       "       [0.94461305, 0.05538695],\n",
       "       [0.98454401, 0.01545599],\n",
       "       [0.99853293, 0.00146707],\n",
       "       [0.97711668, 0.02288332],\n",
       "       [0.89583568, 0.10416432],\n",
       "       [0.15580577, 0.84419423],\n",
       "       [0.98826418, 0.01173582],\n",
       "       [0.94251919, 0.05748081],\n",
       "       [0.99231802, 0.00768198],\n",
       "       [0.98642595, 0.01357405],\n",
       "       [0.95439572, 0.04560428],\n",
       "       [0.97441128, 0.02558872],\n",
       "       [0.9589783 , 0.0410217 ],\n",
       "       [0.91536933, 0.08463067],\n",
       "       [0.98581277, 0.01418723],\n",
       "       [0.97137762, 0.02862238],\n",
       "       [0.9573823 , 0.0426177 ],\n",
       "       [0.10749487, 0.89250513],\n",
       "       [0.91207888, 0.08792112],\n",
       "       [0.97931035, 0.02068965],\n",
       "       [0.97649179, 0.02350821],\n",
       "       [0.90708812, 0.09291188],\n",
       "       [0.98249867, 0.01750133],\n",
       "       [0.91248059, 0.08751941],\n",
       "       [0.98479591, 0.01520409],\n",
       "       [0.98686899, 0.01313101],\n",
       "       [0.99033387, 0.00966613],\n",
       "       [0.96901865, 0.03098135],\n",
       "       [0.99477116, 0.00522884],\n",
       "       [0.92234977, 0.07765023],\n",
       "       [0.95905235, 0.04094765],\n",
       "       [0.86522443, 0.13477557],\n",
       "       [0.96098329, 0.03901671],\n",
       "       [0.9913458 , 0.0086542 ],\n",
       "       [0.98432964, 0.01567036],\n",
       "       [0.98381015, 0.01618985],\n",
       "       [0.90158699, 0.09841301],\n",
       "       [0.97666258, 0.02333742],\n",
       "       [0.89009094, 0.10990906],\n",
       "       [0.96790458, 0.03209542],\n",
       "       [0.96749519, 0.03250481],\n",
       "       [0.98979036, 0.01020964],\n",
       "       [0.98749725, 0.01250275],\n",
       "       [0.86634229, 0.13365771],\n",
       "       [0.96575004, 0.03424996],\n",
       "       [0.87555341, 0.12444659],\n",
       "       [0.99559861, 0.00440139],\n",
       "       [0.99318147, 0.00681853],\n",
       "       [0.95025498, 0.04974502],\n",
       "       [0.94080731, 0.05919269],\n",
       "       [0.87927392, 0.12072608],\n",
       "       [0.99220021, 0.00779979],\n",
       "       [0.9720804 , 0.0279196 ],\n",
       "       [0.99047548, 0.00952452],\n",
       "       [0.87019984, 0.12980016],\n",
       "       [0.9905927 , 0.0094073 ],\n",
       "       [0.99117062, 0.00882938],\n",
       "       [0.99200563, 0.00799437],\n",
       "       [0.99419215, 0.00580785],\n",
       "       [0.86392788, 0.13607212],\n",
       "       [0.97594309, 0.02405691],\n",
       "       [0.99658625, 0.00341375],\n",
       "       [0.88493214, 0.11506786],\n",
       "       [0.95294609, 0.04705391],\n",
       "       [0.96848823, 0.03151177],\n",
       "       [0.98157768, 0.01842232],\n",
       "       [0.97369451, 0.02630549],\n",
       "       [0.9794484 , 0.0205516 ],\n",
       "       [0.98957585, 0.01042415],\n",
       "       [0.98058663, 0.01941337],\n",
       "       [0.98982417, 0.01017583],\n",
       "       [0.95430994, 0.04569006],\n",
       "       [0.98431068, 0.01568932],\n",
       "       [0.94036304, 0.05963696],\n",
       "       [0.98963692, 0.01036308],\n",
       "       [0.92195727, 0.07804273],\n",
       "       [0.98681133, 0.01318867],\n",
       "       [0.67475675, 0.32524325],\n",
       "       [0.9769359 , 0.0230641 ],\n",
       "       [0.97980957, 0.02019043],\n",
       "       [0.70447633, 0.29552367],\n",
       "       [0.9933311 , 0.0066689 ],\n",
       "       [0.99808737, 0.00191263],\n",
       "       [0.98613425, 0.01386575],\n",
       "       [0.98946705, 0.01053295],\n",
       "       [0.98872225, 0.01127775],\n",
       "       [0.94124027, 0.05875973],\n",
       "       [0.99214168, 0.00785832],\n",
       "       [0.7815503 , 0.2184497 ],\n",
       "       [0.9882178 , 0.0117822 ],\n",
       "       [0.9750298 , 0.0249702 ],\n",
       "       [0.94266083, 0.05733917],\n",
       "       [0.86727533, 0.13272467],\n",
       "       [0.94114471, 0.05885529],\n",
       "       [0.96175189, 0.03824811],\n",
       "       [0.9866191 , 0.0133809 ],\n",
       "       [0.99458505, 0.00541495],\n",
       "       [0.92064618, 0.07935382],\n",
       "       [0.95810849, 0.04189151],\n",
       "       [0.97507129, 0.02492871],\n",
       "       [0.95134619, 0.04865381],\n",
       "       [0.986968  , 0.013032  ],\n",
       "       [0.80478414, 0.19521586],\n",
       "       [0.91157064, 0.08842936],\n",
       "       [0.68694551, 0.31305449],\n",
       "       [0.9754237 , 0.0245763 ],\n",
       "       [0.98277816, 0.01722184],\n",
       "       [0.93404462, 0.06595538],\n",
       "       [0.97769787, 0.02230213],\n",
       "       [0.96986682, 0.03013318],\n",
       "       [0.98918589, 0.01081411],\n",
       "       [0.94104641, 0.05895359],\n",
       "       [0.98063547, 0.01936453],\n",
       "       [0.99429733, 0.00570267],\n",
       "       [0.99568989, 0.00431011],\n",
       "       [0.95346361, 0.04653639],\n",
       "       [0.90894158, 0.09105842],\n",
       "       [0.94795012, 0.05204988],\n",
       "       [0.97591638, 0.02408362],\n",
       "       [0.98095222, 0.01904778],\n",
       "       [0.94066095, 0.05933905],\n",
       "       [0.98461077, 0.01538923],\n",
       "       [0.94983933, 0.05016067],\n",
       "       [0.99409853, 0.00590147],\n",
       "       [0.93900218, 0.06099782],\n",
       "       [0.9956463 , 0.0043537 ],\n",
       "       [0.93094354, 0.06905646],\n",
       "       [0.9746934 , 0.0253066 ],\n",
       "       [0.98367282, 0.01632718],\n",
       "       [0.95597026, 0.04402974],\n",
       "       [0.96831423, 0.03168577],\n",
       "       [0.9837371 , 0.0162629 ],\n",
       "       [0.75177409, 0.24822591],\n",
       "       [0.08261072, 0.91738928],\n",
       "       [0.95561604, 0.04438396],\n",
       "       [0.99774401, 0.00225599],\n",
       "       [0.98597884, 0.01402116],\n",
       "       [0.83078167, 0.16921833],\n",
       "       [0.98459907, 0.01540093]])"
      ]
     },
     "execution_count": 37,
     "metadata": {},
     "output_type": "execute_result"
    }
   ],
   "source": [
    "prob"
   ]
  },
  {
   "cell_type": "code",
   "execution_count": 38,
   "metadata": {},
   "outputs": [],
   "source": [
    "prob=prob[:,1]"
   ]
  },
  {
   "cell_type": "code",
   "execution_count": 39,
   "metadata": {},
   "outputs": [
    {
     "data": {
      "text/plain": [
       "array([0.01598176, 0.05538695, 0.01545599, 0.00146707, 0.02288332,\n",
       "       0.10416432, 0.84419423, 0.01173582, 0.05748081, 0.00768198,\n",
       "       0.01357405, 0.04560428, 0.02558872, 0.0410217 , 0.08463067,\n",
       "       0.01418723, 0.02862238, 0.0426177 , 0.89250513, 0.08792112,\n",
       "       0.02068965, 0.02350821, 0.09291188, 0.01750133, 0.08751941,\n",
       "       0.01520409, 0.01313101, 0.00966613, 0.03098135, 0.00522884,\n",
       "       0.07765023, 0.04094765, 0.13477557, 0.03901671, 0.0086542 ,\n",
       "       0.01567036, 0.01618985, 0.09841301, 0.02333742, 0.10990906,\n",
       "       0.03209542, 0.03250481, 0.01020964, 0.01250275, 0.13365771,\n",
       "       0.03424996, 0.12444659, 0.00440139, 0.00681853, 0.04974502,\n",
       "       0.05919269, 0.12072608, 0.00779979, 0.0279196 , 0.00952452,\n",
       "       0.12980016, 0.0094073 , 0.00882938, 0.00799437, 0.00580785,\n",
       "       0.13607212, 0.02405691, 0.00341375, 0.11506786, 0.04705391,\n",
       "       0.03151177, 0.01842232, 0.02630549, 0.0205516 , 0.01042415,\n",
       "       0.01941337, 0.01017583, 0.04569006, 0.01568932, 0.05963696,\n",
       "       0.01036308, 0.07804273, 0.01318867, 0.32524325, 0.0230641 ,\n",
       "       0.02019043, 0.29552367, 0.0066689 , 0.00191263, 0.01386575,\n",
       "       0.01053295, 0.01127775, 0.05875973, 0.00785832, 0.2184497 ,\n",
       "       0.0117822 , 0.0249702 , 0.05733917, 0.13272467, 0.05885529,\n",
       "       0.03824811, 0.0133809 , 0.00541495, 0.07935382, 0.04189151,\n",
       "       0.02492871, 0.04865381, 0.013032  , 0.19521586, 0.08842936,\n",
       "       0.31305449, 0.0245763 , 0.01722184, 0.06595538, 0.02230213,\n",
       "       0.03013318, 0.01081411, 0.05895359, 0.01936453, 0.00570267,\n",
       "       0.00431011, 0.04653639, 0.09105842, 0.05204988, 0.02408362,\n",
       "       0.01904778, 0.05933905, 0.01538923, 0.05016067, 0.00590147,\n",
       "       0.06099782, 0.0043537 , 0.06905646, 0.0253066 , 0.01632718,\n",
       "       0.04402974, 0.03168577, 0.0162629 , 0.24822591, 0.91738928,\n",
       "       0.04438396, 0.00225599, 0.01402116, 0.16921833, 0.01540093])"
      ]
     },
     "execution_count": 39,
     "metadata": {},
     "output_type": "execute_result"
    }
   ],
   "source": [
    "prob"
   ]
  },
  {
   "cell_type": "code",
   "execution_count": 40,
   "metadata": {},
   "outputs": [],
   "source": [
    "precision,recall,_=precision_recall_curve(y_test,prob)"
   ]
  },
  {
   "cell_type": "code",
   "execution_count": 41,
   "metadata": {},
   "outputs": [],
   "source": [
    "f1=f1_score(y_test,predlg)"
   ]
  },
  {
   "cell_type": "code",
   "execution_count": 42,
   "metadata": {},
   "outputs": [
    {
     "data": {
      "text/plain": [
       "0.0"
      ]
     },
     "execution_count": 42,
     "metadata": {},
     "output_type": "execute_result"
    }
   ],
   "source": [
    "f1"
   ]
  },
  {
   "cell_type": "code",
   "execution_count": 43,
   "metadata": {},
   "outputs": [],
   "source": [
    "auc=auc(recall,precision)"
   ]
  },
  {
   "cell_type": "code",
   "execution_count": 44,
   "metadata": {},
   "outputs": [
    {
     "data": {
      "text/plain": [
       "0.031432021448599086"
      ]
     },
     "execution_count": 44,
     "metadata": {},
     "output_type": "execute_result"
    }
   ],
   "source": [
    "auc"
   ]
  },
  {
   "cell_type": "markdown",
   "metadata": {},
   "source": [
    "# Plotting AUPRC curve"
   ]
  },
  {
   "cell_type": "code",
   "execution_count": 45,
   "metadata": {},
   "outputs": [],
   "source": [
    "skill=len(y_test[y_test==1])/len(y_test)"
   ]
  },
  {
   "cell_type": "code",
   "execution_count": 46,
   "metadata": {},
   "outputs": [
    {
     "data": {
      "text/plain": [
       "[<matplotlib.lines.Line2D at 0x193507686c8>]"
      ]
     },
     "execution_count": 46,
     "metadata": {},
     "output_type": "execute_result"
    },
    {
     "data": {
      "image/png": "[encoded data removed]",
      "text/plain": [
       "<Figure size 432x288 with 1 Axes>"
      ]
     },
     "metadata": {
      "needs_background": "light"
     },
     "output_type": "display_data"
    }
   ],
   "source": [
    "plt.plot([0,1],[skill,skill],linestyle='--',label='skill')\n"
   ]
  },
  {
   "cell_type": "code",
   "execution_count": 47,
   "metadata": {},
   "outputs": [
    {
     "data": {
      "image/png": "[encoded data removed]",
      "text/plain": [
       "<Figure size 432x288 with 1 Axes>"
      ]
     },
     "metadata": {
      "needs_background": "light"
     },
     "output_type": "display_data"
    }
   ],
   "source": [
    "plt.plot([0,1],[skill,skill],linestyle='--',label='skill')\n",
    "plt.plot(recall,precision,marker='.',label='Logistic')\n",
    "plt.xlabel=(\"recall\")\n",
    "plt.ylabel=(\"precision\")\n",
    "plt.legend()\n",
    "plt.show()"
   ]
  },
  {
   "cell_type": "code",
   "execution_count": 48,
   "metadata": {},
   "outputs": [],
   "source": [
    "# Applying bagging methods\n",
    "from sklearn.ensemble import RandomForestClassifier"
   ]
  },
  {
   "cell_type": "code",
   "execution_count": 49,
   "metadata": {},
   "outputs": [
    {
     "data": {
      "text/plain": [
       "1.0"
      ]
     },
     "execution_count": 49,
     "metadata": {},
     "output_type": "execute_result"
    }
   ],
   "source": [
    "rfc=RandomForestClassifier(n_estimators=300,random_state=41)\n",
    "rfc.fit(x_train,y_train)\n",
    "rfc.score(x_train,y_train)"
   ]
  },
  {
   "cell_type": "code",
   "execution_count": 50,
   "metadata": {},
   "outputs": [],
   "source": [
    "#Applying Boosting Methods\n",
    "from sklearn.ensemble import GradientBoostingClassifier"
   ]
  },
  {
   "cell_type": "code",
   "execution_count": 51,
   "metadata": {},
   "outputs": [
    {
     "data": {
      "text/plain": [
       "1.0"
      ]
     },
     "execution_count": 51,
     "metadata": {},
     "output_type": "execute_result"
    }
   ],
   "source": [
    "gbc=GradientBoostingClassifier()\n",
    "gbc.fit(x_train,y_train)\n",
    "gbc.score(x_train,y_train)"
   ]
  },
  {
   "cell_type": "code",
   "execution_count": 53,
   "metadata": {},
   "outputs": [
    {
     "name": "stdout",
     "output_type": "stream",
     "text": [
      "Collecting xgboost\n",
      "  Downloading https://files.pythonhosted.org/packages/5e/49/b95c037b717b4ceadc76b6e164603471225c27052d1611d5a2e832757945/xgboost-0.90-py2.py3-none-win_amd64.whl (18.3MB)\n",
      "Requirement already satisfied: numpy in c:\\users\\hp\\anaconda3\\envs\\my_env\\lib\\site-packages (from xgboost) (1.17.2)\n",
      "Requirement already satisfied: scipy in c:\\users\\hp\\anaconda3\\envs\\my_env\\lib\\site-packages (from xgboost) (1.3.1)\n",
      "Installing collected packages: xgboost\n",
      "Successfully installed xgboost-0.90\n"
     ]
    }
   ],
   "source": [
    "!pip install xgboost"
   ]
  },
  {
   "cell_type": "code",
   "execution_count": 54,
   "metadata": {},
   "outputs": [],
   "source": [
    "#Using XGBOOST\n",
    "import xgboost as xgb\n",
    "from sklearn.metrics import mean_squared_error"
   ]
  },
  {
   "cell_type": "code",
   "execution_count": 55,
   "metadata": {},
   "outputs": [],
   "source": [
    "x,y=credit.drop(\"Class\",axis=1),credit[\"Class\"]"
   ]
  },
  {
   "cell_type": "code",
   "execution_count": 56,
   "metadata": {},
   "outputs": [],
   "source": [
    "credit.dmatrix=xgb.DMatrix(data=x,label=y)"
   ]
  },
  {
   "cell_type": "code",
   "execution_count": 57,
   "metadata": {},
   "outputs": [
    {
     "name": "stdout",
     "output_type": "stream",
     "text": [
      "[19:25:08] WARNING: C:/Jenkins/workspace/xgboost-win64_release_0.90/src/objective/regression_obj.cu:152: reg:linear is now deprecated in favor of reg:squarederror.\n"
     ]
    },
    {
     "data": {
      "text/plain": [
       "0.8871584534867112"
      ]
     },
     "execution_count": 57,
     "metadata": {},
     "output_type": "execute_result"
    }
   ],
   "source": [
    "xg_reg=xgb.XGBRegressor()\n",
    "xg_reg.fit(x_train,y_train)\n",
    "xg_reg.score(x_train,y_train)\n"
   ]
  },
  {
   "cell_type": "code",
   "execution_count": 65,
   "metadata": {},
   "outputs": [
    {
     "name": "stdout",
     "output_type": "stream",
     "text": [
      "0.9571428571428572\n",
      "1.0\n",
      "1.0\n",
      "0.8871584534867112\n"
     ]
    }
   ],
   "source": [
    "# COMPARISON BETWEEN MODELS\n",
    "print(accuracy_score(y_test,predlg))\n",
    "print(rfc.score(x_train,y_train))\n",
    "print(gbc.score(x_train,y_train))\n",
    "print(xg_reg.score(x_train,y_train))"
   ]
  },
  {
   "cell_type": "code",
   "execution_count": 66,
   "metadata": {},
   "outputs": [
    {
     "data": {
      "text/plain": [
       "array([0, 0, 0, 0, 0, 0, 0, 0, 0, 0, 0, 0, 0, 0, 0, 0, 0, 0, 0, 0, 0, 0,\n",
       "       0, 0, 0, 0, 0, 0, 0, 0, 0, 0, 0, 0, 0, 0, 0, 0, 0, 0, 0, 0, 0, 0,\n",
       "       0, 0, 0, 0, 0, 0, 0, 0, 0, 0, 0, 0, 0, 0, 0, 0, 0, 0, 0, 0, 0, 0,\n",
       "       0, 0, 0, 0, 0, 0, 0, 0, 0, 0, 0, 0, 0, 0, 0, 0, 0, 0, 0, 0, 0, 0,\n",
       "       0, 0, 0, 0, 0, 0, 0, 0, 0, 0, 0, 0, 0, 0, 0, 0, 0, 0, 0, 0, 0, 0,\n",
       "       0, 0, 0, 0, 0, 0, 0, 0, 0, 0, 0, 0, 0, 0, 0, 0, 0, 0, 0, 0, 0, 0,\n",
       "       0, 0, 0, 0, 0, 0, 0, 0], dtype=int64)"
      ]
     },
     "execution_count": 66,
     "metadata": {},
     "output_type": "execute_result"
    }
   ],
   "source": [
    "from sklearn.externals import joblib\n",
    "joblib.dump(rfc,\"credit_card_fraud_detection\")\n",
    "rfc_from_joblib=joblib.load(\"credit_card_fraud_detection\")\n",
    "rfc_from_joblib.predict(x_test)"
   ]
  },
  {
   "cell_type": "code",
   "execution_count": null,
   "metadata": {},
   "outputs": [],
   "source": []
  }
 ],
 "metadata": {
  "kernelspec": {
   "display_name": "Python 3",
   "language": "python",
   "name": "python3"
  },
  "language_info": {
   "codemirror_mode": {
    "name": "ipython",
    "version": 3
   },
   "file_extension": ".py",
   "mimetype": "text/x-python",
   "name": "python",
   "nbconvert_exporter": "python",
   "pygments_lexer": "ipython3",
   "version": "3.7.4"
  }
 },
 "nbformat": 4,
 "nbformat_minor": 2
}
