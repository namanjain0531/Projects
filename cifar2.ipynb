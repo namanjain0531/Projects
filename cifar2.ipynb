{
  "nbformat": 4,
  "nbformat_minor": 0,
  "metadata": {
    "colab": {
      "name": "cifar2.ipynb",
      "provenance": [],
      "mount_file_id": "1uciacWb5OtMJRF9AHJq3dCTozQ2fCUFM",
      "authorship_tag": "ABX9TyM+R94HW0nX5ra/fSnRLry0",
      "include_colab_link": true
    },
    "kernelspec": {
      "name": "python3",
      "display_name": "Python 3"
    },
    "accelerator": "GPU"
  },
  "cells": [
    {
      "cell_type": "markdown",
      "metadata": {
        "id": "view-in-github",
        "colab_type": "text"
      },
      "source": [
        "<a href=\"https://colab.research.google.com/github/namanjain0531/Projects/blob/master/cifar2.ipynb\" target=\"_parent\"><img src=\"https://colab.research.google.com/assets/colab-badge.svg\" alt=\"Open In Colab\"/></a>"
      ]
    },
    {
      "cell_type": "code",
      "metadata": {
        "id": "jNCItlFya8x6",
        "colab_type": "code",
        "outputId": "08a0c92b-7c2f-46d7-a805-8c0418540b8d",
        "colab": {
          "base_uri": "https://localhost:8080/",
          "height": 51
        }
      },
      "source": [
        "%tensorflow_version 1.x\n",
        "import tensorflow as tf\n",
        "print(tf.__version__)"
      ],
      "execution_count": 0,
      "outputs": [
        {
          "output_type": "stream",
          "text": [
            "TensorFlow 1.x selected.\n",
            "1.15.2\n"
          ],
          "name": "stdout"
        }
      ]
    },
    {
      "cell_type": "markdown",
      "metadata": {
        "id": "A4PGYLFvbWYh",
        "colab_type": "text"
      },
      "source": [
        "#How to Develop an Improved Model\n",
        "Now that we have established a baseline model, the VGG architecture with three blocks, we can investigate modifications to the model and the training algorithm that seek to improve performance.\n",
        "\n",
        "We will look at two main areas first to address the severe overfitting observed, namely regularization and data augmentation.\n",
        "\n",
        "#Regularization Techniques\n",
        "There are many regularization techniques we could try, although the nature of the overfitting observed suggests that perhaps early stopping would not be appropriate and that techniques that slow down the rate of convergence might be useful.\n",
        "\n",
        "We will look into the effect of both dropout and weight regularization or weight decay.\n",
        "\n",
        "#Dropout Regularization\n",
        "Dropout is a simple technique that will randomly drop nodes out of the network. It has a regularizing effect as the remaining nodes must adapt to pick-up the slack of the removed nodes.\n",
        "\n",
        "Dropout can be added to the model by adding new Dropout layers, where the amount of nodes removed is specified as a parameter. There are many patterns for adding Dropout to a model, in terms of where in the model to add the layers and how much dropout to use.\n",
        "\n",
        "In this case, we will add Dropout layers after each max pooling layer and after the fully connected layer, and use a fixed dropout rate of 20% (e.g. retain 80% of the nodes).\n",
        "\n",
        "The updated VGG 3 baseline model with dropout is listed below."
      ]
    },
    {
      "cell_type": "code",
      "metadata": {
        "id": "WXFKuy0Jbrf0",
        "colab_type": "code",
        "outputId": "66ea1bbc-3b69-41db-e3b6-69640f06e19a",
        "colab": {
          "base_uri": "https://localhost:8080/",
          "height": 34
        }
      },
      "source": [
        "import sys\n",
        "from matplotlib import pyplot\n",
        "from keras.datasets import cifar10\n",
        "from keras.utils import to_categorical\n",
        "from keras.models import Sequential\n",
        "from keras.layers import Conv2D\n",
        "from keras.layers import MaxPooling2D\n",
        "from keras.layers import Dense\n",
        "from keras.layers import Flatten\n",
        "from keras.optimizers import SGD\n",
        " \n",
        "# load train and test dataset\n",
        "def load_dataset():\n",
        "\t# load dataset\n",
        "\t(trainX, trainY), (testX, testY) = cifar10.load_data()\n",
        "\t# one hot encode target values\n",
        "\ttrainY = to_categorical(trainY)\n",
        "\ttestY = to_categorical(testY)\n",
        "\treturn trainX, trainY, testX, testY"
      ],
      "execution_count": 0,
      "outputs": [
        {
          "output_type": "stream",
          "text": [
            "Using TensorFlow backend.\n"
          ],
          "name": "stderr"
        }
      ]
    },
    {
      "cell_type": "code",
      "metadata": {
        "id": "-91P_nRcbxI2",
        "colab_type": "code",
        "colab": {}
      },
      "source": [
        "# scale pixels\n",
        "def prep_pixels(train, test):\n",
        "\t# convert from integers to floats\n",
        "\ttrain_norm = train.astype('float32')\n",
        "\ttest_norm = test.astype('float32')\n",
        "\t# normalize to range 0-1\n",
        "\ttrain_norm = train_norm / 255.0\n",
        "\ttest_norm = test_norm / 255.0\n",
        "\t# return normalized images\n",
        "\treturn train_norm, test_norm"
      ],
      "execution_count": 0,
      "outputs": []
    },
    {
      "cell_type": "code",
      "metadata": {
        "id": "go-berPEbisW",
        "colab_type": "code",
        "colab": {}
      },
      "source": [
        "from keras.layers import Dropout\n",
        "# define cnn model\n",
        "def define_model():\n",
        "\tmodel = Sequential()\n",
        "\tmodel.add(Conv2D(32, (3, 3), activation='relu', kernel_initializer='he_uniform', padding='same', input_shape=(32, 32, 3)))\n",
        "\tmodel.add(Conv2D(32, (3, 3), activation='relu', kernel_initializer='he_uniform', padding='same'))\n",
        "\tmodel.add(MaxPooling2D((2, 2)))\n",
        "\tmodel.add(Dropout(0.2))\n",
        "\tmodel.add(Conv2D(64, (3, 3), activation='relu', kernel_initializer='he_uniform', padding='same'))\n",
        "\tmodel.add(Conv2D(64, (3, 3), activation='relu', kernel_initializer='he_uniform', padding='same'))\n",
        "\tmodel.add(MaxPooling2D((2, 2)))\n",
        "\tmodel.add(Dropout(0.2))\n",
        "\tmodel.add(Conv2D(128, (3, 3), activation='relu', kernel_initializer='he_uniform', padding='same'))\n",
        "\tmodel.add(Conv2D(128, (3, 3), activation='relu', kernel_initializer='he_uniform', padding='same'))\n",
        "\tmodel.add(MaxPooling2D((2, 2)))\n",
        "\tmodel.add(Dropout(0.2))\n",
        "\tmodel.add(Flatten())\n",
        "\tmodel.add(Dense(128, activation='relu', kernel_initializer='he_uniform'))\n",
        "\tmodel.add(Dropout(0.2))\n",
        "\tmodel.add(Dense(10, activation='softmax'))\n",
        "\t# compile model\n",
        "\topt = SGD(lr=0.001, momentum=0.9)\n",
        "\tmodel.compile(optimizer=opt, loss='categorical_crossentropy', metrics=['accuracy'])\n",
        "\treturn model"
      ],
      "execution_count": 0,
      "outputs": []
    },
    {
      "cell_type": "code",
      "metadata": {
        "id": "S5gXctkUczVn",
        "colab_type": "code",
        "outputId": "c6c2ce59-6722-4cdf-806b-0aecb1b4197c",
        "colab": {
          "base_uri": "https://localhost:8080/",
          "height": 1000
        }
      },
      "source": [
        "# load dataset\n",
        "\ttrainX, trainY, testX, testY = load_dataset()\n",
        "\t# prepare pixel data\n",
        "\ttrainX, testX = prep_pixels(trainX, testX)\n",
        "\t# define model\n",
        "\tmodel = define_model()\n",
        "\t# fit model\n",
        "\thistory = model.fit(trainX, trainY, epochs=40, batch_size=64, validation_data=(testX, testY), verbose=1)\n",
        "\t# evaluate model\n",
        "\t_, acc = model.evaluate(testX, testY, verbose=0)\n",
        "\tprint('> %.3f' % (acc * 100.0))"
      ],
      "execution_count": 0,
      "outputs": [
        {
          "output_type": "stream",
          "text": [
            "Downloading data from https://www.cs.toronto.edu/~kriz/cifar-10-python.tar.gz\n",
            "170500096/170498071 [==============================] - 11s 0us/step\n",
            "WARNING:tensorflow:From /tensorflow-1.15.2/python3.6/tensorflow_core/python/ops/resource_variable_ops.py:1630: calling BaseResourceVariable.__init__ (from tensorflow.python.ops.resource_variable_ops) with constraint is deprecated and will be removed in a future version.\n",
            "Instructions for updating:\n",
            "If using Keras pass *_constraint arguments to layers.\n",
            "WARNING:tensorflow:From /usr/local/lib/python3.6/dist-packages/keras/backend/tensorflow_backend.py:4070: The name tf.nn.max_pool is deprecated. Please use tf.nn.max_pool2d instead.\n",
            "\n",
            "WARNING:tensorflow:From /usr/local/lib/python3.6/dist-packages/keras/backend/tensorflow_backend.py:422: The name tf.global_variables is deprecated. Please use tf.compat.v1.global_variables instead.\n",
            "\n",
            "Train on 50000 samples, validate on 10000 samples\n",
            "Epoch 1/40\n",
            "50000/50000 [==============================] - 12s 247us/step - loss: 2.0194 - accuracy: 0.2479 - val_loss: 1.7542 - val_accuracy: 0.3804\n",
            "Epoch 2/40\n",
            "50000/50000 [==============================] - 6s 121us/step - loss: 1.6752 - accuracy: 0.3821 - val_loss: 1.5100 - val_accuracy: 0.4533\n",
            "Epoch 3/40\n",
            "50000/50000 [==============================] - 6s 121us/step - loss: 1.5266 - accuracy: 0.4442 - val_loss: 1.4044 - val_accuracy: 0.4977\n",
            "Epoch 4/40\n",
            "50000/50000 [==============================] - 6s 120us/step - loss: 1.4344 - accuracy: 0.4760 - val_loss: 1.3031 - val_accuracy: 0.5328\n",
            "Epoch 5/40\n",
            "50000/50000 [==============================] - 6s 120us/step - loss: 1.3583 - accuracy: 0.5069 - val_loss: 1.2247 - val_accuracy: 0.5709\n",
            "Epoch 6/40\n",
            "50000/50000 [==============================] - 6s 120us/step - loss: 1.2908 - accuracy: 0.5364 - val_loss: 1.1744 - val_accuracy: 0.5880\n",
            "Epoch 7/40\n",
            "50000/50000 [==============================] - 6s 122us/step - loss: 1.2296 - accuracy: 0.5611 - val_loss: 1.1094 - val_accuracy: 0.6069\n",
            "Epoch 8/40\n",
            "50000/50000 [==============================] - 6s 122us/step - loss: 1.1787 - accuracy: 0.5782 - val_loss: 1.1560 - val_accuracy: 0.5816\n",
            "Epoch 9/40\n",
            "50000/50000 [==============================] - 6s 120us/step - loss: 1.1276 - accuracy: 0.5977 - val_loss: 1.0074 - val_accuracy: 0.6509\n",
            "Epoch 10/40\n",
            "50000/50000 [==============================] - 6s 121us/step - loss: 1.0780 - accuracy: 0.6154 - val_loss: 0.9948 - val_accuracy: 0.6449\n",
            "Epoch 11/40\n",
            "50000/50000 [==============================] - 6s 120us/step - loss: 1.0357 - accuracy: 0.6335 - val_loss: 0.9388 - val_accuracy: 0.6724\n",
            "Epoch 12/40\n",
            "50000/50000 [==============================] - 6s 120us/step - loss: 0.9988 - accuracy: 0.6484 - val_loss: 0.9427 - val_accuracy: 0.6683\n",
            "Epoch 13/40\n",
            "50000/50000 [==============================] - 6s 121us/step - loss: 0.9590 - accuracy: 0.6606 - val_loss: 0.9195 - val_accuracy: 0.6741\n",
            "Epoch 14/40\n",
            "50000/50000 [==============================] - 6s 120us/step - loss: 0.9287 - accuracy: 0.6722 - val_loss: 0.8652 - val_accuracy: 0.7032\n",
            "Epoch 15/40\n",
            "50000/50000 [==============================] - 6s 121us/step - loss: 0.8982 - accuracy: 0.6847 - val_loss: 0.8303 - val_accuracy: 0.7056\n",
            "Epoch 16/40\n",
            "50000/50000 [==============================] - 6s 121us/step - loss: 0.8708 - accuracy: 0.6933 - val_loss: 0.8047 - val_accuracy: 0.7195\n",
            "Epoch 17/40\n",
            "50000/50000 [==============================] - 6s 121us/step - loss: 0.8480 - accuracy: 0.7037 - val_loss: 0.7980 - val_accuracy: 0.7193\n",
            "Epoch 18/40\n",
            "50000/50000 [==============================] - 6s 121us/step - loss: 0.8226 - accuracy: 0.7105 - val_loss: 0.7665 - val_accuracy: 0.7335\n",
            "Epoch 19/40\n",
            "50000/50000 [==============================] - 6s 121us/step - loss: 0.8039 - accuracy: 0.7190 - val_loss: 0.7329 - val_accuracy: 0.7447\n",
            "Epoch 20/40\n",
            "50000/50000 [==============================] - 6s 121us/step - loss: 0.7847 - accuracy: 0.7245 - val_loss: 0.7242 - val_accuracy: 0.7480\n",
            "Epoch 21/40\n",
            "50000/50000 [==============================] - 6s 121us/step - loss: 0.7639 - accuracy: 0.7338 - val_loss: 0.7194 - val_accuracy: 0.7523\n",
            "Epoch 22/40\n",
            "50000/50000 [==============================] - 6s 120us/step - loss: 0.7508 - accuracy: 0.7376 - val_loss: 0.7568 - val_accuracy: 0.7339\n",
            "Epoch 23/40\n",
            "50000/50000 [==============================] - 6s 123us/step - loss: 0.7289 - accuracy: 0.7448 - val_loss: 0.6931 - val_accuracy: 0.7569\n",
            "Epoch 24/40\n",
            "50000/50000 [==============================] - 6s 124us/step - loss: 0.7147 - accuracy: 0.7483 - val_loss: 0.6737 - val_accuracy: 0.7684\n",
            "Epoch 25/40\n",
            "50000/50000 [==============================] - 6s 120us/step - loss: 0.7012 - accuracy: 0.7536 - val_loss: 0.6841 - val_accuracy: 0.7647\n",
            "Epoch 26/40\n",
            "50000/50000 [==============================] - 6s 119us/step - loss: 0.6884 - accuracy: 0.7580 - val_loss: 0.6713 - val_accuracy: 0.7660\n",
            "Epoch 27/40\n",
            "50000/50000 [==============================] - 6s 120us/step - loss: 0.6737 - accuracy: 0.7628 - val_loss: 0.6662 - val_accuracy: 0.7727\n",
            "Epoch 28/40\n",
            "50000/50000 [==============================] - 6s 121us/step - loss: 0.6568 - accuracy: 0.7689 - val_loss: 0.6393 - val_accuracy: 0.7762\n",
            "Epoch 29/40\n",
            "50000/50000 [==============================] - 6s 120us/step - loss: 0.6469 - accuracy: 0.7742 - val_loss: 0.6863 - val_accuracy: 0.7646\n",
            "Epoch 30/40\n",
            "50000/50000 [==============================] - 6s 120us/step - loss: 0.6337 - accuracy: 0.7768 - val_loss: 0.6634 - val_accuracy: 0.7714\n",
            "Epoch 31/40\n",
            "50000/50000 [==============================] - 6s 119us/step - loss: 0.6245 - accuracy: 0.7806 - val_loss: 0.6408 - val_accuracy: 0.7781\n",
            "Epoch 32/40\n",
            "50000/50000 [==============================] - 6s 120us/step - loss: 0.6077 - accuracy: 0.7856 - val_loss: 0.6239 - val_accuracy: 0.7845\n",
            "Epoch 33/40\n",
            "50000/50000 [==============================] - 6s 120us/step - loss: 0.6047 - accuracy: 0.7870 - val_loss: 0.6158 - val_accuracy: 0.7861\n",
            "Epoch 34/40\n",
            "50000/50000 [==============================] - 6s 122us/step - loss: 0.5957 - accuracy: 0.7897 - val_loss: 0.6106 - val_accuracy: 0.7889\n",
            "Epoch 35/40\n",
            "50000/50000 [==============================] - 6s 120us/step - loss: 0.5801 - accuracy: 0.7946 - val_loss: 0.5947 - val_accuracy: 0.7952\n",
            "Epoch 36/40\n",
            "50000/50000 [==============================] - 6s 120us/step - loss: 0.5745 - accuracy: 0.7979 - val_loss: 0.5899 - val_accuracy: 0.8001\n",
            "Epoch 37/40\n",
            "50000/50000 [==============================] - 6s 120us/step - loss: 0.5654 - accuracy: 0.8014 - val_loss: 0.6198 - val_accuracy: 0.7871\n",
            "Epoch 38/40\n",
            "50000/50000 [==============================] - 6s 120us/step - loss: 0.5587 - accuracy: 0.8022 - val_loss: 0.5753 - val_accuracy: 0.8032\n",
            "Epoch 39/40\n",
            "50000/50000 [==============================] - 6s 120us/step - loss: 0.5467 - accuracy: 0.8052 - val_loss: 0.5899 - val_accuracy: 0.7957\n",
            "Epoch 40/40\n",
            "50000/50000 [==============================] - 6s 120us/step - loss: 0.5348 - accuracy: 0.8110 - val_loss: 0.6111 - val_accuracy: 0.7944\n",
            "> 79.440\n"
          ],
          "name": "stdout"
        }
      ]
    },
    {
      "cell_type": "code",
      "metadata": {
        "id": "gsfqc16Lc9xr",
        "colab_type": "code",
        "colab": {}
      },
      "source": [
        "# save model\n",
        "\tmodel.save('fourth_model.h5')"
      ],
      "execution_count": 0,
      "outputs": []
    },
    {
      "cell_type": "code",
      "metadata": {
        "id": "KXXCwnkVeQO2",
        "colab_type": "code",
        "outputId": "1b4e0465-78bd-4659-873e-b13f30641091",
        "colab": {
          "base_uri": "https://localhost:8080/",
          "height": 281
        }
      },
      "source": [
        "\tpyplot.subplot(211)\n",
        "\tpyplot.title('Cross Entropy Loss')\n",
        "\tpyplot.plot(history.history['loss'], color='blue', label='train')\n",
        "\tpyplot.plot(history.history['val_loss'], color='orange', label='test')\n",
        "\t# plot accuracy\n",
        "\tpyplot.subplot(212)\n",
        "\tpyplot.title('Classification Accuracy')\n",
        "\tpyplot.plot(history.history['accuracy'], color='blue', label='train')\n",
        "\tpyplot.plot(history.history['val_accuracy'], color='orange', label='test')\n",
        "\t# save plot to file\n",
        "\tfilename = sys.argv[0].split('/')[-1]\n",
        "\tpyplot.savefig(filename + '_plot.png')\n",
        "\tpyplot.show()"
      ],
      "execution_count": 0,
      "outputs": [
        {
          "output_type": "display_data",
          "data": {
            "image/png": "[encoded data removed]",
            "text/plain": [
              "<Figure size 432x288 with 2 Axes>"
            ]
          },
          "metadata": {
            "tags": [],
            "needs_background": "light"
          }
        }
      ]
    },
    {
      "cell_type": "code",
      "metadata": {
        "id": "4a0qH0AXeTWV",
        "colab_type": "code",
        "outputId": "c4d18975-a2b4-4729-89e8-e359bfa1a73e",
        "colab": {
          "base_uri": "https://localhost:8080/",
          "height": 54
        }
      },
      "source": [
        "from keras.models import load_model\n",
        "from keras.preprocessing import image\n",
        "import numpy as np\n",
        "from os import listdir\n",
        "from os.path import isfile, join\n",
        "## Now Predict\n",
        "predict_dir_path='/content/drive/My Drive/app/image/'\n",
        "onlyfiless = [f for f in listdir(predict_dir_path) if isfile(join(predict_dir_path, f))]\n",
        "print(onlyfiless)"
      ],
      "execution_count": 0,
      "outputs": [
        {
          "output_type": "stream",
          "text": [
            "['1.jpg', '5.jpg', '9.jpg', '3.jpg', '2.jpg', '4.jpg', '6.jpg', '8.jpg', '10.jpg', '7.jpg', '11.jpg', '20.jpg', '15.jpg', '12.jpg', '16.jpg', '19.jpg', '13.jpg', '14.jpg', '18.jpg', '17.jpg', '21.jpg', '29.jpg', '30.jpg', '26.jpg', '22.jpg', '24.jpg', '27.jpg', '25.jpg', '23.jpg', '28.jpg', '31.jpg', '37.jpg', '33.jpg', '36.jpg', '39.jpg', '38.jpg', '34.jpg', '32.jpg', '35.jpg', '40.jpg']\n"
          ],
          "name": "stdout"
        }
      ]
    },
    {
      "cell_type": "code",
      "metadata": {
        "id": "6KXMkBxFed30",
        "colab_type": "code",
        "outputId": "9b62c365-8e3c-4897-a81c-ce9827a29bba",
        "colab": {
          "base_uri": "https://localhost:8080/",
          "height": 867
        }
      },
      "source": [
        "# predicting images\n",
        "from keras.preprocessing import image\n",
        "airplane = 0 \n",
        "automobile=1\n",
        "bird=2\n",
        "cat=3\n",
        "deer=4\n",
        "dog=5\n",
        "frog=6\n",
        "horse=7\n",
        "ship=8\n",
        "truck=9\n",
        "for file in onlyfiless:\n",
        "    img = image.load_img(predict_dir_path+file, target_size=(32, 32))\n",
        "    x = image.img_to_array(img)\n",
        "    x = np.expand_dims(x, axis=0)\n",
        "    \n",
        "    images = np.vstack([x])\n",
        "    model = load_model('/content/fourth_model.h5')\n",
        "    result = model.predict_classes(images, batch_size=10)\n",
        "\n",
        "    \n",
        "    \n",
        "    if result == 0:\n",
        "        print(file + \": \" + 'airplane')\n",
        "        airplane += 1\n",
        "    elif result==1:\n",
        "        print(file + \": \" + 'automobile')\n",
        "        automobile += 1\n",
        "    elif result==2:\n",
        "        print(file + \": \" + 'bird')\n",
        "        bird += 1\n",
        "    elif result==3:\n",
        "        print(file + \": \" + 'cat')\n",
        "        cat +=1\n",
        "    elif result==4:\n",
        "        print(file + \": \" + 'deer')\n",
        "        deer +=1\n",
        "    elif result==5:\n",
        "        print(file + \": \" + 'dog')\n",
        "        dog +=1\n",
        "    elif result==6:\n",
        "        print(file + \": \" + 'frog')\n",
        "        frog +=1\n",
        "    elif result==7:\n",
        "        print(file + \": \" + 'horse')\n",
        "        horse +=1\n",
        "    elif result==8:\n",
        "        print(file + \": \" + 'ship')\n",
        "        ship +=1\n",
        "    elif result==9:\n",
        "        print(file + \": \" + 'truck')\n",
        "        truck +=1\n",
        "    \n",
        "           \n",
        "print(\"Total airplane :\",airplane)\n",
        "print(\"Total automobile :\",automobile)\n",
        "print(\"Total bird :\",bird)\n",
        "print(\"Total cat :\",cat)\n",
        "print(\"Total deer :\",deer)\n",
        "print(\"Total dog :\",dog)\n",
        "print(\"Total frog :\",frog)\n",
        "print(\"Total horse :\",horse)\n",
        "print(\"Total ship :\",ship)\n",
        "print(\"Total truck :\",truck)"
      ],
      "execution_count": 0,
      "outputs": [
        {
          "output_type": "stream",
          "text": [
            "1.jpg: cat\n",
            "5.jpg: airplane\n",
            "9.jpg: truck\n",
            "3.jpg: horse\n",
            "2.jpg: truck\n",
            "4.jpg: horse\n",
            "6.jpg: airplane\n",
            "8.jpg: airplane\n",
            "10.jpg: frog\n",
            "7.jpg: ship\n",
            "11.jpg: horse\n",
            "20.jpg: airplane\n",
            "15.jpg: airplane\n",
            "12.jpg: automobile\n",
            "16.jpg: horse\n",
            "19.jpg: deer\n",
            "13.jpg: bird\n",
            "14.jpg: horse\n",
            "18.jpg: horse\n",
            "17.jpg: horse\n",
            "21.jpg: dog\n",
            "29.jpg: truck\n",
            "30.jpg: horse\n",
            "26.jpg: frog\n",
            "22.jpg: truck\n",
            "24.jpg: horse\n",
            "27.jpg: frog\n",
            "25.jpg: frog\n",
            "23.jpg: truck\n",
            "28.jpg: bird\n",
            "31.jpg: horse\n",
            "37.jpg: truck\n",
            "33.jpg: ship\n",
            "36.jpg: ship\n",
            "39.jpg: truck\n",
            "38.jpg: truck\n",
            "34.jpg: ship\n",
            "32.jpg: truck\n",
            "35.jpg: ship\n",
            "40.jpg: truck\n",
            "Total airplane : 5\n",
            "Total automobile : 2\n",
            "Total bird : 4\n",
            "Total cat : 4\n",
            "Total deer : 5\n",
            "Total dog : 6\n",
            "Total frog : 10\n",
            "Total horse : 17\n",
            "Total ship : 13\n",
            "Total truck : 19\n"
          ],
          "name": "stdout"
        }
      ]
    },
    {
      "cell_type": "markdown",
      "metadata": {
        "id": "zqEMXKAhf8BZ",
        "colab_type": "text"
      },
      "source": [
        "# Weight Decay\n",
        "Weight regularization or weight decay involves updating the loss function to penalize the model in proportion to the size of the model weights.\n",
        "\n",
        "This has a regularizing effect, as larger weights result in a more complex and less stable model, whereas smaller weights are often more stable and more general.\n",
        "\n",
        "We can add weight regularization to the convolutional layers and the fully connected layers by defining the “kernel_regularizer” argument and specifying the type of regularization. In this case, we will use L2 weight regularization, the most common type used for neural networks and a sensible default weighting of 0.001.\n",
        "\n",
        "The updated baseline model with weight decay is listed below."
      ]
    },
    {
      "cell_type": "code",
      "metadata": {
        "id": "shWEfUt3eqrJ",
        "colab_type": "code",
        "colab": {}
      },
      "source": [
        "from keras.regularizers import l2"
      ],
      "execution_count": 0,
      "outputs": []
    },
    {
      "cell_type": "code",
      "metadata": {
        "id": "xrMqI_-egEBe",
        "colab_type": "code",
        "colab": {}
      },
      "source": [
        "# define cnn model\n",
        "def define_model():\n",
        "\tmodel = Sequential()\n",
        "\tmodel.add(Conv2D(32, (3, 3), activation='relu', kernel_initializer='he_uniform', padding='same', kernel_regularizer=l2(0.001), input_shape=(32, 32, 3)))\n",
        "\tmodel.add(Conv2D(32, (3, 3), activation='relu', kernel_initializer='he_uniform', padding='same', kernel_regularizer=l2(0.001)))\n",
        "\tmodel.add(MaxPooling2D((2, 2)))\n",
        "\tmodel.add(Conv2D(64, (3, 3), activation='relu', kernel_initializer='he_uniform', padding='same', kernel_regularizer=l2(0.001)))\n",
        "\tmodel.add(Conv2D(64, (3, 3), activation='relu', kernel_initializer='he_uniform', padding='same', kernel_regularizer=l2(0.001)))\n",
        "\tmodel.add(MaxPooling2D((2, 2)))\n",
        "\tmodel.add(Conv2D(128, (3, 3), activation='relu', kernel_initializer='he_uniform', padding='same', kernel_regularizer=l2(0.001)))\n",
        "\tmodel.add(Conv2D(128, (3, 3), activation='relu', kernel_initializer='he_uniform', padding='same', kernel_regularizer=l2(0.001)))\n",
        "\tmodel.add(MaxPooling2D((2, 2)))\n",
        "\tmodel.add(Flatten())\n",
        "\tmodel.add(Dense(128, activation='relu', kernel_initializer='he_uniform', kernel_regularizer=l2(0.001)))\n",
        "\tmodel.add(Dense(10, activation='softmax'))\n",
        "\t# compile model\n",
        "\topt = SGD(lr=0.001, momentum=0.9)\n",
        "\tmodel.compile(optimizer=opt, loss='categorical_crossentropy', metrics=['accuracy'])\n",
        "\treturn model"
      ],
      "execution_count": 0,
      "outputs": []
    },
    {
      "cell_type": "code",
      "metadata": {
        "id": "AfWn1RQxgH4Z",
        "colab_type": "code",
        "outputId": "017dd4de-9fca-4f2f-fed8-8f974233673a",
        "colab": {
          "base_uri": "https://localhost:8080/",
          "height": 1000
        }
      },
      "source": [
        "# load dataset\n",
        "\ttrainX, trainY, testX, testY = load_dataset()\n",
        "\t# prepare pixel data\n",
        "\ttrainX, testX = prep_pixels(trainX, testX)\n",
        "\t# define model\n",
        "\tmodel = define_model()\n",
        "\t# fit model\n",
        "\thistory = model.fit(trainX, trainY, epochs=40, batch_size=64, validation_data=(testX, testY), verbose=1)\n",
        "\t# evaluate model\n",
        "\t_, acc = model.evaluate(testX, testY, verbose=0)\n",
        "\tprint('> %.3f' % (acc * 100.0))"
      ],
      "execution_count": 0,
      "outputs": [
        {
          "output_type": "stream",
          "text": [
            "Train on 50000 samples, validate on 10000 samples\n",
            "Epoch 1/40\n",
            "50000/50000 [==============================] - 8s 166us/step - loss: 2.9226 - accuracy: 0.3566 - val_loss: 2.6501 - val_accuracy: 0.4499\n",
            "Epoch 2/40\n",
            "50000/50000 [==============================] - 7s 139us/step - loss: 2.5058 - accuracy: 0.4998 - val_loss: 2.4341 - val_accuracy: 0.5157\n",
            "Epoch 3/40\n",
            "50000/50000 [==============================] - 7s 136us/step - loss: 2.3273 - accuracy: 0.5579 - val_loss: 2.2421 - val_accuracy: 0.5834\n",
            "Epoch 4/40\n",
            "50000/50000 [==============================] - 7s 137us/step - loss: 2.1796 - accuracy: 0.6050 - val_loss: 2.1415 - val_accuracy: 0.6104\n",
            "Epoch 5/40\n",
            "50000/50000 [==============================] - 7s 138us/step - loss: 2.0627 - accuracy: 0.6361 - val_loss: 2.0831 - val_accuracy: 0.6287\n",
            "Epoch 6/40\n",
            "50000/50000 [==============================] - 7s 137us/step - loss: 1.9510 - accuracy: 0.6691 - val_loss: 1.9767 - val_accuracy: 0.6554\n",
            "Epoch 7/40\n",
            "50000/50000 [==============================] - 7s 138us/step - loss: 1.8571 - accuracy: 0.6967 - val_loss: 1.9102 - val_accuracy: 0.6696\n",
            "Epoch 8/40\n",
            "50000/50000 [==============================] - 7s 137us/step - loss: 1.7698 - accuracy: 0.7180 - val_loss: 1.8708 - val_accuracy: 0.6786\n",
            "Epoch 9/40\n",
            "50000/50000 [==============================] - 7s 137us/step - loss: 1.6906 - accuracy: 0.7404 - val_loss: 1.8194 - val_accuracy: 0.6904\n",
            "Epoch 10/40\n",
            "50000/50000 [==============================] - 7s 137us/step - loss: 1.6219 - accuracy: 0.7587 - val_loss: 1.7963 - val_accuracy: 0.6966\n",
            "Epoch 11/40\n",
            "50000/50000 [==============================] - 7s 139us/step - loss: 1.5521 - accuracy: 0.7734 - val_loss: 1.7753 - val_accuracy: 0.6974\n",
            "Epoch 12/40\n",
            "50000/50000 [==============================] - 7s 138us/step - loss: 1.4926 - accuracy: 0.7887 - val_loss: 1.7878 - val_accuracy: 0.6928\n",
            "Epoch 13/40\n",
            "50000/50000 [==============================] - 7s 137us/step - loss: 1.4333 - accuracy: 0.8046 - val_loss: 1.7571 - val_accuracy: 0.7017\n",
            "Epoch 14/40\n",
            "50000/50000 [==============================] - 7s 138us/step - loss: 1.3723 - accuracy: 0.8182 - val_loss: 1.6777 - val_accuracy: 0.7215\n",
            "Epoch 15/40\n",
            "50000/50000 [==============================] - 7s 138us/step - loss: 1.3168 - accuracy: 0.8312 - val_loss: 1.7410 - val_accuracy: 0.7009\n",
            "Epoch 16/40\n",
            "50000/50000 [==============================] - 7s 138us/step - loss: 1.2641 - accuracy: 0.8471 - val_loss: 1.6631 - val_accuracy: 0.7232\n",
            "Epoch 17/40\n",
            "50000/50000 [==============================] - 7s 137us/step - loss: 1.2204 - accuracy: 0.8564 - val_loss: 1.6805 - val_accuracy: 0.7212\n",
            "Epoch 18/40\n",
            "50000/50000 [==============================] - 7s 139us/step - loss: 1.1638 - accuracy: 0.8710 - val_loss: 1.6712 - val_accuracy: 0.7205\n",
            "Epoch 19/40\n",
            "50000/50000 [==============================] - 7s 137us/step - loss: 1.1173 - accuracy: 0.8833 - val_loss: 1.7345 - val_accuracy: 0.7093\n",
            "Epoch 20/40\n",
            "50000/50000 [==============================] - 7s 137us/step - loss: 1.0704 - accuracy: 0.8951 - val_loss: 1.6715 - val_accuracy: 0.7263\n",
            "Epoch 21/40\n",
            "50000/50000 [==============================] - 7s 137us/step - loss: 1.0297 - accuracy: 0.9039 - val_loss: 1.6891 - val_accuracy: 0.7192\n",
            "Epoch 22/40\n",
            "50000/50000 [==============================] - 7s 137us/step - loss: 0.9893 - accuracy: 0.9143 - val_loss: 1.7253 - val_accuracy: 0.7249\n",
            "Epoch 23/40\n",
            "50000/50000 [==============================] - 7s 139us/step - loss: 0.9547 - accuracy: 0.9224 - val_loss: 1.7865 - val_accuracy: 0.7168\n",
            "Epoch 24/40\n",
            "50000/50000 [==============================] - 7s 138us/step - loss: 0.9159 - accuracy: 0.9332 - val_loss: 1.7456 - val_accuracy: 0.7204\n",
            "Epoch 25/40\n",
            "50000/50000 [==============================] - 7s 137us/step - loss: 0.8783 - accuracy: 0.9428 - val_loss: 1.7624 - val_accuracy: 0.7287\n",
            "Epoch 26/40\n",
            "50000/50000 [==============================] - 7s 138us/step - loss: 0.8552 - accuracy: 0.9481 - val_loss: 1.8457 - val_accuracy: 0.7169\n",
            "Epoch 27/40\n",
            "50000/50000 [==============================] - 7s 137us/step - loss: 0.8207 - accuracy: 0.9572 - val_loss: 1.7947 - val_accuracy: 0.7325\n",
            "Epoch 28/40\n",
            "50000/50000 [==============================] - 7s 137us/step - loss: 0.8044 - accuracy: 0.9588 - val_loss: 1.8493 - val_accuracy: 0.7193\n",
            "Epoch 29/40\n",
            "50000/50000 [==============================] - 7s 137us/step - loss: 0.7759 - accuracy: 0.9653 - val_loss: 1.8412 - val_accuracy: 0.7257\n",
            "Epoch 30/40\n",
            "50000/50000 [==============================] - 7s 137us/step - loss: 0.7484 - accuracy: 0.9714 - val_loss: 1.9451 - val_accuracy: 0.7186\n",
            "Epoch 31/40\n",
            "50000/50000 [==============================] - 7s 137us/step - loss: 0.7250 - accuracy: 0.9765 - val_loss: 1.9429 - val_accuracy: 0.7185\n",
            "Epoch 32/40\n",
            "50000/50000 [==============================] - 7s 139us/step - loss: 0.7052 - accuracy: 0.9793 - val_loss: 1.9734 - val_accuracy: 0.7225\n",
            "Epoch 33/40\n",
            "50000/50000 [==============================] - 7s 140us/step - loss: 0.6930 - accuracy: 0.9800 - val_loss: 1.9273 - val_accuracy: 0.7201\n",
            "Epoch 34/40\n",
            "50000/50000 [==============================] - 7s 136us/step - loss: 0.6723 - accuracy: 0.9841 - val_loss: 1.9317 - val_accuracy: 0.7315\n",
            "Epoch 35/40\n",
            "50000/50000 [==============================] - 7s 137us/step - loss: 0.6555 - accuracy: 0.9859 - val_loss: 1.9336 - val_accuracy: 0.7315\n",
            "Epoch 36/40\n",
            "50000/50000 [==============================] - 7s 137us/step - loss: 0.6353 - accuracy: 0.9889 - val_loss: 1.9236 - val_accuracy: 0.7282\n",
            "Epoch 37/40\n",
            "50000/50000 [==============================] - 7s 135us/step - loss: 0.6232 - accuracy: 0.9894 - val_loss: 1.9228 - val_accuracy: 0.7270\n",
            "Epoch 38/40\n",
            "50000/50000 [==============================] - 7s 137us/step - loss: 0.6186 - accuracy: 0.9864 - val_loss: 1.8727 - val_accuracy: 0.7214\n",
            "Epoch 39/40\n",
            "50000/50000 [==============================] - 7s 137us/step - loss: 0.6040 - accuracy: 0.9888 - val_loss: 1.9365 - val_accuracy: 0.7300\n",
            "Epoch 40/40\n",
            "50000/50000 [==============================] - 7s 138us/step - loss: 0.5723 - accuracy: 0.9966 - val_loss: 1.9366 - val_accuracy: 0.7380\n",
            "> 73.800\n"
          ],
          "name": "stdout"
        }
      ]
    },
    {
      "cell_type": "markdown",
      "metadata": {
        "id": "dQdMQ5C5iKqW",
        "colab_type": "text"
      },
      "source": [
        "In this case, we see no much improvement in the model performance on the test set; in fact, we see a small increase in performance from about 71% to about 73% classification accuracy.\n",
        "\n",
        "Reviewing the learning curves, we do see a small reduction in the overfitting, but the impact is not as effective as dropout.\n",
        "\n",
        "We might be able to improve the effect of weight decay by perhaps using a larger weighting, such as 0.01 or even 0.1."
      ]
    },
    {
      "cell_type": "code",
      "metadata": {
        "id": "5GZSIzzTgSME",
        "colab_type": "code",
        "colab": {}
      },
      "source": [
        "# save model\n",
        "\tmodel.save('fifth_model.h5')"
      ],
      "execution_count": 0,
      "outputs": []
    },
    {
      "cell_type": "code",
      "metadata": {
        "id": "Vk7HZZWHh8cr",
        "colab_type": "code",
        "outputId": "07fb6b37-d67b-4991-b6e6-388eda72298c",
        "colab": {
          "base_uri": "https://localhost:8080/",
          "height": 281
        }
      },
      "source": [
        "\tpyplot.subplot(211)\n",
        "\tpyplot.title('Cross Entropy Loss')\n",
        "\tpyplot.plot(history.history['loss'], color='blue', label='train')\n",
        "\tpyplot.plot(history.history['val_loss'], color='orange', label='test')\n",
        "\t# plot accuracy\n",
        "\tpyplot.subplot(212)\n",
        "\tpyplot.title('Classification Accuracy')\n",
        "\tpyplot.plot(history.history['accuracy'], color='blue', label='train')\n",
        "\tpyplot.plot(history.history['val_accuracy'], color='orange', label='test')\n",
        "\t# save plot to file\n",
        "\tfilename = sys.argv[0].split('/')[-1]\n",
        "\tpyplot.savefig(filename + '_plot.png')\n",
        "\tpyplot.show()"
      ],
      "execution_count": 0,
      "outputs": [
        {
          "output_type": "display_data",
          "data": {
            "image/png": "[encoded data removed]",
            "text/plain": [
              "<Figure size 432x288 with 2 Axes>"
            ]
          },
          "metadata": {
            "tags": [],
            "needs_background": "light"
          }
        }
      ]
    },
    {
      "cell_type": "code",
      "metadata": {
        "id": "B1TPXPKtiBp2",
        "colab_type": "code",
        "outputId": "d356c1a4-8589-4858-dec7-646344c759b7",
        "colab": {
          "base_uri": "https://localhost:8080/",
          "height": 867
        }
      },
      "source": [
        "# predicting images\n",
        "from keras.preprocessing import image\n",
        "airplane = 0 \n",
        "automobile=1\n",
        "bird=2\n",
        "cat=3\n",
        "deer=4\n",
        "dog=5\n",
        "frog=6\n",
        "horse=7\n",
        "ship=8\n",
        "truck=9\n",
        "for file in onlyfiless:\n",
        "    img = image.load_img(predict_dir_path+file, target_size=(32, 32))\n",
        "    x = image.img_to_array(img)\n",
        "    x = np.expand_dims(x, axis=0)\n",
        "    \n",
        "    images = np.vstack([x])\n",
        "    model = load_model('/content/fifth_model.h5')\n",
        "    result = model.predict_classes(images, batch_size=10)\n",
        "\n",
        "    \n",
        "    \n",
        "    if result == 0:\n",
        "        print(file + \": \" + 'airplane')\n",
        "        airplane += 1\n",
        "    elif result==1:\n",
        "        print(file + \": \" + 'automobile')\n",
        "        automobile += 1\n",
        "    elif result==2:\n",
        "        print(file + \": \" + 'bird')\n",
        "        bird += 1\n",
        "    elif result==3:\n",
        "        print(file + \": \" + 'cat')\n",
        "        cat +=1\n",
        "    elif result==4:\n",
        "        print(file + \": \" + 'deer')\n",
        "        deer +=1\n",
        "    elif result==5:\n",
        "        print(file + \": \" + 'dog')\n",
        "        dog +=1\n",
        "    elif result==6:\n",
        "        print(file + \": \" + 'frog')\n",
        "        frog +=1\n",
        "    elif result==7:\n",
        "        print(file + \": \" + 'horse')\n",
        "        horse +=1\n",
        "    elif result==8:\n",
        "        print(file + \": \" + 'ship')\n",
        "        ship +=1\n",
        "    elif result==9:\n",
        "        print(file + \": \" + 'truck')\n",
        "        truck +=1\n",
        "    \n",
        "           \n",
        "print(\"Total airplane :\",airplane)\n",
        "print(\"Total automobile :\",automobile)\n",
        "print(\"Total bird :\",bird)\n",
        "print(\"Total cat :\",cat)\n",
        "print(\"Total deer :\",deer)\n",
        "print(\"Total dog :\",dog)\n",
        "print(\"Total frog :\",frog)\n",
        "print(\"Total horse :\",horse)\n",
        "print(\"Total ship :\",ship)\n",
        "print(\"Total truck :\",truck)"
      ],
      "execution_count": 0,
      "outputs": [
        {
          "output_type": "stream",
          "text": [
            "1.jpg: cat\n",
            "5.jpg: airplane\n",
            "9.jpg: truck\n",
            "3.jpg: cat\n",
            "2.jpg: cat\n",
            "4.jpg: cat\n",
            "6.jpg: airplane\n",
            "8.jpg: airplane\n",
            "10.jpg: frog\n",
            "7.jpg: airplane\n",
            "11.jpg: automobile\n",
            "20.jpg: airplane\n",
            "15.jpg: truck\n",
            "12.jpg: automobile\n",
            "16.jpg: airplane\n",
            "19.jpg: horse\n",
            "13.jpg: bird\n",
            "14.jpg: bird\n",
            "18.jpg: deer\n",
            "17.jpg: deer\n",
            "21.jpg: dog\n",
            "29.jpg: deer\n",
            "30.jpg: horse\n",
            "26.jpg: frog\n",
            "22.jpg: cat\n",
            "24.jpg: dog\n",
            "27.jpg: frog\n",
            "25.jpg: airplane\n",
            "23.jpg: truck\n",
            "28.jpg: airplane\n",
            "31.jpg: horse\n",
            "37.jpg: truck\n",
            "33.jpg: ship\n",
            "36.jpg: ship\n",
            "39.jpg: automobile\n",
            "38.jpg: truck\n",
            "34.jpg: airplane\n",
            "32.jpg: horse\n",
            "35.jpg: ship\n",
            "40.jpg: truck\n",
            "Total airplane : 9\n",
            "Total automobile : 4\n",
            "Total bird : 4\n",
            "Total cat : 8\n",
            "Total deer : 7\n",
            "Total dog : 7\n",
            "Total frog : 9\n",
            "Total horse : 11\n",
            "Total ship : 11\n",
            "Total truck : 15\n"
          ],
          "name": "stdout"
        }
      ]
    },
    {
      "cell_type": "markdown",
      "metadata": {
        "id": "ENmlzjodjT9k",
        "colab_type": "text"
      },
      "source": [
        "# Data Augmentation\n",
        "Data augmentation involves making copies of the examples in the training dataset with small random modifications.\n",
        "\n",
        "This has a regularizing effect as it both expands the training dataset and allows the model to learn the same general features, although in a more generalized manner.\n",
        "\n",
        "There are many types of data augmentation that could be applied. Given that the dataset is comprised of small photos of objects, we do not want to use augmentation that distorts the images too much, so that useful features in the images can be preserved and used.\n",
        "\n",
        "The types of random augmentations that could be useful include a horizontal flip, minor shifts of the image, and perhaps small zooming or cropping of the image.\n",
        "\n",
        "We will investigate the effect of simple augmentation on the baseline image, specifically horizontal flips and 10% shifts in the height and width of the image.\n",
        "\n",
        "This can be implemented in Keras using the ImageDataGenerator class"
      ]
    },
    {
      "cell_type": "code",
      "metadata": {
        "id": "r1OFtSwtiYDu",
        "colab_type": "code",
        "colab": {}
      },
      "source": [
        "from keras.preprocessing.image import ImageDataGenerator"
      ],
      "execution_count": 0,
      "outputs": []
    },
    {
      "cell_type": "code",
      "metadata": {
        "id": "3c15kTQXj60F",
        "colab_type": "code",
        "colab": {}
      },
      "source": [
        "def define_model():\n",
        "\tmodel = Sequential()\n",
        "\tmodel.add(Conv2D(32, (3, 3), activation='relu', kernel_initializer='he_uniform', padding='same', input_shape=(32, 32, 3)))\n",
        "\tmodel.add(Conv2D(32, (3, 3), activation='relu', kernel_initializer='he_uniform', padding='same'))\n",
        "\tmodel.add(MaxPooling2D((2, 2)))\n",
        "\tmodel.add(Conv2D(64, (3, 3), activation='relu', kernel_initializer='he_uniform', padding='same'))\n",
        "\tmodel.add(Conv2D(64, (3, 3), activation='relu', kernel_initializer='he_uniform', padding='same'))\n",
        "\tmodel.add(MaxPooling2D((2, 2)))\n",
        "\tmodel.add(Conv2D(128, (3, 3), activation='relu', kernel_initializer='he_uniform', padding='same'))\n",
        "\tmodel.add(Conv2D(128, (3, 3), activation='relu', kernel_initializer='he_uniform', padding='same'))\n",
        "\tmodel.add(MaxPooling2D((2, 2)))\n",
        "\tmodel.add(Flatten())\n",
        "\tmodel.add(Dense(128, activation='relu', kernel_initializer='he_uniform'))\n",
        "\tmodel.add(Dense(10, activation='softmax'))\n",
        "\t# compile model\n",
        "\topt = SGD(lr=0.001, momentum=0.9)\n",
        "\tmodel.compile(optimizer=opt, loss='categorical_crossentropy', metrics=['accuracy'])\n",
        "\treturn model\n",
        " "
      ],
      "execution_count": 0,
      "outputs": []
    },
    {
      "cell_type": "code",
      "metadata": {
        "id": "71IbVzE6kFJ-",
        "colab_type": "code",
        "outputId": "8b60ef29-e94d-47f2-af45-1b581068e0e7",
        "colab": {
          "base_uri": "https://localhost:8080/",
          "height": 1000
        }
      },
      "source": [
        "# load dataset\n",
        "trainX, trainY, testX, testY = load_dataset()\n",
        "# prepare pixel data\n",
        "trainX, testX = prep_pixels(trainX, testX)\n",
        "# define model\n",
        "model = define_model()\n",
        "# create data generator\n",
        "datagen = ImageDataGenerator(width_shift_range=0.1, height_shift_range=0.1, horizontal_flip=True)\n",
        "# prepare iterator\n",
        "it_train = datagen.flow(trainX, trainY, batch_size=64)\n",
        "#fit model\n",
        "steps = int(trainX.shape[0] / 64)\n",
        "history = model.fit_generator(it_train, steps_per_epoch=steps, epochs=40, validation_data=(testX, testY), verbose=1)\n",
        "_, acc = model.evaluate(testX, testY, verbose=0)\n",
        "print('> %.3f' % (acc * 100.0))"
      ],
      "execution_count": 0,
      "outputs": [
        {
          "output_type": "stream",
          "text": [
            "Epoch 1/40\n",
            "781/781 [==============================] - 26s 33ms/step - loss: 1.8403 - accuracy: 0.3317 - val_loss: 1.5115 - val_accuracy: 0.4529\n",
            "Epoch 2/40\n",
            "781/781 [==============================] - 23s 30ms/step - loss: 1.5166 - accuracy: 0.4537 - val_loss: 1.3412 - val_accuracy: 0.5224\n",
            "Epoch 3/40\n",
            "781/781 [==============================] - 23s 30ms/step - loss: 1.3749 - accuracy: 0.5059 - val_loss: 1.2595 - val_accuracy: 0.5450\n",
            "Epoch 4/40\n",
            "781/781 [==============================] - 23s 30ms/step - loss: 1.2723 - accuracy: 0.5468 - val_loss: 1.1346 - val_accuracy: 0.6032\n",
            "Epoch 5/40\n",
            "781/781 [==============================] - 23s 29ms/step - loss: 1.1909 - accuracy: 0.5776 - val_loss: 1.0849 - val_accuracy: 0.6162\n",
            "Epoch 6/40\n",
            "781/781 [==============================] - 23s 29ms/step - loss: 1.1254 - accuracy: 0.5999 - val_loss: 1.0478 - val_accuracy: 0.6282\n",
            "Epoch 7/40\n",
            "781/781 [==============================] - 23s 29ms/step - loss: 1.0573 - accuracy: 0.6288 - val_loss: 1.0369 - val_accuracy: 0.6378\n",
            "Epoch 8/40\n",
            "781/781 [==============================] - 23s 30ms/step - loss: 1.0139 - accuracy: 0.6418 - val_loss: 0.9949 - val_accuracy: 0.6598\n",
            "Epoch 9/40\n",
            "781/781 [==============================] - 24s 30ms/step - loss: 0.9690 - accuracy: 0.6602 - val_loss: 0.8890 - val_accuracy: 0.6948\n",
            "Epoch 10/40\n",
            "781/781 [==============================] - 24s 31ms/step - loss: 0.9297 - accuracy: 0.6741 - val_loss: 0.8916 - val_accuracy: 0.6956\n",
            "Epoch 11/40\n",
            "781/781 [==============================] - 25s 32ms/step - loss: 0.8962 - accuracy: 0.6863 - val_loss: 0.8828 - val_accuracy: 0.6921\n",
            "Epoch 12/40\n",
            "781/781 [==============================] - 24s 30ms/step - loss: 0.8631 - accuracy: 0.6975 - val_loss: 0.8115 - val_accuracy: 0.7162\n",
            "Epoch 13/40\n",
            "781/781 [==============================] - 23s 30ms/step - loss: 0.8367 - accuracy: 0.7058 - val_loss: 0.8146 - val_accuracy: 0.7193\n",
            "Epoch 14/40\n",
            "781/781 [==============================] - 23s 30ms/step - loss: 0.8126 - accuracy: 0.7171 - val_loss: 0.7915 - val_accuracy: 0.7280\n",
            "Epoch 15/40\n",
            "781/781 [==============================] - 23s 30ms/step - loss: 0.7896 - accuracy: 0.7243 - val_loss: 0.8449 - val_accuracy: 0.7079\n",
            "Epoch 16/40\n",
            "781/781 [==============================] - 23s 30ms/step - loss: 0.7614 - accuracy: 0.7336 - val_loss: 0.7460 - val_accuracy: 0.7453\n",
            "Epoch 17/40\n",
            "781/781 [==============================] - 23s 30ms/step - loss: 0.7459 - accuracy: 0.7410 - val_loss: 0.7424 - val_accuracy: 0.7491\n",
            "Epoch 18/40\n",
            "781/781 [==============================] - 23s 30ms/step - loss: 0.7237 - accuracy: 0.7493 - val_loss: 0.7095 - val_accuracy: 0.7559\n",
            "Epoch 19/40\n",
            "781/781 [==============================] - 23s 29ms/step - loss: 0.7129 - accuracy: 0.7501 - val_loss: 0.7094 - val_accuracy: 0.7593\n",
            "Epoch 20/40\n",
            "781/781 [==============================] - 23s 29ms/step - loss: 0.6961 - accuracy: 0.7553 - val_loss: 0.7272 - val_accuracy: 0.7581\n",
            "Epoch 21/40\n",
            "781/781 [==============================] - 24s 31ms/step - loss: 0.6801 - accuracy: 0.7635 - val_loss: 0.7325 - val_accuracy: 0.7513\n",
            "Epoch 22/40\n",
            "781/781 [==============================] - 24s 30ms/step - loss: 0.6686 - accuracy: 0.7665 - val_loss: 0.7075 - val_accuracy: 0.7624\n",
            "Epoch 23/40\n",
            "781/781 [==============================] - 23s 30ms/step - loss: 0.6522 - accuracy: 0.7747 - val_loss: 0.6901 - val_accuracy: 0.7634\n",
            "Epoch 24/40\n",
            "781/781 [==============================] - 24s 31ms/step - loss: 0.6388 - accuracy: 0.7753 - val_loss: 0.6936 - val_accuracy: 0.7605\n",
            "Epoch 25/40\n",
            "781/781 [==============================] - 24s 30ms/step - loss: 0.6249 - accuracy: 0.7812 - val_loss: 0.6606 - val_accuracy: 0.7735\n",
            "Epoch 26/40\n",
            "781/781 [==============================] - 23s 30ms/step - loss: 0.6228 - accuracy: 0.7812 - val_loss: 0.6589 - val_accuracy: 0.7732\n",
            "Epoch 27/40\n",
            "781/781 [==============================] - 23s 30ms/step - loss: 0.6040 - accuracy: 0.7895 - val_loss: 0.6313 - val_accuracy: 0.7838\n",
            "Epoch 28/40\n",
            "781/781 [==============================] - 23s 30ms/step - loss: 0.5973 - accuracy: 0.7917 - val_loss: 0.6261 - val_accuracy: 0.7874\n",
            "Epoch 29/40\n",
            "781/781 [==============================] - 23s 30ms/step - loss: 0.5884 - accuracy: 0.7951 - val_loss: 0.6013 - val_accuracy: 0.7946\n",
            "Epoch 30/40\n",
            "781/781 [==============================] - 23s 30ms/step - loss: 0.5674 - accuracy: 0.8022 - val_loss: 0.6114 - val_accuracy: 0.7867\n",
            "Epoch 31/40\n",
            "781/781 [==============================] - 23s 30ms/step - loss: 0.5641 - accuracy: 0.8033 - val_loss: 0.6660 - val_accuracy: 0.7763\n",
            "Epoch 32/40\n",
            "781/781 [==============================] - 23s 30ms/step - loss: 0.5561 - accuracy: 0.8049 - val_loss: 0.6688 - val_accuracy: 0.7747\n",
            "Epoch 33/40\n",
            "781/781 [==============================] - 23s 30ms/step - loss: 0.5459 - accuracy: 0.8086 - val_loss: 0.6181 - val_accuracy: 0.7925\n",
            "Epoch 34/40\n",
            "781/781 [==============================] - 23s 29ms/step - loss: 0.5338 - accuracy: 0.8133 - val_loss: 0.6431 - val_accuracy: 0.7861\n",
            "Epoch 35/40\n",
            "781/781 [==============================] - 24s 30ms/step - loss: 0.5274 - accuracy: 0.8171 - val_loss: 0.5818 - val_accuracy: 0.8053\n",
            "Epoch 36/40\n",
            "781/781 [==============================] - 23s 30ms/step - loss: 0.5189 - accuracy: 0.8190 - val_loss: 0.6166 - val_accuracy: 0.7973\n",
            "Epoch 37/40\n",
            "781/781 [==============================] - 24s 31ms/step - loss: 0.5158 - accuracy: 0.8200 - val_loss: 0.6082 - val_accuracy: 0.7980\n",
            "Epoch 38/40\n",
            "781/781 [==============================] - 24s 31ms/step - loss: 0.5010 - accuracy: 0.8241 - val_loss: 0.6206 - val_accuracy: 0.7980\n",
            "Epoch 39/40\n",
            "781/781 [==============================] - 24s 31ms/step - loss: 0.5012 - accuracy: 0.8270 - val_loss: 0.5916 - val_accuracy: 0.8042\n",
            "Epoch 40/40\n",
            "781/781 [==============================] - 23s 30ms/step - loss: 0.4908 - accuracy: 0.8272 - val_loss: 0.6111 - val_accuracy: 0.7968\n",
            "> 79.680\n"
          ],
          "name": "stdout"
        }
      ]
    },
    {
      "cell_type": "markdown",
      "metadata": {
        "id": "Fs6F2BFYkbR1",
        "colab_type": "text"
      },
      "source": [
        "In this case, we see another large improvement in model performance, much like we saw with dropout. In this case, an improvement of about 9% from about 71% for the baseline model to about 80%."
      ]
    },
    {
      "cell_type": "code",
      "metadata": {
        "id": "310pQHZNkcOG",
        "colab_type": "code",
        "colab": {}
      },
      "source": [
        "# save model\n",
        "\tmodel.save('sixth_model.h5')"
      ],
      "execution_count": 0,
      "outputs": []
    },
    {
      "cell_type": "code",
      "metadata": {
        "id": "v3XR7YQwo-OT",
        "colab_type": "code",
        "outputId": "04e79c05-0441-4883-8f4c-1c16730d6fd2",
        "colab": {
          "base_uri": "https://localhost:8080/",
          "height": 281
        }
      },
      "source": [
        "\tpyplot.subplot(211)\n",
        "\tpyplot.title('Cross Entropy Loss')\n",
        "\tpyplot.plot(history.history['loss'], color='blue', label='train')\n",
        "\tpyplot.plot(history.history['val_loss'], color='orange', label='test')\n",
        "\t# plot accuracy\n",
        "\tpyplot.subplot(212)\n",
        "\tpyplot.title('Classification Accuracy')\n",
        "\tpyplot.plot(history.history['accuracy'], color='blue', label='train')\n",
        "\tpyplot.plot(history.history['val_accuracy'], color='orange', label='test')\n",
        "\t# save plot to file\n",
        "\tfilename = sys.argv[0].split('/')[-1]\n",
        "\tpyplot.savefig(filename + '_plot.png')\n",
        "\tpyplot.show()"
      ],
      "execution_count": 0,
      "outputs": [
        {
          "output_type": "display_data",
          "data": {
            "image/png": "[encoded data removed]",
            "text/plain": [
              "<Figure size 432x288 with 2 Axes>"
            ]
          },
          "metadata": {
            "tags": [],
            "needs_background": "light"
          }
        }
      ]
    },
    {
      "cell_type": "code",
      "metadata": {
        "id": "8UKx5mpQpFNN",
        "colab_type": "code",
        "outputId": "77ed3cf2-7f92-452e-cf88-c6f4feb003bc",
        "colab": {
          "base_uri": "https://localhost:8080/",
          "height": 867
        }
      },
      "source": [
        "# predicting images\n",
        "from keras.preprocessing import image\n",
        "airplane = 0 \n",
        "automobile=1\n",
        "bird=2\n",
        "cat=3\n",
        "deer=4\n",
        "dog=5\n",
        "frog=6\n",
        "horse=7\n",
        "ship=8\n",
        "truck=9\n",
        "for file in onlyfiless:\n",
        "    img = image.load_img(predict_dir_path+file, target_size=(32, 32))\n",
        "    x = image.img_to_array(img)\n",
        "    x = np.expand_dims(x, axis=0)\n",
        "    \n",
        "    images = np.vstack([x])\n",
        "    model = load_model('/content/sixth_model.h5')\n",
        "    result = model.predict_classes(images, batch_size=10)\n",
        "\n",
        "    \n",
        "    \n",
        "    if result == 0:\n",
        "        print(file + \": \" + 'airplane')\n",
        "        airplane += 1\n",
        "    elif result==1:\n",
        "        print(file + \": \" + 'automobile')\n",
        "        automobile += 1\n",
        "    elif result==2:\n",
        "        print(file + \": \" + 'bird')\n",
        "        bird += 1\n",
        "    elif result==3:\n",
        "        print(file + \": \" + 'cat')\n",
        "        cat +=1\n",
        "    elif result==4:\n",
        "        print(file + \": \" + 'deer')\n",
        "        deer +=1\n",
        "    elif result==5:\n",
        "        print(file + \": \" + 'dog')\n",
        "        dog +=1\n",
        "    elif result==6:\n",
        "        print(file + \": \" + 'frog')\n",
        "        frog +=1\n",
        "    elif result==7:\n",
        "        print(file + \": \" + 'horse')\n",
        "        horse +=1\n",
        "    elif result==8:\n",
        "        print(file + \": \" + 'ship')\n",
        "        ship +=1\n",
        "    elif result==9:\n",
        "        print(file + \": \" + 'truck')\n",
        "        truck +=1\n",
        "    \n",
        "           \n",
        "print(\"Total airplane :\",airplane)\n",
        "print(\"Total automobile :\",automobile)\n",
        "print(\"Total bird :\",bird)\n",
        "print(\"Total cat :\",cat)\n",
        "print(\"Total deer :\",deer)\n",
        "print(\"Total dog :\",dog)\n",
        "print(\"Total frog :\",frog)\n",
        "print(\"Total horse :\",horse)\n",
        "print(\"Total ship :\",ship)\n",
        "print(\"Total truck :\",truck)"
      ],
      "execution_count": 0,
      "outputs": [
        {
          "output_type": "stream",
          "text": [
            "1.jpg: dog\n",
            "5.jpg: airplane\n",
            "9.jpg: automobile\n",
            "3.jpg: dog\n",
            "2.jpg: cat\n",
            "4.jpg: dog\n",
            "6.jpg: airplane\n",
            "8.jpg: airplane\n",
            "10.jpg: truck\n",
            "7.jpg: ship\n",
            "11.jpg: automobile\n",
            "20.jpg: airplane\n",
            "15.jpg: airplane\n",
            "12.jpg: automobile\n",
            "16.jpg: airplane\n",
            "19.jpg: horse\n",
            "13.jpg: bird\n",
            "14.jpg: airplane\n",
            "18.jpg: horse\n",
            "17.jpg: deer\n",
            "21.jpg: dog\n",
            "29.jpg: airplane\n",
            "30.jpg: dog\n",
            "26.jpg: frog\n",
            "22.jpg: truck\n",
            "24.jpg: dog\n",
            "27.jpg: frog\n",
            "25.jpg: automobile\n",
            "23.jpg: truck\n",
            "28.jpg: cat\n",
            "31.jpg: horse\n",
            "37.jpg: truck\n",
            "33.jpg: truck\n",
            "36.jpg: ship\n",
            "39.jpg: automobile\n",
            "38.jpg: truck\n",
            "34.jpg: ship\n",
            "32.jpg: horse\n",
            "35.jpg: ship\n",
            "40.jpg: truck\n",
            "Total airplane : 8\n",
            "Total automobile : 6\n",
            "Total bird : 3\n",
            "Total cat : 5\n",
            "Total deer : 5\n",
            "Total dog : 11\n",
            "Total frog : 8\n",
            "Total horse : 11\n",
            "Total ship : 12\n",
            "Total truck : 16\n"
          ],
          "name": "stdout"
        }
      ]
    },
    {
      "cell_type": "markdown",
      "metadata": {
        "id": "FWlWanSBqtXT",
        "colab_type": "text"
      },
      "source": [
        "In this section, we explored three approaches designed to slow down the convergence of the model.\n",
        "\n",
        "A summary of the results is provided below:\n",
        "\n",
        "Baseline + Dropout: 80.450%\n",
        "\n",
        "Baseline + Weight Decay: 73.550%\n",
        "\n",
        "Baseline + Data Augmentation: 80.470%\n",
        "\n",
        "The results suggest that both dropout and data augmentation are having the desired effect, and weight decay, at least for the chosen configuration, did not.\n",
        "\n",
        "Now that the model is learning well, we can look for both improvements on what is working, as well as combinations on what is working."
      ]
    },
    {
      "cell_type": "code",
      "metadata": {
        "id": "NndvAxXhpPOo",
        "colab_type": "code",
        "colab": {}
      },
      "source": [
        ""
      ],
      "execution_count": 0,
      "outputs": []
    }
  ]
}