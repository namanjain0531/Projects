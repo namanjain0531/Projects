{
  "nbformat": 4,
  "nbformat_minor": 0,
  "metadata": {
    "colab": {
      "name": "assignment3.ipynb",
      "provenance": [],
      "mount_file_id": "1ojnxulPsFLbXUUtcIDrjVanjfBgFgNkF",
      "authorship_tag": "ABX9TyPOYznmefP8DCfgFcg752g/",
      "include_colab_link": true
    },
    "kernelspec": {
      "name": "python3",
      "display_name": "Python 3"
    },
    "accelerator": "GPU"
  },
  "cells": [
    {
      "cell_type": "markdown",
      "metadata": {
        "id": "view-in-github",
        "colab_type": "text"
      },
      "source": [
        "<a href=\"https://colab.research.google.com/github/namanjain0531/Projects/blob/master/assignment3.ipynb\" target=\"_parent\"><img src=\"https://colab.research.google.com/assets/colab-badge.svg\" alt=\"Open In Colab\"/></a>"
      ]
    },
    {
      "cell_type": "code",
      "metadata": {
        "id": "pF3oAPaxpDxv",
        "colab_type": "code",
        "colab": {
          "base_uri": "https://localhost:8080/",
          "height": 34
        },
        "outputId": "c6bc76f8-61f7-4cd8-83e4-ef228eec64ae"
      },
      "source": [
        "from google.colab import drive\n",
        "drive.mount('/content/drive/')"
      ],
      "execution_count": 23,
      "outputs": [
        {
          "output_type": "stream",
          "text": [
            "Drive already mounted at /content/drive/; to attempt to forcibly remount, call drive.mount(\"/content/drive/\", force_remount=True).\n"
          ],
          "name": "stdout"
        }
      ]
    },
    {
      "cell_type": "code",
      "metadata": {
        "id": "IEgqPj6BpO3k",
        "colab_type": "code",
        "colab": {}
      },
      "source": [
        "import cv2"
      ],
      "execution_count": 24,
      "outputs": []
    },
    {
      "cell_type": "code",
      "metadata": {
        "id": "u7nI0v2gpaOo",
        "colab_type": "code",
        "colab": {}
      },
      "source": [
        "import numpy as np\n",
        "from google.colab.patches import cv2_imshow"
      ],
      "execution_count": 25,
      "outputs": []
    },
    {
      "cell_type": "code",
      "metadata": {
        "id": "EaQ-Lgadpel7",
        "colab_type": "code",
        "colab": {}
      },
      "source": [
        "import os\n",
        "import random\n",
        "from scipy import ndarray"
      ],
      "execution_count": 26,
      "outputs": []
    },
    {
      "cell_type": "markdown",
      "metadata": {
        "id": "xUXHAOf-GJk1",
        "colab_type": "text"
      },
      "source": [
        "#IMAGE AUGMENTATION USING OPENCV ON JEANS CATEGORY"
      ]
    },
    {
      "cell_type": "code",
      "metadata": {
        "id": "1CmwL7nRpjV3",
        "colab_type": "code",
        "colab": {}
      },
      "source": [
        "from scipy import ndimage, misc\n",
        "import numpy as np\n",
        "import os\n",
        "import cv2\n",
        "\n",
        "def rotate():\n",
        "    outPath = \"/content/drive/My Drive/training/jeans\"\n",
        "    path = \"/content/drive/My Drive/train/jeans\"\n",
        "\n",
        "    # iterate through the names of contents of the folder\n",
        "    for image_path in os.listdir(path):\n",
        "\n",
        "        # create the full input path and read the file\n",
        "        input_path = os.path.join(path, image_path)\n",
        "        image_to_rotate = cv2.imread(input_path)\n",
        "\n",
        "        # rotate the image\n",
        "        img_rotate_90_clockwise = cv2.rotate(image_to_rotate, cv2.ROTATE_90_CLOCKWISE)\n",
        "\n",
        "\n",
        "        # create full output path, 'example.jpg' \n",
        "        # becomes 'rotate_example.jpg', save the file to disk\n",
        "        fullpath = os.path.join(outPath, 'rotated_'+image_path)\n",
        "        cv2.imwrite(fullpath, img_rotate_90_clockwise)\n",
        "\n",
        "if __name__ == '__main__':\n",
        "    rotate()"
      ],
      "execution_count": 27,
      "outputs": []
    },
    {
      "cell_type": "code",
      "metadata": {
        "id": "j_27m--6p69B",
        "colab_type": "code",
        "colab": {}
      },
      "source": [
        "def resize():\n",
        "    outPath = \"/content/drive/My Drive/training/jeans\"\n",
        "    path = \"/content/drive/My Drive/train/jeans\"\n",
        "\n",
        "    # iterate through the names of contents of the folder\n",
        "    for image_path in os.listdir(path):\n",
        "\n",
        "        # create the full input path and read the file\n",
        "        input_path = os.path.join(path, image_path)\n",
        "        image_to_resize = cv2.imread(input_path)\n",
        "\n",
        "        # resize the image\n",
        "        image_resized = cv2.resize(image_to_resize, (300, 200))\n",
        "\n",
        "        image_rgb = cv2.cvtColor(image_to_resize, cv2.COLOR_BGR2RGB)\n",
        "\n",
        "        # create full output path, 'example.jpg' \n",
        "        # becomes 'resize_example.jpg', save the file to disk\n",
        "        fullpath = os.path.join(outPath, 'resize_'+image_path)\n",
        "        cv2.imwrite(fullpath, image_resized)\n",
        "\n",
        "if __name__ == '__main__':\n",
        "    resize()"
      ],
      "execution_count": 28,
      "outputs": []
    },
    {
      "cell_type": "code",
      "metadata": {
        "id": "6-EKF8V0rxTv",
        "colab_type": "code",
        "colab": {}
      },
      "source": [
        "def flip():\n",
        "    outPath = \"/content/drive/My Drive/training/jeans\"\n",
        "    path = \"/content/drive/My Drive/train/jeans\"\n",
        "\n",
        "    # iterate through the names of contents of the folder\n",
        "    for image_path in os.listdir(path):\n",
        "\n",
        "        # create the full input path and read the file\n",
        "        input_path = os.path.join(path, image_path)\n",
        "        image_to_flip = cv2.imread(input_path)\n",
        "\n",
        "        # flip the image\n",
        "        img_flip_ud = cv2.flip(image_to_flip, 0)\n",
        "        \n",
        "\n",
        "\n",
        "        # create full output path, 'example.jpg' \n",
        "        # becomes 'flip_example.jpg', save the file to disk\n",
        "        fullpath = os.path.join(outPath, 'flip_'+image_path)\n",
        "        cv2.imwrite(fullpath, img_flip_ud)\n",
        "\n",
        "if __name__ == '__main__':\n",
        "    flip()"
      ],
      "execution_count": 29,
      "outputs": []
    },
    {
      "cell_type": "code",
      "metadata": {
        "id": "MzvGxYPLuvvr",
        "colab_type": "code",
        "colab": {}
      },
      "source": [
        "def sharpen():\n",
        "    outPath = \"/content/drive/My Drive/training/jeans\"\n",
        "    path = \"/content/drive/My Drive/train/jeans\"\n",
        "\n",
        "    # iterate through the names of contents of the folder\n",
        "    for image_path in os.listdir(path):\n",
        "\n",
        "        # create the full input path and read the file\n",
        "        input_path = os.path.join(path, image_path)\n",
        "        image_to_sharp = cv2.imread(input_path)\n",
        "\n",
        "        # sharp the image\n",
        "        kernel = np.array([[0, -1, 0], \n",
        "                   [-1, 5,-1], \n",
        "                   [0, -1, 0]])\n",
        "        \n",
        "\n",
        "        # Sharpen image\n",
        "        image_sharp = cv2.filter2D(image_to_sharp, -1, kernel)\n",
        "        \n",
        "        # create full output path, 'example.jpg' \n",
        "        # becomes 'sharp_example.jpg', save the file to disk\n",
        "        fullpath = os.path.join(outPath, 'sharp_'+image_path)\n",
        "        cv2.imwrite(fullpath, image_sharp)\n",
        "\n",
        "if __name__ == '__main__':\n",
        "    sharpen()"
      ],
      "execution_count": 31,
      "outputs": []
    },
    {
      "cell_type": "code",
      "metadata": {
        "id": "4affsH_o_FjQ",
        "colab_type": "code",
        "colab": {}
      },
      "source": [
        "def bright():\n",
        "    outPath = \"/content/drive/My Drive/training/jeans\"\n",
        "    path = \"/content/drive/My Drive/train/jeans\"\n",
        "\n",
        "    # iterate through the names of contents of the folder\n",
        "    for image_path in os.listdir(path):\n",
        "\n",
        "        # create the full input path and read the file\n",
        "        input_path = os.path.join(path, image_path)\n",
        "        image_to_bright = cv2.imread(input_path)\n",
        "\n",
        "        # bright the image\n",
        "        image= cv2.add(image_to_bright,np.array([50.0]))\n",
        "        \n",
        "\n",
        "\n",
        "        # create full output path, 'example.jpg' \n",
        "        # becomes 'bright_example.jpg', save the file to disk\n",
        "        fullpath = os.path.join(outPath, 'bright_'+image_path)\n",
        "        cv2.imwrite(fullpath, image)\n",
        "\n",
        "if __name__ == '__main__':\n",
        "    bright()"
      ],
      "execution_count": 33,
      "outputs": []
    },
    {
      "cell_type": "markdown",
      "metadata": {
        "id": "nZuE6Qm0IjCw",
        "colab_type": "text"
      },
      "source": [
        "#FOR DECREASING BRIGHTNESS"
      ]
    },
    {
      "cell_type": "code",
      "metadata": {
        "id": "MbbuJldzIn4D",
        "colab_type": "code",
        "colab": {}
      },
      "source": [
        "def decbright():\n",
        "    outPath = \"/content/drive/My Drive/training/jeans\"\n",
        "    path = \"/content/drive/My Drive/train/jeans\"\n",
        "\n",
        "    # iterate through the names of contents of the folder\n",
        "    for image_path in os.listdir(path):\n",
        "\n",
        "        # create the full input path and read the file\n",
        "        input_path = os.path.join(path, image_path)\n",
        "        image_to_bright = cv2.imread(input_path)\n",
        "\n",
        "        # bright the image\n",
        "        image= cv2.add(image_to_bright,np.array([-50.0]))\n",
        "        \n",
        "\n",
        "\n",
        "        # create full output path, 'example.jpg' \n",
        "        # becomes 'bright_example.jpg', save the file to disk\n",
        "        fullpath = os.path.join(outPath, 'decbright_'+image_path)\n",
        "        cv2.imwrite(fullpath, image)\n",
        "\n",
        "if __name__ == '__main__':\n",
        "    decbright()"
      ],
      "execution_count": 49,
      "outputs": []
    },
    {
      "cell_type": "markdown",
      "metadata": {
        "id": "mS9Frb-JGVKo",
        "colab_type": "text"
      },
      "source": [
        "#FOR SAREES CATEGORY"
      ]
    },
    {
      "cell_type": "code",
      "metadata": {
        "id": "S9s8VK0CBd27",
        "colab_type": "code",
        "colab": {}
      },
      "source": [
        "def rotate():\n",
        "    outPath = \"/content/drive/My Drive/training/sarees\"\n",
        "    path = \"/content/drive/My Drive/train/sarees\"\n",
        "\n",
        "    # iterate through the names of contents of the folder\n",
        "    for image_path in os.listdir(path):\n",
        "\n",
        "        # create the full input path and read the file\n",
        "        input_path = os.path.join(path, image_path)\n",
        "        image_to_rotate = cv2.imread(input_path)\n",
        "\n",
        "        # rotate the image\n",
        "        img_rotate_90_clockwise = cv2.rotate(image_to_rotate, cv2.ROTATE_90_CLOCKWISE)\n",
        "\n",
        "\n",
        "        # create full output path, 'example.jpg' \n",
        "        # becomes 'rotate_example.jpg', save the file to disk\n",
        "        fullpath = os.path.join(outPath, 'rotated_'+image_path)\n",
        "        cv2.imwrite(fullpath, img_rotate_90_clockwise)\n",
        "\n",
        "if __name__ == '__main__':\n",
        "    rotate()"
      ],
      "execution_count": 34,
      "outputs": []
    },
    {
      "cell_type": "code",
      "metadata": {
        "id": "zlHCfMF9CU8X",
        "colab_type": "code",
        "colab": {}
      },
      "source": [
        "def bright():\n",
        "    outPath = \"/content/drive/My Drive/training/sarees\"\n",
        "    path = \"/content/drive/My Drive/train/sarees\"\n",
        "\n",
        "    # iterate through the names of contents of the folder\n",
        "    for image_path in os.listdir(path):\n",
        "\n",
        "        # create the full input path and read the file\n",
        "        input_path = os.path.join(path, image_path)\n",
        "        image_to_bright = cv2.imread(input_path)\n",
        "\n",
        "        # bright the image\n",
        "        image= cv2.add(image_to_bright,np.array([50.0]))\n",
        "        \n",
        "\n",
        "\n",
        "        # create full output path, 'example.jpg' \n",
        "        # becomes 'bright_example.jpg', save the file to disk\n",
        "        fullpath = os.path.join(outPath, 'bright_'+image_path)\n",
        "        cv2.imwrite(fullpath, image)\n",
        "\n",
        "if __name__ == '__main__':\n",
        "    bright()"
      ],
      "execution_count": 35,
      "outputs": []
    },
    {
      "cell_type": "markdown",
      "metadata": {
        "id": "IPa2wVf8I5BF",
        "colab_type": "text"
      },
      "source": [
        "#FOR DECREASING BRIGHTNESS"
      ]
    },
    {
      "cell_type": "code",
      "metadata": {
        "id": "qD9XhE-4I9-w",
        "colab_type": "code",
        "colab": {}
      },
      "source": [
        "def decbright():\n",
        "    outPath = \"/content/drive/My Drive/training/sarees\"\n",
        "    path = \"/content/drive/My Drive/train/sarees\"\n",
        "\n",
        "    # iterate through the names of contents of the folder\n",
        "    for image_path in os.listdir(path):\n",
        "\n",
        "        # create the full input path and read the file\n",
        "        input_path = os.path.join(path, image_path)\n",
        "        image_to_bright = cv2.imread(input_path)\n",
        "\n",
        "        # bright the image\n",
        "        image= cv2.add(image_to_bright,np.array([-50.0]))\n",
        "        \n",
        "\n",
        "\n",
        "        # create full output path, 'example.jpg' \n",
        "        # becomes 'bright_example.jpg', save the file to disk\n",
        "        fullpath = os.path.join(outPath, 'decbright_'+image_path)\n",
        "        cv2.imwrite(fullpath, image)\n",
        "\n",
        "if __name__ == '__main__':\n",
        "    decbright()"
      ],
      "execution_count": 50,
      "outputs": []
    },
    {
      "cell_type": "code",
      "metadata": {
        "id": "pqN5jySBCoFT",
        "colab_type": "code",
        "colab": {}
      },
      "source": [
        "def flip():\n",
        "    outPath = \"/content/drive/My Drive/training/sarees\"\n",
        "    path = \"/content/drive/My Drive/train/sarees\"\n",
        "\n",
        "    # iterate through the names of contents of the folder\n",
        "    for image_path in os.listdir(path):\n",
        "\n",
        "        # create the full input path and read the file\n",
        "        input_path = os.path.join(path, image_path)\n",
        "        image_to_flip = cv2.imread(input_path)\n",
        "\n",
        "        # flip the image\n",
        "        img_flip_ud = cv2.flip(image_to_flip, 0)\n",
        "        \n",
        "\n",
        "\n",
        "        # create full output path, 'example.jpg' \n",
        "        # becomes 'flip_example.jpg', save the file to disk\n",
        "        fullpath = os.path.join(outPath, 'flip_'+image_path)\n",
        "        cv2.imwrite(fullpath, img_flip_ud)\n",
        "\n",
        "if __name__ == '__main__':\n",
        "    flip()"
      ],
      "execution_count": 36,
      "outputs": []
    },
    {
      "cell_type": "code",
      "metadata": {
        "id": "dRQg2JW5C-Ax",
        "colab_type": "code",
        "colab": {}
      },
      "source": [
        "def resize():\n",
        "    outPath = \"/content/drive/My Drive/training/sarees\"\n",
        "    path = \"/content/drive/My Drive/train/sarees\"\n",
        "\n",
        "    # iterate through the names of contents of the folder\n",
        "    for image_path in os.listdir(path):\n",
        "\n",
        "        # create the full input path and read the file\n",
        "        input_path = os.path.join(path, image_path)\n",
        "        image_to_resize = cv2.imread(input_path)\n",
        "\n",
        "        # resize the image\n",
        "        image_resized = cv2.resize(image_to_resize, (300, 200))\n",
        "\n",
        "        image_rgb = cv2.cvtColor(image_to_resize, cv2.COLOR_BGR2RGB)\n",
        "\n",
        "        # create full output path, 'example.jpg' \n",
        "        # becomes 'resize_example.jpg', save the file to disk\n",
        "        fullpath = os.path.join(outPath, 'resize_'+image_path)\n",
        "        cv2.imwrite(fullpath, image_resized)\n",
        "\n",
        "if __name__ == '__main__':\n",
        "    resize()"
      ],
      "execution_count": 37,
      "outputs": []
    },
    {
      "cell_type": "code",
      "metadata": {
        "id": "fxPSCZHDDojn",
        "colab_type": "code",
        "colab": {}
      },
      "source": [
        "def sharpen():\n",
        "    outPath = \"/content/drive/My Drive/training/sarees\"\n",
        "    path = \"/content/drive/My Drive/train/sarees\"\n",
        "\n",
        "    # iterate through the names of contents of the folder\n",
        "    for image_path in os.listdir(path):\n",
        "\n",
        "        # create the full input path and read the file\n",
        "        input_path = os.path.join(path, image_path)\n",
        "        image_to_sharp = cv2.imread(input_path)\n",
        "\n",
        "        # sharp the image\n",
        "        kernel = np.array([[0, -1, 0], \n",
        "                   [-1, 5,-1], \n",
        "                   [0, -1, 0]])\n",
        "        \n",
        "\n",
        "        # Sharpen image\n",
        "        image_sharp = cv2.filter2D(image_to_sharp, -1, kernel)\n",
        "        \n",
        "        # create full output path, 'example.jpg' \n",
        "        # becomes 'sharp_example.jpg', save the file to disk\n",
        "        fullpath = os.path.join(outPath, 'sharp_'+image_path)\n",
        "        cv2.imwrite(fullpath, image_sharp)\n",
        "\n",
        "if __name__ == '__main__':\n",
        "    sharpen()"
      ],
      "execution_count": 38,
      "outputs": []
    },
    {
      "cell_type": "markdown",
      "metadata": {
        "id": "LcVGdXMgGbaR",
        "colab_type": "text"
      },
      "source": [
        "#FOR TROUSERS CATEGORY"
      ]
    },
    {
      "cell_type": "code",
      "metadata": {
        "id": "gQItYZOTESZ3",
        "colab_type": "code",
        "colab": {}
      },
      "source": [
        "def rotate():\n",
        "    outPath = \"/content/drive/My Drive/training/trousers\"\n",
        "    path = \"/content/drive/My Drive/train/trousers\"\n",
        "\n",
        "    # iterate through the names of contents of the folder\n",
        "    for image_path in os.listdir(path):\n",
        "\n",
        "        # create the full input path and read the file\n",
        "        input_path = os.path.join(path, image_path)\n",
        "        image_to_rotate = cv2.imread(input_path)\n",
        "\n",
        "        # rotate the image\n",
        "        img_rotate_90_clockwise = cv2.rotate(image_to_rotate, cv2.ROTATE_90_CLOCKWISE)\n",
        "\n",
        "\n",
        "        # create full output path, 'example.jpg' \n",
        "        # becomes 'rotate_example.jpg', save the file to disk\n",
        "        fullpath = os.path.join(outPath, 'rotated_'+image_path)\n",
        "        cv2.imwrite(fullpath, img_rotate_90_clockwise)\n",
        "\n",
        "if __name__ == '__main__':\n",
        "    rotate()"
      ],
      "execution_count": 39,
      "outputs": []
    },
    {
      "cell_type": "code",
      "metadata": {
        "id": "-_zYxaGsE2Ho",
        "colab_type": "code",
        "colab": {}
      },
      "source": [
        "def resize():\n",
        "    outPath = \"/content/drive/My Drive/training/trousers\"\n",
        "    path = \"/content/drive/My Drive/train/trousers\"\n",
        "\n",
        "    # iterate through the names of contents of the folder\n",
        "    for image_path in os.listdir(path):\n",
        "\n",
        "        # create the full input path and read the file\n",
        "        input_path = os.path.join(path, image_path)\n",
        "        image_to_resize = cv2.imread(input_path)\n",
        "\n",
        "        # resize the image\n",
        "        image_resized = cv2.resize(image_to_resize, (300, 200))\n",
        "\n",
        "        image_rgb = cv2.cvtColor(image_to_resize, cv2.COLOR_BGR2RGB)\n",
        "\n",
        "        # create full output path, 'example.jpg' \n",
        "        # becomes 'resize_example.jpg', save the file to disk\n",
        "        fullpath = os.path.join(outPath, 'resize_'+image_path)\n",
        "        cv2.imwrite(fullpath, image_resized)\n",
        "\n",
        "if __name__ == '__main__':\n",
        "    resize()"
      ],
      "execution_count": 40,
      "outputs": []
    },
    {
      "cell_type": "code",
      "metadata": {
        "id": "Dep3JNm_FdeJ",
        "colab_type": "code",
        "colab": {}
      },
      "source": [
        "def flip():\n",
        "    outPath = \"/content/drive/My Drive/training/trousers\"\n",
        "    path = \"/content/drive/My Drive/train/trousers\"\n",
        "\n",
        "    # iterate through the names of contents of the folder\n",
        "    for image_path in os.listdir(path):\n",
        "\n",
        "        # create the full input path and read the file\n",
        "        input_path = os.path.join(path, image_path)\n",
        "        image_to_flip = cv2.imread(input_path)\n",
        "\n",
        "        # flip the image\n",
        "        img_flip_ud = cv2.flip(image_to_flip, 0)\n",
        "        \n",
        "\n",
        "\n",
        "        # create full output path, 'example.jpg' \n",
        "        # becomes 'flip_example.jpg', save the file to disk\n",
        "        fullpath = os.path.join(outPath, 'flip_'+image_path)\n",
        "        cv2.imwrite(fullpath, img_flip_ud)\n",
        "\n",
        "if __name__ == '__main__':\n",
        "    flip()"
      ],
      "execution_count": 41,
      "outputs": []
    },
    {
      "cell_type": "code",
      "metadata": {
        "id": "gVziSRliFu8Z",
        "colab_type": "code",
        "colab": {}
      },
      "source": [
        "def sharpen():\n",
        "    outPath = \"/content/drive/My Drive/training/trousers\"\n",
        "    path = \"/content/drive/My Drive/train/trousers\"\n",
        "\n",
        "    # iterate through the names of contents of the folder\n",
        "    for image_path in os.listdir(path):\n",
        "\n",
        "        # create the full input path and read the file\n",
        "        input_path = os.path.join(path, image_path)\n",
        "        image_to_sharp = cv2.imread(input_path)\n",
        "\n",
        "        # sharp the image\n",
        "        kernel = np.array([[0, -1, 0], \n",
        "                   [-1, 5,-1], \n",
        "                   [0, -1, 0]])\n",
        "        \n",
        "\n",
        "        # Sharpen image\n",
        "        image_sharp = cv2.filter2D(image_to_sharp, -1, kernel)\n",
        "        \n",
        "        # create full output path, 'example.jpg' \n",
        "        # becomes 'sharp_example.jpg', save the file to disk\n",
        "        fullpath = os.path.join(outPath, 'sharp_'+image_path)\n",
        "        cv2.imwrite(fullpath, image_sharp)\n",
        "\n",
        "if __name__ == '__main__':\n",
        "    sharpen()"
      ],
      "execution_count": 42,
      "outputs": []
    },
    {
      "cell_type": "code",
      "metadata": {
        "id": "wkj59sMAF5j_",
        "colab_type": "code",
        "colab": {}
      },
      "source": [
        "def bright():\n",
        "    outPath = \"/content/drive/My Drive/training/trousers\"\n",
        "    path = \"/content/drive/My Drive/train/trousers\"\n",
        "\n",
        "    # iterate through the names of contents of the folder\n",
        "    for image_path in os.listdir(path):\n",
        "\n",
        "        # create the full input path and read the file\n",
        "        input_path = os.path.join(path, image_path)\n",
        "        image_to_bright = cv2.imread(input_path)\n",
        "\n",
        "        # bright the image\n",
        "        image= cv2.add(image_to_bright,np.array([50.0]))\n",
        "        \n",
        "\n",
        "\n",
        "        # create full output path, 'example.jpg' \n",
        "        # becomes 'bright_example.jpg', save the file to disk\n",
        "        fullpath = os.path.join(outPath, 'bright_'+image_path)\n",
        "        cv2.imwrite(fullpath, image)\n",
        "\n",
        "if __name__ == '__main__':\n",
        "    bright()"
      ],
      "execution_count": 45,
      "outputs": []
    },
    {
      "cell_type": "markdown",
      "metadata": {
        "id": "4C-pL-kzHsv0",
        "colab_type": "text"
      },
      "source": [
        "#FOR DECREASING BRIGHTNESS"
      ]
    },
    {
      "cell_type": "code",
      "metadata": {
        "id": "C69fPZ2BGBqm",
        "colab_type": "code",
        "colab": {}
      },
      "source": [
        "def decbright():\n",
        "    outPath = \"/content/drive/My Drive/training/trousers\"\n",
        "    path = \"/content/drive/My Drive/train/trousers\"\n",
        "\n",
        "    # iterate through the names of contents of the folder\n",
        "    for image_path in os.listdir(path):\n",
        "\n",
        "        # create the full input path and read the file\n",
        "        input_path = os.path.join(path, image_path)\n",
        "        image_to_bright = cv2.imread(input_path)\n",
        "\n",
        "        # bright the image\n",
        "        image= cv2.add(image_to_bright,np.array([-50.0]))\n",
        "        \n",
        "\n",
        "\n",
        "        # create full output path, 'example.jpg' \n",
        "        # becomes 'bright_example.jpg', save the file to disk\n",
        "        fullpath = os.path.join(outPath, 'decbright_'+image_path)\n",
        "        cv2.imwrite(fullpath, image)\n",
        "\n",
        "if __name__ == '__main__':\n",
        "    decbright()"
      ],
      "execution_count": 48,
      "outputs": []
    },
    {
      "cell_type": "markdown",
      "metadata": {
        "id": "VEF7WzYqJW39",
        "colab_type": "text"
      },
      "source": [
        "#BUILD CONVOLUTIONAL NETWORK"
      ]
    },
    {
      "cell_type": "code",
      "metadata": {
        "id": "EF0MgOZ0Hqxr",
        "colab_type": "code",
        "colab": {
          "base_uri": "https://localhost:8080/",
          "height": 34
        },
        "outputId": "b8e19b7c-62a9-425f-b7ce-c73c226c9eb2"
      },
      "source": [
        "from keras.models import Sequential\n",
        "from keras.layers import Conv2D, MaxPooling2D\n",
        "from keras.layers import Activation, Dropout, Flatten, Dense\n",
        "from keras import backend as K"
      ],
      "execution_count": 51,
      "outputs": [
        {
          "output_type": "stream",
          "text": [
            "Using TensorFlow backend.\n"
          ],
          "name": "stderr"
        }
      ]
    },
    {
      "cell_type": "code",
      "metadata": {
        "id": "7GlVuJC8J2P_",
        "colab_type": "code",
        "colab": {}
      },
      "source": [
        "# dimensions of our images.\n",
        "input_shape=(150,150,3)\n",
        "img_width, img_height = 150, 150\n",
        "\n",
        "train_data_dir = '/content/drive/My Drive/training'\n",
        "validation_data_dir = '/content/drive/My Drive/test'"
      ],
      "execution_count": 52,
      "outputs": []
    },
    {
      "cell_type": "code",
      "metadata": {
        "id": "jZmoIYhzKECR",
        "colab_type": "code",
        "colab": {}
      },
      "source": [
        "from keras.preprocessing.image import ImageDataGenerator, load_img\n"
      ],
      "execution_count": 53,
      "outputs": []
    },
    {
      "cell_type": "code",
      "metadata": {
        "id": "brTIjnFwNS6k",
        "colab_type": "code",
        "colab": {
          "base_uri": "https://localhost:8080/",
          "height": 51
        },
        "outputId": "c78d3e06-0eb6-4db5-89b8-c46bba2d8830"
      },
      "source": [
        "#rescaling data\n",
        "datagen=ImageDataGenerator(rescale=1./255)\n",
        "\n",
        "train_generator=datagen.flow_from_directory(\n",
        "         train_data_dir,\n",
        "         target_size=(img_width,img_height),\n",
        "         batch_size=8,\n",
        "         class_mode='categorical')\n",
        "\n",
        "validation_generator=datagen.flow_from_directory(\n",
        "         validation_data_dir,\n",
        "         target_size=(img_width,img_height),\n",
        "         batch_size=16,\n",
        "         class_mode='categorical')"
      ],
      "execution_count": 55,
      "outputs": [
        {
          "output_type": "stream",
          "text": [
            "Found 1914 images belonging to 3 classes.\n",
            "Found 311 images belonging to 3 classes.\n"
          ],
          "name": "stdout"
        }
      ]
    },
    {
      "cell_type": "code",
      "metadata": {
        "id": "wE2apYlRNcWX",
        "colab_type": "code",
        "colab": {}
      },
      "source": [
        "nb_train_samples=1914\n",
        "nb_validation_samples=311\n",
        "batch_size=32\n",
        "epochs=20\n"
      ],
      "execution_count": 56,
      "outputs": []
    },
    {
      "cell_type": "code",
      "metadata": {
        "id": "2_4-2ZFGQBmd",
        "colab_type": "code",
        "colab": {}
      },
      "source": [
        "#model building\n",
        "model = Sequential()\n",
        "model.add(Conv2D(32, (3, 3), input_shape=input_shape))\n",
        "model.add(Activation('relu'))\n",
        "model.add(MaxPooling2D(pool_size=(2, 2)))\n",
        "model.add(Dropout(0.2))\n",
        "\n",
        "model.add(Conv2D(32, (3, 3)))\n",
        "model.add(Activation('relu'))\n",
        "model.add(MaxPooling2D(pool_size=(2, 2)))\n",
        "model.add(Dropout(0.2))\n",
        "\n",
        "model.add(Conv2D(64, (3, 3)))\n",
        "model.add(Activation('relu'))\n",
        "model.add(MaxPooling2D(pool_size=(2, 2)))\n",
        "model.add(Dropout(0.2))\n",
        "\n",
        "#flatten layer\n",
        "model.add(Flatten()) # Output convert into one dimension layer and will go to Dense layer\n",
        "model.add(Dense(64))\n",
        "model.add(Activation('relu'))\n",
        "model.add(Dropout(0.5))\n",
        "model.add(Dense(1))\n",
        "model.add(Dense(3, activation='softmax'))"
      ],
      "execution_count": 57,
      "outputs": []
    },
    {
      "cell_type": "code",
      "metadata": {
        "id": "82s7PNPJQKot",
        "colab_type": "code",
        "colab": {
          "base_uri": "https://localhost:8080/",
          "height": 765
        },
        "outputId": "c20fbd6c-7141-40a3-b472-2bc29e1d02b7"
      },
      "source": [
        "model.summary()"
      ],
      "execution_count": 58,
      "outputs": [
        {
          "output_type": "stream",
          "text": [
            "Model: \"sequential_1\"\n",
            "_________________________________________________________________\n",
            "Layer (type)                 Output Shape              Param #   \n",
            "=================================================================\n",
            "conv2d_1 (Conv2D)            (None, 148, 148, 32)      896       \n",
            "_________________________________________________________________\n",
            "activation_1 (Activation)    (None, 148, 148, 32)      0         \n",
            "_________________________________________________________________\n",
            "max_pooling2d_1 (MaxPooling2 (None, 74, 74, 32)        0         \n",
            "_________________________________________________________________\n",
            "dropout_1 (Dropout)          (None, 74, 74, 32)        0         \n",
            "_________________________________________________________________\n",
            "conv2d_2 (Conv2D)            (None, 72, 72, 32)        9248      \n",
            "_________________________________________________________________\n",
            "activation_2 (Activation)    (None, 72, 72, 32)        0         \n",
            "_________________________________________________________________\n",
            "max_pooling2d_2 (MaxPooling2 (None, 36, 36, 32)        0         \n",
            "_________________________________________________________________\n",
            "dropout_2 (Dropout)          (None, 36, 36, 32)        0         \n",
            "_________________________________________________________________\n",
            "conv2d_3 (Conv2D)            (None, 34, 34, 64)        18496     \n",
            "_________________________________________________________________\n",
            "activation_3 (Activation)    (None, 34, 34, 64)        0         \n",
            "_________________________________________________________________\n",
            "max_pooling2d_3 (MaxPooling2 (None, 17, 17, 64)        0         \n",
            "_________________________________________________________________\n",
            "dropout_3 (Dropout)          (None, 17, 17, 64)        0         \n",
            "_________________________________________________________________\n",
            "flatten_1 (Flatten)          (None, 18496)             0         \n",
            "_________________________________________________________________\n",
            "dense_1 (Dense)              (None, 64)                1183808   \n",
            "_________________________________________________________________\n",
            "activation_4 (Activation)    (None, 64)                0         \n",
            "_________________________________________________________________\n",
            "dropout_4 (Dropout)          (None, 64)                0         \n",
            "_________________________________________________________________\n",
            "dense_2 (Dense)              (None, 1)                 65        \n",
            "_________________________________________________________________\n",
            "dense_3 (Dense)              (None, 3)                 6         \n",
            "=================================================================\n",
            "Total params: 1,212,519\n",
            "Trainable params: 1,212,519\n",
            "Non-trainable params: 0\n",
            "_________________________________________________________________\n"
          ],
          "name": "stdout"
        }
      ]
    },
    {
      "cell_type": "code",
      "metadata": {
        "id": "E_BMV_07QPoD",
        "colab_type": "code",
        "colab": {}
      },
      "source": [
        "from keras.optimizers import Adam\n",
        "opt = Adam(lr=0.001)\n",
        "model.compile(optimizer=opt, loss='categorical_crossentropy', metrics=['accuracy'])"
      ],
      "execution_count": 59,
      "outputs": []
    },
    {
      "cell_type": "code",
      "metadata": {
        "id": "Wr3uBb4-QXmD",
        "colab_type": "code",
        "colab": {
          "base_uri": "https://localhost:8080/",
          "height": 697
        },
        "outputId": "50f115ba-5243-4aaa-9a94-acc3300bf21f"
      },
      "source": [
        "history=model.fit_generator(\n",
        "    train_generator,\n",
        "    steps_per_epoch=nb_train_samples//batch_size,\n",
        "    epochs=epochs,\n",
        "    validation_data=validation_generator,\n",
        "    validation_steps=nb_validation_samples//batch_size)"
      ],
      "execution_count": 60,
      "outputs": [
        {
          "output_type": "stream",
          "text": [
            "Epoch 1/20\n",
            "59/59 [==============================] - 46s 783ms/step - loss: 1.1169 - accuracy: 0.4258 - val_loss: 0.9235 - val_accuracy: 0.6181\n",
            "Epoch 2/20\n",
            "59/59 [==============================] - 42s 705ms/step - loss: 0.7717 - accuracy: 0.5880 - val_loss: 0.8358 - val_accuracy: 0.6389\n",
            "Epoch 3/20\n",
            "59/59 [==============================] - 6s 103ms/step - loss: 0.7320 - accuracy: 0.5763 - val_loss: 0.6608 - val_accuracy: 0.6667\n",
            "Epoch 4/20\n",
            "59/59 [==============================] - 1s 24ms/step - loss: 0.6674 - accuracy: 0.6314 - val_loss: 0.5685 - val_accuracy: 0.6250\n",
            "Epoch 5/20\n",
            "59/59 [==============================] - 2s 27ms/step - loss: 0.6389 - accuracy: 0.6524 - val_loss: 0.7191 - val_accuracy: 0.5926\n",
            "Epoch 6/20\n",
            "59/59 [==============================] - 1s 24ms/step - loss: 0.6059 - accuracy: 0.6780 - val_loss: 0.6985 - val_accuracy: 0.5417\n",
            "Epoch 7/20\n",
            "59/59 [==============================] - 2s 26ms/step - loss: 0.5703 - accuracy: 0.6843 - val_loss: 0.8907 - val_accuracy: 0.6296\n",
            "Epoch 8/20\n",
            "59/59 [==============================] - 1s 24ms/step - loss: 0.6020 - accuracy: 0.6377 - val_loss: 0.6420 - val_accuracy: 0.6319\n",
            "Epoch 9/20\n",
            "59/59 [==============================] - 2s 26ms/step - loss: 0.5290 - accuracy: 0.7436 - val_loss: 0.5760 - val_accuracy: 0.5778\n",
            "Epoch 10/20\n",
            "59/59 [==============================] - 1s 25ms/step - loss: 0.5389 - accuracy: 0.7140 - val_loss: 1.2186 - val_accuracy: 0.5625\n",
            "Epoch 11/20\n",
            "59/59 [==============================] - 1s 25ms/step - loss: 0.5257 - accuracy: 0.7161 - val_loss: 0.6413 - val_accuracy: 0.7153\n",
            "Epoch 12/20\n",
            "59/59 [==============================] - 2s 28ms/step - loss: 0.4681 - accuracy: 0.7704 - val_loss: 0.6057 - val_accuracy: 0.6667\n",
            "Epoch 13/20\n",
            "59/59 [==============================] - 1s 24ms/step - loss: 0.5000 - accuracy: 0.8030 - val_loss: 0.5731 - val_accuracy: 0.6389\n",
            "Epoch 14/20\n",
            "59/59 [==============================] - 2s 28ms/step - loss: 0.4543 - accuracy: 0.8008 - val_loss: 0.3358 - val_accuracy: 0.7259\n",
            "Epoch 15/20\n",
            "59/59 [==============================] - 1s 24ms/step - loss: 0.4194 - accuracy: 0.8242 - val_loss: 1.2001 - val_accuracy: 0.6597\n",
            "Epoch 16/20\n",
            "59/59 [==============================] - 2s 27ms/step - loss: 0.4132 - accuracy: 0.8519 - val_loss: 0.2873 - val_accuracy: 0.7630\n",
            "Epoch 17/20\n",
            "59/59 [==============================] - 1s 24ms/step - loss: 0.5126 - accuracy: 0.7818 - val_loss: 0.7659 - val_accuracy: 0.7292\n",
            "Epoch 18/20\n",
            "59/59 [==============================] - 1s 25ms/step - loss: 0.3984 - accuracy: 0.8670 - val_loss: 0.5018 - val_accuracy: 0.6889\n",
            "Epoch 19/20\n",
            "59/59 [==============================] - 2s 26ms/step - loss: 0.5031 - accuracy: 0.8114 - val_loss: 0.6610 - val_accuracy: 0.6944\n",
            "Epoch 20/20\n",
            "59/59 [==============================] - 1s 24ms/step - loss: 0.3917 - accuracy: 0.8305 - val_loss: 0.5155 - val_accuracy: 0.6815\n"
          ],
          "name": "stdout"
        }
      ]
    },
    {
      "cell_type": "code",
      "metadata": {
        "id": "A_hXZKvmQjwp",
        "colab_type": "code",
        "colab": {}
      },
      "source": [
        "#model saving\n",
        "model.save('Model.h5')"
      ],
      "execution_count": 61,
      "outputs": []
    },
    {
      "cell_type": "code",
      "metadata": {
        "id": "rPXr4D2zRQ7v",
        "colab_type": "code",
        "colab": {
          "base_uri": "https://localhost:8080/",
          "height": 573
        },
        "outputId": "771f8168-461a-47e6-a5a8-dd95f30ef1ad"
      },
      "source": [
        "# Plot training & validation accuracy values\n",
        "import matplotlib.pyplot as plt\n",
        "%matplotlib inline\n",
        "plt.plot(history.history['accuracy'])\n",
        "plt.plot(history.history['val_accuracy'])\n",
        "plt.title('Model accuracy')\n",
        "plt.ylabel('Accuracy')\n",
        "plt.xlabel('Epoch')\n",
        "plt.legend(['Train', 'Val'], loc='upper left')\n",
        "plt.show()\n",
        "\n",
        "# Plot training & validation loss values\n",
        "plt.plot(history.history['loss'])\n",
        "plt.plot(history.history['val_loss'])\n",
        "plt.title('Model loss')\n",
        "plt.ylabel('Loss')\n",
        "plt.xlabel('Epoch')\n",
        "plt.legend(['Train', 'Val'], loc='upper left')\n",
        "plt.show()"
      ],
      "execution_count": 62,
      "outputs": [
        {
          "output_type": "display_data",
          "data": {
            "image/png": "[encoded data removed]",
            "text/plain": [
              "<Figure size 432x288 with 1 Axes>"
            ]
          },
          "metadata": {
            "tags": [],
            "needs_background": "light"
          }
        },
        {
          "output_type": "display_data",
          "data": {
            "image/png": "[encoded data removed]",
            "text/plain": [
              "<Figure size 432x288 with 1 Axes>"
            ]
          },
          "metadata": {
            "tags": [],
            "needs_background": "light"
          }
        }
      ]
    },
    {
      "cell_type": "code",
      "metadata": {
        "id": "uHpcjyUkRYkV",
        "colab_type": "code",
        "colab": {}
      },
      "source": [
        ""
      ],
      "execution_count": null,
      "outputs": []
    }
  ]
}